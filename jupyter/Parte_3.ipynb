{
  "nbformat": 4,
  "nbformat_minor": 0,
  "metadata": {
    "colab": {
      "name": "Parte 3.ipynb",
      "provenance": [],
      "collapsed_sections": []
    },
    "kernelspec": {
      "name": "python3",
      "display_name": "Python 3"
    },
    "language_info": {
      "name": "python"
    }
  },
  "cells": [
    {
      "cell_type": "markdown",
      "source": [
        "# Informações dos dados obtidos.\n",
        "\n",
        "O conjunto de dados contém 9358 resultados médios de 5 sensores químicos de um dispositivo multisensor (PTXX.SX). O dispositivo estava localizado a nível da rua, dentro de uma cidade significativamente poluída. Os dados foram registrados de março de 2004 a fevereiro de 2005 (um ano). Valores ausentes são marcados com o valor -200. A medida de outros sensores também está disponível e algumas podem ser redundantes. ***A variável chave a ser analisada é PT08.S1 (CO), concentração de CO na atmosfera.***\n",
        "Informação das colunas:\n",
        "\n",
        "1.  Date (DD/MM/YYYY)\n",
        "2.  Time (HH.MM.SS)\n",
        "3.  PT08.S1 (CO) – Variável de predição\n",
        "4.  Non Metanic HydroCarbons Concentration (mg/m^3)\n",
        "5.  Benzene Concentration (mg/m^3)\n",
        "6.  PT08.S2 (NMHC)\n",
        "7.  NOx Concentration (ppb)\n",
        "8.  PT08.S3 (NOx)\n",
        "9.  NO2 Concentration (mg/m^3)\n",
        "10. PT08.S4 (NO2s)\n",
        "11. PT08.S5 (O3)\n",
        "12. Temperature (C)\n",
        "13. Relative Humidity (%)\n",
        "14. AH Absolute Humidity\n",
        "15. Dia da Semana\t\n",
        "16. Mês\n",
        "17. Estações\n",
        "18. Target_log\n",
        "19. Target_log_dff_1\n",
        "20. Target_log_dff_2\n",
        "21. Target_log_dff_3  \n"
      ],
      "metadata": {
        "id": "_oe_OeOQZbVw"
      }
    },
    {
      "cell_type": "markdown",
      "source": [
        "# Objetivo.\n",
        " \n",
        "A primeira parte foi encarregada de tratar os dados disponibilizados e a segunda parte está encarregada de analisá-los. Agora será testado a melhor maneira de codificar as variáveis categóricas e aplicação de algumas transformações nos dados. Para fazer isso será adotado uma metodologia que será descrita a seguir.\n",
        " \n",
        "* Lembrando que o objetivo principal é de prever a concentração de carbono a uma hora no futuro.\n",
        " \n",
        "* **Observação esse algoritmo não está projetado para previsão de um horizonte de mais de uma hora**."
      ],
      "metadata": {
        "id": "STGVVQxkZhCF"
      }
    },
    {
      "cell_type": "markdown",
      "source": [
        "# Metodologia.\n",
        "### Parte 1.\n",
        " \n",
        "* Na parte 1 será encarregada de testar a codificação que apresenta o melhor resultado para o modelo.\n",
        " \n",
        "* Será escolhido um modelo de machine learning como base, no caso será floresta aleatória. Ele foi escolhido pela sua dificuldade em sobreajustar aos dados.\n",
        " \n",
        "* Depois disso todas as variáveis categóricas passaram por transformações:\n",
        " * Banco de dados 1: Estações -> Labelenconder, Dias da semana - > Labelencoder.\n",
        " * Banco de dados 2: Estações -> get_dummies, Dias da semana - > Labelencoder.\n",
        " * Banco de dados 3: Estações -> Labelencoder, Dias da semana - > get_dummies.\n",
        " * Banco de dados 4: Estações -> get_dummies, Dias da semana - > get_dummies.\n",
        " \n",
        " \n",
        "* Após ele passa por essas transformações o modelo de arvore aleatória será avaliado pela validação cruzada (**respeitando a dependência temporal dos dados**) e será avaliado por essa métrica:\n",
        " \n",
        " * MAPE -> O erro absoluto percentual médio (MAPE) é um dos mais usados na Estatística por ser de fácil compreensão. Esta medida expressa a porcentagem média dos erros (em valor absoluto) cometidos na previsão de um regressão; quanto menor esta medida, melhor será a previsão. Referêência https://www.ufjf.br/cursoestatistica/files/2015/05/Compara%C3%A7%C3%A3o-de-diferentes-m%C3%A9todos-de-previs%C3%A3o-em-s%C3%A9ries-temporais-com-valores-discrepantes.pdf\n",
        " \n",
        "### Parte 2.\n",
        " \n",
        "* Foi visto que algumas variáveis apresentam algum comportamento quadrático ou logaritmo em relação aos dados de Target. Logo uma transformação básica nesses dados pode fazer com que a relação entre elas e o Target seja mais próxima do linear e diminua a variância deles. Sendo assim será aplicado algumas transformações nos dados para ver se o desempenho do modelo de regressão base será melhorado.\n",
        " \n",
        "### Extra\n",
        "* Neste trabalho também será visto se a presença de outliner prejudica o desempenho do modelo base.\n",
        " \n",
        " \n",
        "\n"
      ],
      "metadata": {
        "id": "-fzqqE-AStbf"
      }
    },
    {
      "cell_type": "markdown",
      "source": [
        "# Funções."
      ],
      "metadata": {
        "id": "2Nml7K2laqrQ"
      }
    },
    {
      "cell_type": "code",
      "source": [
        ""
      ],
      "metadata": {
        "id": "ph0l3SFIiiI1"
      },
      "execution_count": null,
      "outputs": []
    },
    {
      "cell_type": "code",
      "source": [
        "def sep_dados(d,col):\n",
        "  X_teste = d[d['Date'] > '2004-12-01']\n",
        "  X_train = d[d['Date'] <= '2004-12-01']\n",
        "\n",
        "  Y_teste = d[col][d['Date'] > '2004-12-01']\n",
        "  Y_train = d[col][d['Date'] <= '2004-12-01']\n",
        "  \n",
        "  X_train = X_train.drop(columns = ['Date','Target_log'])\n",
        "  X_teste = X_teste.drop(columns = ['Date','Target_log'])\n",
        "\n",
        "  Y_train = Y_train.drop(columns = 'Date')\n",
        "  Y_teste = Y_teste.drop(columns = 'Date')\n",
        "\n",
        "  return X_train,X_teste,Y_train,Y_teste\n",
        "\n",
        "def label_encoder(d,col):\n",
        "  enc      = LabelEncoder()\n",
        "  enc      = enc.fit(df1[col])\n",
        "  inteiros = enc.fit_transform(d[col])\n",
        "  d[col]   = inteiros\n",
        "  return d\n",
        "\n",
        "def dummies_var(dados,coluna):\n",
        "  df_aux = dados\n",
        "  df_aux = df_aux.join(pd.get_dummies(df_aux[coluna], prefix=coluna))\n",
        "  df_aux = df_aux.drop(columns=coluna)\n",
        "\n",
        "  return df_aux\n",
        "\n",
        "def MAPE(y_pred,Y_teste):\n",
        "  return np.mean(100*np.abs(y_pred - Y_teste)/np.abs(Y_teste))\n",
        "\n",
        "def cat_TargetEncoder(X_train,X_teste,Y_train,col,flag):\n",
        "\n",
        "  if flag == 1:\n",
        "    for i in range(len(col)):\n",
        "      tenc = TargetEncoder()\n",
        "      X_train[col[i]] = tenc.fit_transform(X_train[col[i]], Y_train)\n",
        "      X_teste[col[i]] = tenc.transform(X_teste[col[i]])\n",
        "\n",
        "  if flag == 0:\n",
        "      tenc = TargetEncoder()\n",
        "      X_train[col] = tenc.fit_transform(X_train[col], Y_train)\n",
        "      X_teste[col] = tenc.transform(X_teste[col])\n",
        "\n",
        "  return X_train,X_teste\n",
        "\n",
        "def modelo(model,X_train,Y_train,X_teste,Y_teste):\n",
        "  # treinado e avaliando o modelo\n",
        "  md       = model.fit(X_train, Y_train)\n",
        "  y_pred   = md.predict(X_teste)\n",
        "  y_pred   = 10**y_pred\n",
        "  Y_teste  = 10**Y_teste\n",
        "  resultado = MAPE(y_pred,Y_teste)\n",
        "  bias      = np.mean(y_pred-Y_teste)\n",
        "  erro      = np.abs(y_pred-Y_teste)\n",
        "  return resultado,bias,erro\n",
        "\n",
        "def winsorize(Y_train,corte1,corte2):\n",
        "  winsor_lower = np.percentile(Y_train, corte1) \n",
        "  winsor_upper = np.percentile(Y_train, corte2)\n",
        "  Y_train_n   = Y_train1.clip(lower=winsor_lower, upper=winsor_upper)\n",
        "  return Y_train_n\n",
        "\n",
        "\n",
        "def MAPE(y_pred,Y_teste):\n",
        "  return np.mean(100*np.abs(y_pred - Y_teste)/np.abs(Y_teste))\n",
        "\n",
        "\n",
        "def validation(X,Y,Date):\n",
        "  Ypred = []\n",
        "  Yv    = []\n",
        "  tscv = TimeSeriesSplit(n_splits=10)\n",
        "  vetor_MAPE = np.zeros(10) \n",
        "  i = 0\n",
        "  for linhas_treino, linhas_valid in tscv.split(X):    \n",
        "    X_t, X_v = X.iloc[linhas_treino], X.iloc[linhas_valid]\n",
        "    y_t, y_v = Y[linhas_treino], Y[linhas_valid]\n",
        "\n",
        "    md                    = model.fit(X_t, y_t)\n",
        "    y_pred                = md.predict(X_v)\n",
        "\n",
        "    y_pred = 10**y_pred\n",
        "    y_v    = 10**y_v\n",
        "    Ypred.append(y_pred)\n",
        "    Yv.append(y_v)\n",
        "\n",
        "    mape = MAPE(y_pred,y_v)\n",
        "    vetor_MAPE[i] = mape\n",
        "    i = i + 1\n",
        "    print('Data:',Date[linhas_valid[0]],'-',Date[linhas_valid[-1]], '->', 'MAPE:',np.format_float_positional(mape,5))\n",
        "\n",
        "  print(\"\\n\")\n",
        "  print('Mape Geral:',np.format_float_positional(np.mean(vetor_MAPE),5),'Std:',np.format_float_positional(np.std(vetor_MAPE),5),'Erro:',np.format_float_positional(np.std(vetor_MAPE)/np.sqrt(10),5))\n",
        "\n",
        "  return Ypred,Yv,vetor_MAPE"
      ],
      "metadata": {
        "id": "V1WYP5IOayeH"
      },
      "execution_count": null,
      "outputs": []
    },
    {
      "cell_type": "markdown",
      "source": [
        "# Bibliotecas"
      ],
      "metadata": {
        "id": "34BewiWFaHNk"
      }
    },
    {
      "cell_type": "code",
      "source": [
        "# import pandas as pd\n",
        "import numpy as np\n",
        "import pandas as pd \n",
        "import matplotlib.pyplot as plt\n",
        "%matplotlib inline\n",
        "from google.colab import drive\n",
        "drive.mount('/content/drive')\n",
        "import seaborn as sns\n",
        "import statsmodels.tsa.stattools\n",
        "import scipy.stats as stats\n",
        "from statsmodels.graphics.tsaplots import plot_acf, plot_pacf\n",
        "sns.set_style(\"whitegrid\")\n",
        "import statistics\n",
        "from sklearn.preprocessing import LabelEncoder\n",
        "from sklearn.ensemble import RandomForestRegressor\n",
        "from sklearn.model_selection import TimeSeriesSplit\n",
        "from scipy.stats import wilcoxon\n",
        "from sklearn.linear_model import LinearRegression"
      ],
      "metadata": {
        "colab": {
          "base_uri": "https://localhost:8080/"
        },
        "id": "TL77Qq_3aKly",
        "outputId": "e5e55ce8-b49f-464e-d1ea-868fc406cb58"
      },
      "execution_count": null,
      "outputs": [
        {
          "output_type": "stream",
          "name": "stdout",
          "text": [
            "Mounted at /content/drive\n"
          ]
        },
        {
          "output_type": "stream",
          "name": "stderr",
          "text": [
            "/usr/local/lib/python3.7/dist-packages/statsmodels/tools/_testing.py:19: FutureWarning: pandas.util.testing is deprecated. Use the functions in the public API at pandas.testing instead.\n",
            "  import pandas.util.testing as tm\n"
          ]
        }
      ]
    },
    {
      "cell_type": "markdown",
      "source": [
        "# Importado os dados"
      ],
      "metadata": {
        "id": "c_a99nBaZ_Iu"
      }
    },
    {
      "cell_type": "code",
      "source": [
        "df = pd.read_csv('/content/drive/My Drive/new_dados2.csv',encoding = \"UTF-8\")"
      ],
      "metadata": {
        "id": "rARbLDN6ZZSy"
      },
      "execution_count": null,
      "outputs": []
    },
    {
      "cell_type": "code",
      "source": [
        "df.head() # visualizando os dados."
      ],
      "metadata": {
        "id": "NeXFE5NVaC_t",
        "colab": {
          "base_uri": "https://localhost:8080/",
          "height": 374
        },
        "outputId": "c2a70ab1-5403-45c6-8dbb-cb57a5fa3dc9"
      },
      "execution_count": null,
      "outputs": [
        {
          "output_type": "execute_result",
          "data": {
            "text/html": [
              "\n",
              "  <div id=\"df-16255b19-c03c-4c8d-adae-a30b88fe5117\">\n",
              "    <div class=\"colab-df-container\">\n",
              "      <div>\n",
              "<style scoped>\n",
              "    .dataframe tbody tr th:only-of-type {\n",
              "        vertical-align: middle;\n",
              "    }\n",
              "\n",
              "    .dataframe tbody tr th {\n",
              "        vertical-align: top;\n",
              "    }\n",
              "\n",
              "    .dataframe thead th {\n",
              "        text-align: right;\n",
              "    }\n",
              "</style>\n",
              "<table border=\"1\" class=\"dataframe\">\n",
              "  <thead>\n",
              "    <tr style=\"text-align: right;\">\n",
              "      <th></th>\n",
              "      <th>Unnamed: 0</th>\n",
              "      <th>Date</th>\n",
              "      <th>Time</th>\n",
              "      <th>PT08.S1(CO)</th>\n",
              "      <th>C6H6(GT)</th>\n",
              "      <th>PT08.S2(NMHC)</th>\n",
              "      <th>NOx(GT)</th>\n",
              "      <th>PT08.S3(NOx)</th>\n",
              "      <th>NO2(GT)</th>\n",
              "      <th>PT08.S4(NO2)</th>\n",
              "      <th>PT08.S5(O3)</th>\n",
              "      <th>T</th>\n",
              "      <th>RH</th>\n",
              "      <th>AH</th>\n",
              "      <th>Dia da Semana</th>\n",
              "      <th>Mês</th>\n",
              "      <th>Estações</th>\n",
              "      <th>Target_log</th>\n",
              "      <th>Target_log_dff_1</th>\n",
              "      <th>Target_log_dff_2</th>\n",
              "      <th>Target_log_dff_3</th>\n",
              "    </tr>\n",
              "  </thead>\n",
              "  <tbody>\n",
              "    <tr>\n",
              "      <th>0</th>\n",
              "      <td>0</td>\n",
              "      <td>2004-03-10</td>\n",
              "      <td>18</td>\n",
              "      <td>1360</td>\n",
              "      <td>11.9</td>\n",
              "      <td>1046</td>\n",
              "      <td>166.0</td>\n",
              "      <td>1056</td>\n",
              "      <td>113.0</td>\n",
              "      <td>1692</td>\n",
              "      <td>1268</td>\n",
              "      <td>13.6</td>\n",
              "      <td>48.9</td>\n",
              "      <td>0.7578</td>\n",
              "      <td>2</td>\n",
              "      <td>3</td>\n",
              "      <td>Primavera</td>\n",
              "      <td>3.133539</td>\n",
              "      <td>NaN</td>\n",
              "      <td>NaN</td>\n",
              "      <td>NaN</td>\n",
              "    </tr>\n",
              "    <tr>\n",
              "      <th>1</th>\n",
              "      <td>1</td>\n",
              "      <td>2004-03-10</td>\n",
              "      <td>19</td>\n",
              "      <td>1292</td>\n",
              "      <td>9.4</td>\n",
              "      <td>955</td>\n",
              "      <td>103.0</td>\n",
              "      <td>1174</td>\n",
              "      <td>92.0</td>\n",
              "      <td>1559</td>\n",
              "      <td>972</td>\n",
              "      <td>13.3</td>\n",
              "      <td>47.7</td>\n",
              "      <td>0.7255</td>\n",
              "      <td>2</td>\n",
              "      <td>3</td>\n",
              "      <td>Primavera</td>\n",
              "      <td>3.111263</td>\n",
              "      <td>3.133539</td>\n",
              "      <td>NaN</td>\n",
              "      <td>NaN</td>\n",
              "    </tr>\n",
              "    <tr>\n",
              "      <th>2</th>\n",
              "      <td>2</td>\n",
              "      <td>2004-03-10</td>\n",
              "      <td>20</td>\n",
              "      <td>1402</td>\n",
              "      <td>9.0</td>\n",
              "      <td>939</td>\n",
              "      <td>131.0</td>\n",
              "      <td>1140</td>\n",
              "      <td>114.0</td>\n",
              "      <td>1555</td>\n",
              "      <td>1074</td>\n",
              "      <td>11.9</td>\n",
              "      <td>54.0</td>\n",
              "      <td>0.7502</td>\n",
              "      <td>2</td>\n",
              "      <td>3</td>\n",
              "      <td>Primavera</td>\n",
              "      <td>3.146748</td>\n",
              "      <td>3.111263</td>\n",
              "      <td>3.133539</td>\n",
              "      <td>NaN</td>\n",
              "    </tr>\n",
              "    <tr>\n",
              "      <th>3</th>\n",
              "      <td>3</td>\n",
              "      <td>2004-03-10</td>\n",
              "      <td>21</td>\n",
              "      <td>1376</td>\n",
              "      <td>9.2</td>\n",
              "      <td>948</td>\n",
              "      <td>172.0</td>\n",
              "      <td>1092</td>\n",
              "      <td>122.0</td>\n",
              "      <td>1584</td>\n",
              "      <td>1203</td>\n",
              "      <td>11.0</td>\n",
              "      <td>60.0</td>\n",
              "      <td>0.7867</td>\n",
              "      <td>2</td>\n",
              "      <td>3</td>\n",
              "      <td>Primavera</td>\n",
              "      <td>3.138618</td>\n",
              "      <td>3.146748</td>\n",
              "      <td>3.111263</td>\n",
              "      <td>3.133539</td>\n",
              "    </tr>\n",
              "    <tr>\n",
              "      <th>4</th>\n",
              "      <td>4</td>\n",
              "      <td>2004-03-10</td>\n",
              "      <td>22</td>\n",
              "      <td>1272</td>\n",
              "      <td>6.5</td>\n",
              "      <td>836</td>\n",
              "      <td>131.0</td>\n",
              "      <td>1205</td>\n",
              "      <td>116.0</td>\n",
              "      <td>1490</td>\n",
              "      <td>1110</td>\n",
              "      <td>11.2</td>\n",
              "      <td>59.6</td>\n",
              "      <td>0.7888</td>\n",
              "      <td>2</td>\n",
              "      <td>3</td>\n",
              "      <td>Primavera</td>\n",
              "      <td>3.104487</td>\n",
              "      <td>3.138618</td>\n",
              "      <td>3.146748</td>\n",
              "      <td>3.111263</td>\n",
              "    </tr>\n",
              "  </tbody>\n",
              "</table>\n",
              "</div>\n",
              "      <button class=\"colab-df-convert\" onclick=\"convertToInteractive('df-16255b19-c03c-4c8d-adae-a30b88fe5117')\"\n",
              "              title=\"Convert this dataframe to an interactive table.\"\n",
              "              style=\"display:none;\">\n",
              "        \n",
              "  <svg xmlns=\"http://www.w3.org/2000/svg\" height=\"24px\"viewBox=\"0 0 24 24\"\n",
              "       width=\"24px\">\n",
              "    <path d=\"M0 0h24v24H0V0z\" fill=\"none\"/>\n",
              "    <path d=\"M18.56 5.44l.94 2.06.94-2.06 2.06-.94-2.06-.94-.94-2.06-.94 2.06-2.06.94zm-11 1L8.5 8.5l.94-2.06 2.06-.94-2.06-.94L8.5 2.5l-.94 2.06-2.06.94zm10 10l.94 2.06.94-2.06 2.06-.94-2.06-.94-.94-2.06-.94 2.06-2.06.94z\"/><path d=\"M17.41 7.96l-1.37-1.37c-.4-.4-.92-.59-1.43-.59-.52 0-1.04.2-1.43.59L10.3 9.45l-7.72 7.72c-.78.78-.78 2.05 0 2.83L4 21.41c.39.39.9.59 1.41.59.51 0 1.02-.2 1.41-.59l7.78-7.78 2.81-2.81c.8-.78.8-2.07 0-2.86zM5.41 20L4 18.59l7.72-7.72 1.47 1.35L5.41 20z\"/>\n",
              "  </svg>\n",
              "      </button>\n",
              "      \n",
              "  <style>\n",
              "    .colab-df-container {\n",
              "      display:flex;\n",
              "      flex-wrap:wrap;\n",
              "      gap: 12px;\n",
              "    }\n",
              "\n",
              "    .colab-df-convert {\n",
              "      background-color: #E8F0FE;\n",
              "      border: none;\n",
              "      border-radius: 50%;\n",
              "      cursor: pointer;\n",
              "      display: none;\n",
              "      fill: #1967D2;\n",
              "      height: 32px;\n",
              "      padding: 0 0 0 0;\n",
              "      width: 32px;\n",
              "    }\n",
              "\n",
              "    .colab-df-convert:hover {\n",
              "      background-color: #E2EBFA;\n",
              "      box-shadow: 0px 1px 2px rgba(60, 64, 67, 0.3), 0px 1px 3px 1px rgba(60, 64, 67, 0.15);\n",
              "      fill: #174EA6;\n",
              "    }\n",
              "\n",
              "    [theme=dark] .colab-df-convert {\n",
              "      background-color: #3B4455;\n",
              "      fill: #D2E3FC;\n",
              "    }\n",
              "\n",
              "    [theme=dark] .colab-df-convert:hover {\n",
              "      background-color: #434B5C;\n",
              "      box-shadow: 0px 1px 3px 1px rgba(0, 0, 0, 0.15);\n",
              "      filter: drop-shadow(0px 1px 2px rgba(0, 0, 0, 0.3));\n",
              "      fill: #FFFFFF;\n",
              "    }\n",
              "  </style>\n",
              "\n",
              "      <script>\n",
              "        const buttonEl =\n",
              "          document.querySelector('#df-16255b19-c03c-4c8d-adae-a30b88fe5117 button.colab-df-convert');\n",
              "        buttonEl.style.display =\n",
              "          google.colab.kernel.accessAllowed ? 'block' : 'none';\n",
              "\n",
              "        async function convertToInteractive(key) {\n",
              "          const element = document.querySelector('#df-16255b19-c03c-4c8d-adae-a30b88fe5117');\n",
              "          const dataTable =\n",
              "            await google.colab.kernel.invokeFunction('convertToInteractive',\n",
              "                                                     [key], {});\n",
              "          if (!dataTable) return;\n",
              "\n",
              "          const docLinkHtml = 'Like what you see? Visit the ' +\n",
              "            '<a target=\"_blank\" href=https://colab.research.google.com/notebooks/data_table.ipynb>data table notebook</a>'\n",
              "            + ' to learn more about interactive tables.';\n",
              "          element.innerHTML = '';\n",
              "          dataTable['output_type'] = 'display_data';\n",
              "          await google.colab.output.renderOutput(dataTable, element);\n",
              "          const docLink = document.createElement('div');\n",
              "          docLink.innerHTML = docLinkHtml;\n",
              "          element.appendChild(docLink);\n",
              "        }\n",
              "      </script>\n",
              "    </div>\n",
              "  </div>\n",
              "  "
            ],
            "text/plain": [
              "   Unnamed: 0        Date  ...  Target_log_dff_2  Target_log_dff_3\n",
              "0           0  2004-03-10  ...               NaN               NaN\n",
              "1           1  2004-03-10  ...               NaN               NaN\n",
              "2           2  2004-03-10  ...          3.133539               NaN\n",
              "3           3  2004-03-10  ...          3.111263          3.133539\n",
              "4           4  2004-03-10  ...          3.146748          3.111263\n",
              "\n",
              "[5 rows x 21 columns]"
            ]
          },
          "metadata": {},
          "execution_count": 5
        }
      ]
    },
    {
      "cell_type": "code",
      "source": [
        "df =df.drop(columns = ['Unnamed: 0','PT08.S1(CO)']) # Excluido colunas que não estão adicionado informações redundate."
      ],
      "metadata": {
        "id": "2W13ZpyJKTYf"
      },
      "execution_count": null,
      "outputs": []
    },
    {
      "cell_type": "markdown",
      "source": [
        "* Antes de realizar qualquer análise os dados serão deslocados para provocar o efeito da previsão temporal nos dados."
      ],
      "metadata": {
        "id": "VeAjuKWwdRB1"
      }
    },
    {
      "cell_type": "code",
      "source": [
        "ind = ['PT08.S2(NMHC)', 'NOx(GT)', 'PT08.S3(NOx)','NO2(GT)', 'PT08.S4(NO2)', 'PT08.S5(O3)', 'T', 'RH', 'AH']"
      ],
      "metadata": {
        "id": "_CVPnrc9danw"
      },
      "execution_count": null,
      "outputs": []
    },
    {
      "cell_type": "code",
      "source": [
        "for i in range(len(ind)):\n",
        "  df[ind[i]] = df[ind[i]].shift(-1)"
      ],
      "metadata": {
        "id": "EpnfwOTEdYzN"
      },
      "execution_count": null,
      "outputs": []
    },
    {
      "cell_type": "code",
      "source": [
        "df=df.dropna()"
      ],
      "metadata": {
        "id": "httFr6OqdqZD"
      },
      "execution_count": null,
      "outputs": []
    },
    {
      "cell_type": "markdown",
      "source": [
        "# Parte 1"
      ],
      "metadata": {
        "id": "VLNtYeZATEa_"
      }
    },
    {
      "cell_type": "markdown",
      "source": [
        "* Será criado cópias dos datasets para poder trabalhar qual é o melhor maneira de modelar o banco de dados."
      ],
      "metadata": {
        "id": "ocZXKQECAfda"
      }
    },
    {
      "cell_type": "code",
      "source": [
        "df1 = df.copy()\n",
        "df2 = df.copy()\n",
        "df3 = df.copy()\n",
        "df4 = df.copy()"
      ],
      "metadata": {
        "id": "RqM_IgBtKZEh"
      },
      "execution_count": null,
      "outputs": []
    },
    {
      "cell_type": "markdown",
      "source": [
        "### Criando os datasets"
      ],
      "metadata": {
        "id": "tWWCi0tVLaO1"
      }
    },
    {
      "cell_type": "markdown",
      "source": [
        "* Banco de dados 1.\n",
        " * Estações -> Labelenconder\n",
        " * Dias da semana - > Labelencoder.\n",
        " \n",
        "\n"
      ],
      "metadata": {
        "id": "W4uodR2dey9V"
      }
    },
    {
      "cell_type": "code",
      "source": [
        "df1                                 = label_encoder(df1,'Estações')"
      ],
      "metadata": {
        "id": "hXj-BhpZLozj"
      },
      "execution_count": null,
      "outputs": []
    },
    {
      "cell_type": "code",
      "source": [
        "df1.index = np.arange(df1.shape[0])\n",
        "X1 = df1.drop(columns = ['Target_log','Date'])\n",
        "Y1 = df1['Target_log']"
      ],
      "metadata": {
        "id": "abJx4I3fpaK7"
      },
      "execution_count": null,
      "outputs": []
    },
    {
      "cell_type": "code",
      "source": [
        "df1.head(1)\n"
      ],
      "metadata": {
        "colab": {
          "base_uri": "https://localhost:8080/",
          "height": 179
        },
        "id": "5vMwvrXW_5Xu",
        "outputId": "4f659a67-8559-4631-ba9a-e309a8f5d6bb"
      },
      "execution_count": null,
      "outputs": [
        {
          "output_type": "execute_result",
          "data": {
            "text/html": [
              "\n",
              "  <div id=\"df-8b1e2a19-98fb-4e50-8586-d82fd2dbe602\">\n",
              "    <div class=\"colab-df-container\">\n",
              "      <div>\n",
              "<style scoped>\n",
              "    .dataframe tbody tr th:only-of-type {\n",
              "        vertical-align: middle;\n",
              "    }\n",
              "\n",
              "    .dataframe tbody tr th {\n",
              "        vertical-align: top;\n",
              "    }\n",
              "\n",
              "    .dataframe thead th {\n",
              "        text-align: right;\n",
              "    }\n",
              "</style>\n",
              "<table border=\"1\" class=\"dataframe\">\n",
              "  <thead>\n",
              "    <tr style=\"text-align: right;\">\n",
              "      <th></th>\n",
              "      <th>Date</th>\n",
              "      <th>Time</th>\n",
              "      <th>C6H6(GT)</th>\n",
              "      <th>PT08.S2(NMHC)</th>\n",
              "      <th>NOx(GT)</th>\n",
              "      <th>PT08.S3(NOx)</th>\n",
              "      <th>NO2(GT)</th>\n",
              "      <th>PT08.S4(NO2)</th>\n",
              "      <th>PT08.S5(O3)</th>\n",
              "      <th>T</th>\n",
              "      <th>RH</th>\n",
              "      <th>AH</th>\n",
              "      <th>Dia da Semana</th>\n",
              "      <th>Mês</th>\n",
              "      <th>Estações</th>\n",
              "      <th>Target_log</th>\n",
              "      <th>Target_log_dff_1</th>\n",
              "      <th>Target_log_dff_2</th>\n",
              "      <th>Target_log_dff_3</th>\n",
              "    </tr>\n",
              "  </thead>\n",
              "  <tbody>\n",
              "    <tr>\n",
              "      <th>0</th>\n",
              "      <td>2004-03-10</td>\n",
              "      <td>21</td>\n",
              "      <td>9.2</td>\n",
              "      <td>836.0</td>\n",
              "      <td>131.0</td>\n",
              "      <td>1205.0</td>\n",
              "      <td>116.0</td>\n",
              "      <td>1490.0</td>\n",
              "      <td>1110.0</td>\n",
              "      <td>11.2</td>\n",
              "      <td>59.6</td>\n",
              "      <td>0.7888</td>\n",
              "      <td>2</td>\n",
              "      <td>3</td>\n",
              "      <td>2</td>\n",
              "      <td>3.138618</td>\n",
              "      <td>3.146748</td>\n",
              "      <td>3.111263</td>\n",
              "      <td>3.133539</td>\n",
              "    </tr>\n",
              "  </tbody>\n",
              "</table>\n",
              "</div>\n",
              "      <button class=\"colab-df-convert\" onclick=\"convertToInteractive('df-8b1e2a19-98fb-4e50-8586-d82fd2dbe602')\"\n",
              "              title=\"Convert this dataframe to an interactive table.\"\n",
              "              style=\"display:none;\">\n",
              "        \n",
              "  <svg xmlns=\"http://www.w3.org/2000/svg\" height=\"24px\"viewBox=\"0 0 24 24\"\n",
              "       width=\"24px\">\n",
              "    <path d=\"M0 0h24v24H0V0z\" fill=\"none\"/>\n",
              "    <path d=\"M18.56 5.44l.94 2.06.94-2.06 2.06-.94-2.06-.94-.94-2.06-.94 2.06-2.06.94zm-11 1L8.5 8.5l.94-2.06 2.06-.94-2.06-.94L8.5 2.5l-.94 2.06-2.06.94zm10 10l.94 2.06.94-2.06 2.06-.94-2.06-.94-.94-2.06-.94 2.06-2.06.94z\"/><path d=\"M17.41 7.96l-1.37-1.37c-.4-.4-.92-.59-1.43-.59-.52 0-1.04.2-1.43.59L10.3 9.45l-7.72 7.72c-.78.78-.78 2.05 0 2.83L4 21.41c.39.39.9.59 1.41.59.51 0 1.02-.2 1.41-.59l7.78-7.78 2.81-2.81c.8-.78.8-2.07 0-2.86zM5.41 20L4 18.59l7.72-7.72 1.47 1.35L5.41 20z\"/>\n",
              "  </svg>\n",
              "      </button>\n",
              "      \n",
              "  <style>\n",
              "    .colab-df-container {\n",
              "      display:flex;\n",
              "      flex-wrap:wrap;\n",
              "      gap: 12px;\n",
              "    }\n",
              "\n",
              "    .colab-df-convert {\n",
              "      background-color: #E8F0FE;\n",
              "      border: none;\n",
              "      border-radius: 50%;\n",
              "      cursor: pointer;\n",
              "      display: none;\n",
              "      fill: #1967D2;\n",
              "      height: 32px;\n",
              "      padding: 0 0 0 0;\n",
              "      width: 32px;\n",
              "    }\n",
              "\n",
              "    .colab-df-convert:hover {\n",
              "      background-color: #E2EBFA;\n",
              "      box-shadow: 0px 1px 2px rgba(60, 64, 67, 0.3), 0px 1px 3px 1px rgba(60, 64, 67, 0.15);\n",
              "      fill: #174EA6;\n",
              "    }\n",
              "\n",
              "    [theme=dark] .colab-df-convert {\n",
              "      background-color: #3B4455;\n",
              "      fill: #D2E3FC;\n",
              "    }\n",
              "\n",
              "    [theme=dark] .colab-df-convert:hover {\n",
              "      background-color: #434B5C;\n",
              "      box-shadow: 0px 1px 3px 1px rgba(0, 0, 0, 0.15);\n",
              "      filter: drop-shadow(0px 1px 2px rgba(0, 0, 0, 0.3));\n",
              "      fill: #FFFFFF;\n",
              "    }\n",
              "  </style>\n",
              "\n",
              "      <script>\n",
              "        const buttonEl =\n",
              "          document.querySelector('#df-8b1e2a19-98fb-4e50-8586-d82fd2dbe602 button.colab-df-convert');\n",
              "        buttonEl.style.display =\n",
              "          google.colab.kernel.accessAllowed ? 'block' : 'none';\n",
              "\n",
              "        async function convertToInteractive(key) {\n",
              "          const element = document.querySelector('#df-8b1e2a19-98fb-4e50-8586-d82fd2dbe602');\n",
              "          const dataTable =\n",
              "            await google.colab.kernel.invokeFunction('convertToInteractive',\n",
              "                                                     [key], {});\n",
              "          if (!dataTable) return;\n",
              "\n",
              "          const docLinkHtml = 'Like what you see? Visit the ' +\n",
              "            '<a target=\"_blank\" href=https://colab.research.google.com/notebooks/data_table.ipynb>data table notebook</a>'\n",
              "            + ' to learn more about interactive tables.';\n",
              "          element.innerHTML = '';\n",
              "          dataTable['output_type'] = 'display_data';\n",
              "          await google.colab.output.renderOutput(dataTable, element);\n",
              "          const docLink = document.createElement('div');\n",
              "          docLink.innerHTML = docLinkHtml;\n",
              "          element.appendChild(docLink);\n",
              "        }\n",
              "      </script>\n",
              "    </div>\n",
              "  </div>\n",
              "  "
            ],
            "text/plain": [
              "         Date  Time  ...  Target_log_dff_2  Target_log_dff_3\n",
              "0  2004-03-10    21  ...          3.111263          3.133539\n",
              "\n",
              "[1 rows x 19 columns]"
            ]
          },
          "metadata": {},
          "execution_count": 13
        }
      ]
    },
    {
      "cell_type": "markdown",
      "source": [
        "* Banco de dados 2.\n",
        " * Estações -> get_dummies.\n",
        " * Dias da semana - > Labelencoder.\n",
        " \n",
        "\n"
      ],
      "metadata": {
        "id": "Vf6F1T3ke34i"
      }
    },
    {
      "cell_type": "code",
      "source": [
        "df2 = dummies_var(df2,'Estações')"
      ],
      "metadata": {
        "id": "bTBy9Qh2am5e"
      },
      "execution_count": null,
      "outputs": []
    },
    {
      "cell_type": "code",
      "source": [
        "df2.head(1)"
      ],
      "metadata": {
        "colab": {
          "base_uri": "https://localhost:8080/",
          "height": 179
        },
        "id": "-o_LXXcdph_C",
        "outputId": "c9937192-ebc7-4b7a-a892-70401f255dc6"
      },
      "execution_count": null,
      "outputs": [
        {
          "output_type": "execute_result",
          "data": {
            "text/html": [
              "\n",
              "  <div id=\"df-4acf96a5-503c-4cd8-9f92-cd9c526a07c6\">\n",
              "    <div class=\"colab-df-container\">\n",
              "      <div>\n",
              "<style scoped>\n",
              "    .dataframe tbody tr th:only-of-type {\n",
              "        vertical-align: middle;\n",
              "    }\n",
              "\n",
              "    .dataframe tbody tr th {\n",
              "        vertical-align: top;\n",
              "    }\n",
              "\n",
              "    .dataframe thead th {\n",
              "        text-align: right;\n",
              "    }\n",
              "</style>\n",
              "<table border=\"1\" class=\"dataframe\">\n",
              "  <thead>\n",
              "    <tr style=\"text-align: right;\">\n",
              "      <th></th>\n",
              "      <th>Date</th>\n",
              "      <th>Time</th>\n",
              "      <th>C6H6(GT)</th>\n",
              "      <th>PT08.S2(NMHC)</th>\n",
              "      <th>NOx(GT)</th>\n",
              "      <th>PT08.S3(NOx)</th>\n",
              "      <th>NO2(GT)</th>\n",
              "      <th>PT08.S4(NO2)</th>\n",
              "      <th>PT08.S5(O3)</th>\n",
              "      <th>T</th>\n",
              "      <th>RH</th>\n",
              "      <th>AH</th>\n",
              "      <th>Dia da Semana</th>\n",
              "      <th>Mês</th>\n",
              "      <th>Target_log</th>\n",
              "      <th>Target_log_dff_1</th>\n",
              "      <th>Target_log_dff_2</th>\n",
              "      <th>Target_log_dff_3</th>\n",
              "      <th>Estações_Inverno</th>\n",
              "      <th>Estações_Outono</th>\n",
              "      <th>Estações_Primavera</th>\n",
              "      <th>Estações_Verão</th>\n",
              "    </tr>\n",
              "  </thead>\n",
              "  <tbody>\n",
              "    <tr>\n",
              "      <th>3</th>\n",
              "      <td>2004-03-10</td>\n",
              "      <td>21</td>\n",
              "      <td>9.2</td>\n",
              "      <td>836.0</td>\n",
              "      <td>131.0</td>\n",
              "      <td>1205.0</td>\n",
              "      <td>116.0</td>\n",
              "      <td>1490.0</td>\n",
              "      <td>1110.0</td>\n",
              "      <td>11.2</td>\n",
              "      <td>59.6</td>\n",
              "      <td>0.7888</td>\n",
              "      <td>2</td>\n",
              "      <td>3</td>\n",
              "      <td>3.138618</td>\n",
              "      <td>3.146748</td>\n",
              "      <td>3.111263</td>\n",
              "      <td>3.133539</td>\n",
              "      <td>0</td>\n",
              "      <td>0</td>\n",
              "      <td>1</td>\n",
              "      <td>0</td>\n",
              "    </tr>\n",
              "  </tbody>\n",
              "</table>\n",
              "</div>\n",
              "      <button class=\"colab-df-convert\" onclick=\"convertToInteractive('df-4acf96a5-503c-4cd8-9f92-cd9c526a07c6')\"\n",
              "              title=\"Convert this dataframe to an interactive table.\"\n",
              "              style=\"display:none;\">\n",
              "        \n",
              "  <svg xmlns=\"http://www.w3.org/2000/svg\" height=\"24px\"viewBox=\"0 0 24 24\"\n",
              "       width=\"24px\">\n",
              "    <path d=\"M0 0h24v24H0V0z\" fill=\"none\"/>\n",
              "    <path d=\"M18.56 5.44l.94 2.06.94-2.06 2.06-.94-2.06-.94-.94-2.06-.94 2.06-2.06.94zm-11 1L8.5 8.5l.94-2.06 2.06-.94-2.06-.94L8.5 2.5l-.94 2.06-2.06.94zm10 10l.94 2.06.94-2.06 2.06-.94-2.06-.94-.94-2.06-.94 2.06-2.06.94z\"/><path d=\"M17.41 7.96l-1.37-1.37c-.4-.4-.92-.59-1.43-.59-.52 0-1.04.2-1.43.59L10.3 9.45l-7.72 7.72c-.78.78-.78 2.05 0 2.83L4 21.41c.39.39.9.59 1.41.59.51 0 1.02-.2 1.41-.59l7.78-7.78 2.81-2.81c.8-.78.8-2.07 0-2.86zM5.41 20L4 18.59l7.72-7.72 1.47 1.35L5.41 20z\"/>\n",
              "  </svg>\n",
              "      </button>\n",
              "      \n",
              "  <style>\n",
              "    .colab-df-container {\n",
              "      display:flex;\n",
              "      flex-wrap:wrap;\n",
              "      gap: 12px;\n",
              "    }\n",
              "\n",
              "    .colab-df-convert {\n",
              "      background-color: #E8F0FE;\n",
              "      border: none;\n",
              "      border-radius: 50%;\n",
              "      cursor: pointer;\n",
              "      display: none;\n",
              "      fill: #1967D2;\n",
              "      height: 32px;\n",
              "      padding: 0 0 0 0;\n",
              "      width: 32px;\n",
              "    }\n",
              "\n",
              "    .colab-df-convert:hover {\n",
              "      background-color: #E2EBFA;\n",
              "      box-shadow: 0px 1px 2px rgba(60, 64, 67, 0.3), 0px 1px 3px 1px rgba(60, 64, 67, 0.15);\n",
              "      fill: #174EA6;\n",
              "    }\n",
              "\n",
              "    [theme=dark] .colab-df-convert {\n",
              "      background-color: #3B4455;\n",
              "      fill: #D2E3FC;\n",
              "    }\n",
              "\n",
              "    [theme=dark] .colab-df-convert:hover {\n",
              "      background-color: #434B5C;\n",
              "      box-shadow: 0px 1px 3px 1px rgba(0, 0, 0, 0.15);\n",
              "      filter: drop-shadow(0px 1px 2px rgba(0, 0, 0, 0.3));\n",
              "      fill: #FFFFFF;\n",
              "    }\n",
              "  </style>\n",
              "\n",
              "      <script>\n",
              "        const buttonEl =\n",
              "          document.querySelector('#df-4acf96a5-503c-4cd8-9f92-cd9c526a07c6 button.colab-df-convert');\n",
              "        buttonEl.style.display =\n",
              "          google.colab.kernel.accessAllowed ? 'block' : 'none';\n",
              "\n",
              "        async function convertToInteractive(key) {\n",
              "          const element = document.querySelector('#df-4acf96a5-503c-4cd8-9f92-cd9c526a07c6');\n",
              "          const dataTable =\n",
              "            await google.colab.kernel.invokeFunction('convertToInteractive',\n",
              "                                                     [key], {});\n",
              "          if (!dataTable) return;\n",
              "\n",
              "          const docLinkHtml = 'Like what you see? Visit the ' +\n",
              "            '<a target=\"_blank\" href=https://colab.research.google.com/notebooks/data_table.ipynb>data table notebook</a>'\n",
              "            + ' to learn more about interactive tables.';\n",
              "          element.innerHTML = '';\n",
              "          dataTable['output_type'] = 'display_data';\n",
              "          await google.colab.output.renderOutput(dataTable, element);\n",
              "          const docLink = document.createElement('div');\n",
              "          docLink.innerHTML = docLinkHtml;\n",
              "          element.appendChild(docLink);\n",
              "        }\n",
              "      </script>\n",
              "    </div>\n",
              "  </div>\n",
              "  "
            ],
            "text/plain": [
              "         Date  Time  ...  Estações_Primavera  Estações_Verão\n",
              "3  2004-03-10    21  ...                   1               0\n",
              "\n",
              "[1 rows x 22 columns]"
            ]
          },
          "metadata": {},
          "execution_count": 15
        }
      ]
    },
    {
      "cell_type": "code",
      "source": [
        "df2.index = np.arange(df2.shape[0])\n",
        "X2 = df2.drop(columns = ['Target_log','Date'])\n",
        "Y2 = df2['Target_log']"
      ],
      "metadata": {
        "id": "PKCwvX7wpbvG"
      },
      "execution_count": null,
      "outputs": []
    },
    {
      "cell_type": "markdown",
      "source": [
        "* Banco de dados 3.\n",
        " * Estações -> Labelencoder.\n",
        " * Dias da semana - > get_dummies.\n",
        " \n",
        "\n"
      ],
      "metadata": {
        "id": "y2ZEvvM1fNGS"
      }
    },
    {
      "cell_type": "code",
      "source": [
        "df3                                 = dummies_var(df3,'Dia da Semana')\n",
        "df3                                 = label_encoder(df3,'Estações')"
      ],
      "metadata": {
        "id": "iUrL7a_Bd-05"
      },
      "execution_count": null,
      "outputs": []
    },
    {
      "cell_type": "code",
      "source": [
        "df3.head(1)"
      ],
      "metadata": {
        "colab": {
          "base_uri": "https://localhost:8080/",
          "height": 179
        },
        "id": "ScvEtRPHAMho",
        "outputId": "07a38b31-5914-4961-94af-f11701168225"
      },
      "execution_count": null,
      "outputs": [
        {
          "output_type": "execute_result",
          "data": {
            "text/html": [
              "\n",
              "  <div id=\"df-b41ad18a-bfe2-4751-b76d-1436866d4b43\">\n",
              "    <div class=\"colab-df-container\">\n",
              "      <div>\n",
              "<style scoped>\n",
              "    .dataframe tbody tr th:only-of-type {\n",
              "        vertical-align: middle;\n",
              "    }\n",
              "\n",
              "    .dataframe tbody tr th {\n",
              "        vertical-align: top;\n",
              "    }\n",
              "\n",
              "    .dataframe thead th {\n",
              "        text-align: right;\n",
              "    }\n",
              "</style>\n",
              "<table border=\"1\" class=\"dataframe\">\n",
              "  <thead>\n",
              "    <tr style=\"text-align: right;\">\n",
              "      <th></th>\n",
              "      <th>Date</th>\n",
              "      <th>Time</th>\n",
              "      <th>C6H6(GT)</th>\n",
              "      <th>PT08.S2(NMHC)</th>\n",
              "      <th>NOx(GT)</th>\n",
              "      <th>PT08.S3(NOx)</th>\n",
              "      <th>NO2(GT)</th>\n",
              "      <th>PT08.S4(NO2)</th>\n",
              "      <th>PT08.S5(O3)</th>\n",
              "      <th>T</th>\n",
              "      <th>RH</th>\n",
              "      <th>AH</th>\n",
              "      <th>Mês</th>\n",
              "      <th>Estações</th>\n",
              "      <th>Target_log</th>\n",
              "      <th>Target_log_dff_1</th>\n",
              "      <th>Target_log_dff_2</th>\n",
              "      <th>Target_log_dff_3</th>\n",
              "      <th>Dia da Semana_0</th>\n",
              "      <th>Dia da Semana_1</th>\n",
              "      <th>Dia da Semana_2</th>\n",
              "      <th>Dia da Semana_3</th>\n",
              "      <th>Dia da Semana_4</th>\n",
              "      <th>Dia da Semana_5</th>\n",
              "      <th>Dia da Semana_6</th>\n",
              "    </tr>\n",
              "  </thead>\n",
              "  <tbody>\n",
              "    <tr>\n",
              "      <th>3</th>\n",
              "      <td>2004-03-10</td>\n",
              "      <td>21</td>\n",
              "      <td>9.2</td>\n",
              "      <td>836.0</td>\n",
              "      <td>131.0</td>\n",
              "      <td>1205.0</td>\n",
              "      <td>116.0</td>\n",
              "      <td>1490.0</td>\n",
              "      <td>1110.0</td>\n",
              "      <td>11.2</td>\n",
              "      <td>59.6</td>\n",
              "      <td>0.7888</td>\n",
              "      <td>3</td>\n",
              "      <td>2</td>\n",
              "      <td>3.138618</td>\n",
              "      <td>3.146748</td>\n",
              "      <td>3.111263</td>\n",
              "      <td>3.133539</td>\n",
              "      <td>0</td>\n",
              "      <td>0</td>\n",
              "      <td>1</td>\n",
              "      <td>0</td>\n",
              "      <td>0</td>\n",
              "      <td>0</td>\n",
              "      <td>0</td>\n",
              "    </tr>\n",
              "  </tbody>\n",
              "</table>\n",
              "</div>\n",
              "      <button class=\"colab-df-convert\" onclick=\"convertToInteractive('df-b41ad18a-bfe2-4751-b76d-1436866d4b43')\"\n",
              "              title=\"Convert this dataframe to an interactive table.\"\n",
              "              style=\"display:none;\">\n",
              "        \n",
              "  <svg xmlns=\"http://www.w3.org/2000/svg\" height=\"24px\"viewBox=\"0 0 24 24\"\n",
              "       width=\"24px\">\n",
              "    <path d=\"M0 0h24v24H0V0z\" fill=\"none\"/>\n",
              "    <path d=\"M18.56 5.44l.94 2.06.94-2.06 2.06-.94-2.06-.94-.94-2.06-.94 2.06-2.06.94zm-11 1L8.5 8.5l.94-2.06 2.06-.94-2.06-.94L8.5 2.5l-.94 2.06-2.06.94zm10 10l.94 2.06.94-2.06 2.06-.94-2.06-.94-.94-2.06-.94 2.06-2.06.94z\"/><path d=\"M17.41 7.96l-1.37-1.37c-.4-.4-.92-.59-1.43-.59-.52 0-1.04.2-1.43.59L10.3 9.45l-7.72 7.72c-.78.78-.78 2.05 0 2.83L4 21.41c.39.39.9.59 1.41.59.51 0 1.02-.2 1.41-.59l7.78-7.78 2.81-2.81c.8-.78.8-2.07 0-2.86zM5.41 20L4 18.59l7.72-7.72 1.47 1.35L5.41 20z\"/>\n",
              "  </svg>\n",
              "      </button>\n",
              "      \n",
              "  <style>\n",
              "    .colab-df-container {\n",
              "      display:flex;\n",
              "      flex-wrap:wrap;\n",
              "      gap: 12px;\n",
              "    }\n",
              "\n",
              "    .colab-df-convert {\n",
              "      background-color: #E8F0FE;\n",
              "      border: none;\n",
              "      border-radius: 50%;\n",
              "      cursor: pointer;\n",
              "      display: none;\n",
              "      fill: #1967D2;\n",
              "      height: 32px;\n",
              "      padding: 0 0 0 0;\n",
              "      width: 32px;\n",
              "    }\n",
              "\n",
              "    .colab-df-convert:hover {\n",
              "      background-color: #E2EBFA;\n",
              "      box-shadow: 0px 1px 2px rgba(60, 64, 67, 0.3), 0px 1px 3px 1px rgba(60, 64, 67, 0.15);\n",
              "      fill: #174EA6;\n",
              "    }\n",
              "\n",
              "    [theme=dark] .colab-df-convert {\n",
              "      background-color: #3B4455;\n",
              "      fill: #D2E3FC;\n",
              "    }\n",
              "\n",
              "    [theme=dark] .colab-df-convert:hover {\n",
              "      background-color: #434B5C;\n",
              "      box-shadow: 0px 1px 3px 1px rgba(0, 0, 0, 0.15);\n",
              "      filter: drop-shadow(0px 1px 2px rgba(0, 0, 0, 0.3));\n",
              "      fill: #FFFFFF;\n",
              "    }\n",
              "  </style>\n",
              "\n",
              "      <script>\n",
              "        const buttonEl =\n",
              "          document.querySelector('#df-b41ad18a-bfe2-4751-b76d-1436866d4b43 button.colab-df-convert');\n",
              "        buttonEl.style.display =\n",
              "          google.colab.kernel.accessAllowed ? 'block' : 'none';\n",
              "\n",
              "        async function convertToInteractive(key) {\n",
              "          const element = document.querySelector('#df-b41ad18a-bfe2-4751-b76d-1436866d4b43');\n",
              "          const dataTable =\n",
              "            await google.colab.kernel.invokeFunction('convertToInteractive',\n",
              "                                                     [key], {});\n",
              "          if (!dataTable) return;\n",
              "\n",
              "          const docLinkHtml = 'Like what you see? Visit the ' +\n",
              "            '<a target=\"_blank\" href=https://colab.research.google.com/notebooks/data_table.ipynb>data table notebook</a>'\n",
              "            + ' to learn more about interactive tables.';\n",
              "          element.innerHTML = '';\n",
              "          dataTable['output_type'] = 'display_data';\n",
              "          await google.colab.output.renderOutput(dataTable, element);\n",
              "          const docLink = document.createElement('div');\n",
              "          docLink.innerHTML = docLinkHtml;\n",
              "          element.appendChild(docLink);\n",
              "        }\n",
              "      </script>\n",
              "    </div>\n",
              "  </div>\n",
              "  "
            ],
            "text/plain": [
              "         Date  Time  ...  Dia da Semana_5  Dia da Semana_6\n",
              "3  2004-03-10    21  ...                0                0\n",
              "\n",
              "[1 rows x 25 columns]"
            ]
          },
          "metadata": {},
          "execution_count": 18
        }
      ]
    },
    {
      "cell_type": "code",
      "source": [
        "df3.index = np.arange(df3.shape[0])\n",
        "X3 = df3.drop(columns = ['Target_log','Date'])\n",
        "Y3 = df3['Target_log']"
      ],
      "metadata": {
        "id": "OPHOZTrbpttW"
      },
      "execution_count": null,
      "outputs": []
    },
    {
      "cell_type": "markdown",
      "source": [
        "* Banco de dados 4.\n",
        " * Estações -> get_dummies.\n",
        " * Dias da semana - > get_dummies.\n",
        "\n"
      ],
      "metadata": {
        "id": "9TXqHxVHf_fi"
      }
    },
    {
      "cell_type": "code",
      "source": [
        "df4                                 = dummies_var(df4,'Dia da Semana')\n",
        "df4                                 = dummies_var(df4,'Estações')"
      ],
      "metadata": {
        "id": "jmr3JSCYd-7o"
      },
      "execution_count": null,
      "outputs": []
    },
    {
      "cell_type": "code",
      "source": [
        "df4.head()"
      ],
      "metadata": {
        "colab": {
          "base_uri": "https://localhost:8080/",
          "height": 374
        },
        "id": "KVc3QhUnARMz",
        "outputId": "0132dcb8-c0bd-424d-9c1e-f5300b431b9d"
      },
      "execution_count": null,
      "outputs": [
        {
          "output_type": "execute_result",
          "data": {
            "text/html": [
              "\n",
              "  <div id=\"df-2e208f71-17a7-4fcd-9897-537f74e1ef07\">\n",
              "    <div class=\"colab-df-container\">\n",
              "      <div>\n",
              "<style scoped>\n",
              "    .dataframe tbody tr th:only-of-type {\n",
              "        vertical-align: middle;\n",
              "    }\n",
              "\n",
              "    .dataframe tbody tr th {\n",
              "        vertical-align: top;\n",
              "    }\n",
              "\n",
              "    .dataframe thead th {\n",
              "        text-align: right;\n",
              "    }\n",
              "</style>\n",
              "<table border=\"1\" class=\"dataframe\">\n",
              "  <thead>\n",
              "    <tr style=\"text-align: right;\">\n",
              "      <th></th>\n",
              "      <th>Date</th>\n",
              "      <th>Time</th>\n",
              "      <th>C6H6(GT)</th>\n",
              "      <th>PT08.S2(NMHC)</th>\n",
              "      <th>NOx(GT)</th>\n",
              "      <th>PT08.S3(NOx)</th>\n",
              "      <th>NO2(GT)</th>\n",
              "      <th>PT08.S4(NO2)</th>\n",
              "      <th>PT08.S5(O3)</th>\n",
              "      <th>T</th>\n",
              "      <th>RH</th>\n",
              "      <th>AH</th>\n",
              "      <th>Mês</th>\n",
              "      <th>Target_log</th>\n",
              "      <th>Target_log_dff_1</th>\n",
              "      <th>Target_log_dff_2</th>\n",
              "      <th>Target_log_dff_3</th>\n",
              "      <th>Dia da Semana_0</th>\n",
              "      <th>Dia da Semana_1</th>\n",
              "      <th>Dia da Semana_2</th>\n",
              "      <th>Dia da Semana_3</th>\n",
              "      <th>Dia da Semana_4</th>\n",
              "      <th>Dia da Semana_5</th>\n",
              "      <th>Dia da Semana_6</th>\n",
              "      <th>Estações_Inverno</th>\n",
              "      <th>Estações_Outono</th>\n",
              "      <th>Estações_Primavera</th>\n",
              "      <th>Estações_Verão</th>\n",
              "    </tr>\n",
              "  </thead>\n",
              "  <tbody>\n",
              "    <tr>\n",
              "      <th>3</th>\n",
              "      <td>2004-03-10</td>\n",
              "      <td>21</td>\n",
              "      <td>9.2</td>\n",
              "      <td>836.0</td>\n",
              "      <td>131.0</td>\n",
              "      <td>1205.0</td>\n",
              "      <td>116.0</td>\n",
              "      <td>1490.0</td>\n",
              "      <td>1110.0</td>\n",
              "      <td>11.2</td>\n",
              "      <td>59.6</td>\n",
              "      <td>0.7888</td>\n",
              "      <td>3</td>\n",
              "      <td>3.138618</td>\n",
              "      <td>3.146748</td>\n",
              "      <td>3.111263</td>\n",
              "      <td>3.133539</td>\n",
              "      <td>0</td>\n",
              "      <td>0</td>\n",
              "      <td>1</td>\n",
              "      <td>0</td>\n",
              "      <td>0</td>\n",
              "      <td>0</td>\n",
              "      <td>0</td>\n",
              "      <td>0</td>\n",
              "      <td>0</td>\n",
              "      <td>1</td>\n",
              "      <td>0</td>\n",
              "    </tr>\n",
              "    <tr>\n",
              "      <th>4</th>\n",
              "      <td>2004-03-10</td>\n",
              "      <td>22</td>\n",
              "      <td>6.5</td>\n",
              "      <td>750.0</td>\n",
              "      <td>89.0</td>\n",
              "      <td>1337.0</td>\n",
              "      <td>96.0</td>\n",
              "      <td>1393.0</td>\n",
              "      <td>949.0</td>\n",
              "      <td>11.2</td>\n",
              "      <td>59.2</td>\n",
              "      <td>0.7848</td>\n",
              "      <td>3</td>\n",
              "      <td>3.104487</td>\n",
              "      <td>3.138618</td>\n",
              "      <td>3.146748</td>\n",
              "      <td>3.111263</td>\n",
              "      <td>0</td>\n",
              "      <td>0</td>\n",
              "      <td>1</td>\n",
              "      <td>0</td>\n",
              "      <td>0</td>\n",
              "      <td>0</td>\n",
              "      <td>0</td>\n",
              "      <td>0</td>\n",
              "      <td>0</td>\n",
              "      <td>1</td>\n",
              "      <td>0</td>\n",
              "    </tr>\n",
              "    <tr>\n",
              "      <th>5</th>\n",
              "      <td>2004-03-10</td>\n",
              "      <td>23</td>\n",
              "      <td>4.7</td>\n",
              "      <td>690.0</td>\n",
              "      <td>62.0</td>\n",
              "      <td>1462.0</td>\n",
              "      <td>77.0</td>\n",
              "      <td>1333.0</td>\n",
              "      <td>733.0</td>\n",
              "      <td>11.3</td>\n",
              "      <td>56.8</td>\n",
              "      <td>0.7603</td>\n",
              "      <td>3</td>\n",
              "      <td>3.078094</td>\n",
              "      <td>3.104487</td>\n",
              "      <td>3.138618</td>\n",
              "      <td>3.146748</td>\n",
              "      <td>0</td>\n",
              "      <td>0</td>\n",
              "      <td>1</td>\n",
              "      <td>0</td>\n",
              "      <td>0</td>\n",
              "      <td>0</td>\n",
              "      <td>0</td>\n",
              "      <td>0</td>\n",
              "      <td>0</td>\n",
              "      <td>1</td>\n",
              "      <td>0</td>\n",
              "    </tr>\n",
              "    <tr>\n",
              "      <th>6</th>\n",
              "      <td>2004-03-11</td>\n",
              "      <td>0</td>\n",
              "      <td>3.6</td>\n",
              "      <td>672.0</td>\n",
              "      <td>62.0</td>\n",
              "      <td>1453.0</td>\n",
              "      <td>76.0</td>\n",
              "      <td>1333.0</td>\n",
              "      <td>730.0</td>\n",
              "      <td>10.7</td>\n",
              "      <td>60.0</td>\n",
              "      <td>0.7702</td>\n",
              "      <td>3</td>\n",
              "      <td>3.073718</td>\n",
              "      <td>3.078094</td>\n",
              "      <td>3.104487</td>\n",
              "      <td>3.138618</td>\n",
              "      <td>0</td>\n",
              "      <td>0</td>\n",
              "      <td>0</td>\n",
              "      <td>1</td>\n",
              "      <td>0</td>\n",
              "      <td>0</td>\n",
              "      <td>0</td>\n",
              "      <td>0</td>\n",
              "      <td>0</td>\n",
              "      <td>1</td>\n",
              "      <td>0</td>\n",
              "    </tr>\n",
              "    <tr>\n",
              "      <th>7</th>\n",
              "      <td>2004-03-11</td>\n",
              "      <td>1</td>\n",
              "      <td>3.3</td>\n",
              "      <td>609.0</td>\n",
              "      <td>45.0</td>\n",
              "      <td>1579.0</td>\n",
              "      <td>60.0</td>\n",
              "      <td>1276.0</td>\n",
              "      <td>620.0</td>\n",
              "      <td>10.7</td>\n",
              "      <td>59.7</td>\n",
              "      <td>0.7648</td>\n",
              "      <td>3</td>\n",
              "      <td>3.055378</td>\n",
              "      <td>3.073718</td>\n",
              "      <td>3.078094</td>\n",
              "      <td>3.104487</td>\n",
              "      <td>0</td>\n",
              "      <td>0</td>\n",
              "      <td>0</td>\n",
              "      <td>1</td>\n",
              "      <td>0</td>\n",
              "      <td>0</td>\n",
              "      <td>0</td>\n",
              "      <td>0</td>\n",
              "      <td>0</td>\n",
              "      <td>1</td>\n",
              "      <td>0</td>\n",
              "    </tr>\n",
              "  </tbody>\n",
              "</table>\n",
              "</div>\n",
              "      <button class=\"colab-df-convert\" onclick=\"convertToInteractive('df-2e208f71-17a7-4fcd-9897-537f74e1ef07')\"\n",
              "              title=\"Convert this dataframe to an interactive table.\"\n",
              "              style=\"display:none;\">\n",
              "        \n",
              "  <svg xmlns=\"http://www.w3.org/2000/svg\" height=\"24px\"viewBox=\"0 0 24 24\"\n",
              "       width=\"24px\">\n",
              "    <path d=\"M0 0h24v24H0V0z\" fill=\"none\"/>\n",
              "    <path d=\"M18.56 5.44l.94 2.06.94-2.06 2.06-.94-2.06-.94-.94-2.06-.94 2.06-2.06.94zm-11 1L8.5 8.5l.94-2.06 2.06-.94-2.06-.94L8.5 2.5l-.94 2.06-2.06.94zm10 10l.94 2.06.94-2.06 2.06-.94-2.06-.94-.94-2.06-.94 2.06-2.06.94z\"/><path d=\"M17.41 7.96l-1.37-1.37c-.4-.4-.92-.59-1.43-.59-.52 0-1.04.2-1.43.59L10.3 9.45l-7.72 7.72c-.78.78-.78 2.05 0 2.83L4 21.41c.39.39.9.59 1.41.59.51 0 1.02-.2 1.41-.59l7.78-7.78 2.81-2.81c.8-.78.8-2.07 0-2.86zM5.41 20L4 18.59l7.72-7.72 1.47 1.35L5.41 20z\"/>\n",
              "  </svg>\n",
              "      </button>\n",
              "      \n",
              "  <style>\n",
              "    .colab-df-container {\n",
              "      display:flex;\n",
              "      flex-wrap:wrap;\n",
              "      gap: 12px;\n",
              "    }\n",
              "\n",
              "    .colab-df-convert {\n",
              "      background-color: #E8F0FE;\n",
              "      border: none;\n",
              "      border-radius: 50%;\n",
              "      cursor: pointer;\n",
              "      display: none;\n",
              "      fill: #1967D2;\n",
              "      height: 32px;\n",
              "      padding: 0 0 0 0;\n",
              "      width: 32px;\n",
              "    }\n",
              "\n",
              "    .colab-df-convert:hover {\n",
              "      background-color: #E2EBFA;\n",
              "      box-shadow: 0px 1px 2px rgba(60, 64, 67, 0.3), 0px 1px 3px 1px rgba(60, 64, 67, 0.15);\n",
              "      fill: #174EA6;\n",
              "    }\n",
              "\n",
              "    [theme=dark] .colab-df-convert {\n",
              "      background-color: #3B4455;\n",
              "      fill: #D2E3FC;\n",
              "    }\n",
              "\n",
              "    [theme=dark] .colab-df-convert:hover {\n",
              "      background-color: #434B5C;\n",
              "      box-shadow: 0px 1px 3px 1px rgba(0, 0, 0, 0.15);\n",
              "      filter: drop-shadow(0px 1px 2px rgba(0, 0, 0, 0.3));\n",
              "      fill: #FFFFFF;\n",
              "    }\n",
              "  </style>\n",
              "\n",
              "      <script>\n",
              "        const buttonEl =\n",
              "          document.querySelector('#df-2e208f71-17a7-4fcd-9897-537f74e1ef07 button.colab-df-convert');\n",
              "        buttonEl.style.display =\n",
              "          google.colab.kernel.accessAllowed ? 'block' : 'none';\n",
              "\n",
              "        async function convertToInteractive(key) {\n",
              "          const element = document.querySelector('#df-2e208f71-17a7-4fcd-9897-537f74e1ef07');\n",
              "          const dataTable =\n",
              "            await google.colab.kernel.invokeFunction('convertToInteractive',\n",
              "                                                     [key], {});\n",
              "          if (!dataTable) return;\n",
              "\n",
              "          const docLinkHtml = 'Like what you see? Visit the ' +\n",
              "            '<a target=\"_blank\" href=https://colab.research.google.com/notebooks/data_table.ipynb>data table notebook</a>'\n",
              "            + ' to learn more about interactive tables.';\n",
              "          element.innerHTML = '';\n",
              "          dataTable['output_type'] = 'display_data';\n",
              "          await google.colab.output.renderOutput(dataTable, element);\n",
              "          const docLink = document.createElement('div');\n",
              "          docLink.innerHTML = docLinkHtml;\n",
              "          element.appendChild(docLink);\n",
              "        }\n",
              "      </script>\n",
              "    </div>\n",
              "  </div>\n",
              "  "
            ],
            "text/plain": [
              "         Date  Time  ...  Estações_Primavera  Estações_Verão\n",
              "3  2004-03-10    21  ...                   1               0\n",
              "4  2004-03-10    22  ...                   1               0\n",
              "5  2004-03-10    23  ...                   1               0\n",
              "6  2004-03-11     0  ...                   1               0\n",
              "7  2004-03-11     1  ...                   1               0\n",
              "\n",
              "[5 rows x 28 columns]"
            ]
          },
          "metadata": {},
          "execution_count": 21
        }
      ]
    },
    {
      "cell_type": "code",
      "source": [
        "df4.index = np.arange(df4.shape[0])\n",
        "X4 = df4.drop(columns = ['Target_log','Date'])\n",
        "Y4 = df4['Target_log']"
      ],
      "metadata": {
        "id": "TbrhdYLXp-2d"
      },
      "execution_count": null,
      "outputs": []
    },
    {
      "cell_type": "markdown",
      "source": [
        "### Desempenho das configurações."
      ],
      "metadata": {
        "id": "JoHyGzIZX7v4"
      }
    },
    {
      "cell_type": "code",
      "source": [
        "model    = RandomForestRegressor(n_estimators = 100,random_state = 10) # modelo padrão"
      ],
      "metadata": {
        "id": "m2KGEL2LXxe9"
      },
      "execution_count": null,
      "outputs": []
    },
    {
      "cell_type": "code",
      "source": [
        "Date = df['Date']"
      ],
      "metadata": {
        "id": "pcOWN56cnAlG"
      },
      "execution_count": null,
      "outputs": []
    },
    {
      "cell_type": "code",
      "source": [
        "Ypred1,Yv1,vetor_MAPE1 = validation(X1,Y1,Date)"
      ],
      "metadata": {
        "colab": {
          "base_uri": "https://localhost:8080/"
        },
        "id": "5LEMHGZpm6Yg",
        "outputId": "58df17eb-63a8-400b-a89d-3b03f9dc4e10"
      },
      "execution_count": null,
      "outputs": [
        {
          "output_type": "stream",
          "name": "stdout",
          "text": [
            "Data: 2004-04-14 - 2004-05-18 -> MAPE: 8.26322\n",
            "Data: 2004-05-18 - 2004-06-24 -> MAPE: 7.58207\n",
            "Data: 2004-06-24 - 2004-07-28 -> MAPE: 3.47257\n",
            "Data: 2004-07-28 - 2004-09-02 -> MAPE: 2.74236\n",
            "Data: 2004-09-02 - 2004-10-07 -> MAPE: 3.51789\n",
            "Data: 2004-10-07 - 2004-11-10 -> MAPE: 3.74869\n",
            "Data: 2004-11-10 - 2004-12-14 -> MAPE: 4.26308\n",
            "Data: 2004-12-14 - 2005-01-22 -> MAPE: 4.26256\n",
            "Data: 2005-01-22 - 2005-03-01 -> MAPE: 3.03031\n",
            "Data: 2005-03-01 - 2005-04-04 -> MAPE: 3.11860\n",
            "\n",
            "\n",
            "Mape Geral: 4.40013 Std: 1.82800 Erro: 0.57807\n"
          ]
        }
      ]
    },
    {
      "cell_type": "code",
      "source": [
        "Ypred2,Yv2,vetor_MAPE2 = validation(X2,Y2,Date)"
      ],
      "metadata": {
        "colab": {
          "base_uri": "https://localhost:8080/"
        },
        "id": "fQNg3SPwm6jo",
        "outputId": "0bf621f8-c691-4d2b-b0c7-64a2b231f377"
      },
      "execution_count": null,
      "outputs": [
        {
          "output_type": "stream",
          "name": "stdout",
          "text": [
            "Data: 2004-04-14 - 2004-05-18 -> MAPE: 8.21547\n",
            "Data: 2004-05-18 - 2004-06-24 -> MAPE: 7.55036\n",
            "Data: 2004-06-24 - 2004-07-28 -> MAPE: 3.46375\n",
            "Data: 2004-07-28 - 2004-09-02 -> MAPE: 2.72592\n",
            "Data: 2004-09-02 - 2004-10-07 -> MAPE: 3.52567\n",
            "Data: 2004-10-07 - 2004-11-10 -> MAPE: 3.74507\n",
            "Data: 2004-11-10 - 2004-12-14 -> MAPE: 4.23708\n",
            "Data: 2004-12-14 - 2005-01-22 -> MAPE: 4.18762\n",
            "Data: 2005-01-22 - 2005-03-01 -> MAPE: 3.07946\n",
            "Data: 2005-03-01 - 2005-04-04 -> MAPE: 3.10039\n",
            "\n",
            "\n",
            "Mape Geral: 4.38308 Std: 1.81264 Erro: 0.57321\n"
          ]
        }
      ]
    },
    {
      "cell_type": "code",
      "source": [
        "Ypred3,Yv3,vetor_MAPE3 = validation(X3,Y3,Date)"
      ],
      "metadata": {
        "colab": {
          "base_uri": "https://localhost:8080/"
        },
        "id": "FLbP2_G7uwQE",
        "outputId": "04bc0379-0b87-4af2-8a5d-31670ce2f2f0"
      },
      "execution_count": null,
      "outputs": [
        {
          "output_type": "stream",
          "name": "stdout",
          "text": [
            "Data: 2004-04-14 - 2004-05-18 -> MAPE: 8.33606\n",
            "Data: 2004-05-18 - 2004-06-24 -> MAPE: 7.69746\n",
            "Data: 2004-06-24 - 2004-07-28 -> MAPE: 3.46403\n",
            "Data: 2004-07-28 - 2004-09-02 -> MAPE: 2.71084\n",
            "Data: 2004-09-02 - 2004-10-07 -> MAPE: 3.53210\n",
            "Data: 2004-10-07 - 2004-11-10 -> MAPE: 3.80001\n",
            "Data: 2004-11-10 - 2004-12-14 -> MAPE: 4.29678\n",
            "Data: 2004-12-14 - 2005-01-22 -> MAPE: 4.30843\n",
            "Data: 2005-01-22 - 2005-03-01 -> MAPE: 3.10314\n",
            "Data: 2005-03-01 - 2005-04-04 -> MAPE: 3.15909\n",
            "\n",
            "\n",
            "Mape Geral: 4.44079 Std: 1.8556 Erro: 0.58679\n"
          ]
        }
      ]
    },
    {
      "cell_type": "code",
      "source": [
        "Ypred4,Yv4,vetor_MAPE4 = validation(X4,Y4,Date)"
      ],
      "metadata": {
        "colab": {
          "base_uri": "https://localhost:8080/"
        },
        "id": "NKGbQqg3uwd_",
        "outputId": "84c453e1-1f56-48cf-a355-7132a2ac3f46"
      },
      "execution_count": null,
      "outputs": [
        {
          "output_type": "stream",
          "name": "stdout",
          "text": [
            "Data: 2004-04-14 - 2004-05-18 -> MAPE: 8.34319\n",
            "Data: 2004-05-18 - 2004-06-24 -> MAPE: 7.65964\n",
            "Data: 2004-06-24 - 2004-07-28 -> MAPE: 3.46307\n",
            "Data: 2004-07-28 - 2004-09-02 -> MAPE: 2.71225\n",
            "Data: 2004-09-02 - 2004-10-07 -> MAPE: 3.54167\n",
            "Data: 2004-10-07 - 2004-11-10 -> MAPE: 3.78239\n",
            "Data: 2004-11-10 - 2004-12-14 -> MAPE: 4.30561\n",
            "Data: 2004-12-14 - 2005-01-22 -> MAPE: 4.22094\n",
            "Data: 2005-01-22 - 2005-03-01 -> MAPE: 3.12710\n",
            "Data: 2005-03-01 - 2005-04-04 -> MAPE: 3.12090\n",
            "\n",
            "\n",
            "Mape Geral: 4.42768 Std: 1.85225 Erro: 0.58573\n"
          ]
        }
      ]
    },
    {
      "cell_type": "code",
      "source": [
        "print('Bando de dados 1')\n",
        "print('Mape Geral:',np.format_float_positional(np.mean(vetor_MAPE1),5),'Std:',\n",
        "      np.format_float_positional(np.std(vetor_MAPE1),5),\n",
        "      'Erro:',np.format_float_positional(np.std(vetor_MAPE1)/np.sqrt(10),5))\n",
        "print('\\n')\n",
        "print('Bando de dados 2')\n",
        "print('Mape Geral:',np.format_float_positional(np.mean(vetor_MAPE2),5),'Std:',\n",
        "      np.format_float_positional(np.std(vetor_MAPE2),5),\n",
        "      'Erro:',np.format_float_positional(np.std(vetor_MAPE2)/np.sqrt(10),5))\n",
        "print('\\n')\n",
        "print('Bando de dados 3')\n",
        "print('Mape Geral:',np.format_float_positional(np.mean(vetor_MAPE3),5),'Std:',\n",
        "      np.format_float_positional(np.std(vetor_MAPE3),5),\n",
        "      'Erro:',np.format_float_positional(np.std(vetor_MAPE3)/np.sqrt(10),5))\n",
        "print('\\n')\n",
        "print('Bando de dados 4')\n",
        "print('Mape Geral:',np.format_float_positional(np.mean(vetor_MAPE4),5),'Std:',\n",
        "      np.format_float_positional(np.std(vetor_MAPE4),5),\n",
        "      'Erro:',np.format_float_positional(np.std(vetor_MAPE4)/np.sqrt(10),5))\n"
      ],
      "metadata": {
        "colab": {
          "base_uri": "https://localhost:8080/"
        },
        "id": "82GpmcSNYJOM",
        "outputId": "0e687aff-4119-420c-e462-b0e394f7dbf3"
      },
      "execution_count": null,
      "outputs": [
        {
          "output_type": "stream",
          "name": "stdout",
          "text": [
            "Bando de dados 1\n",
            "Mape Geral: 4.40013 Std: 1.82800 Erro: 0.57807\n",
            "\n",
            "\n",
            "Bando de dados 2\n",
            "Mape Geral: 4.38308 Std: 1.81264 Erro: 0.57321\n",
            "\n",
            "\n",
            "Bando de dados 3\n",
            "Mape Geral: 4.44079 Std: 1.8556 Erro: 0.58679\n",
            "\n",
            "\n",
            "Bando de dados 4\n",
            "Mape Geral: 4.42768 Std: 1.85225 Erro: 0.58573\n"
          ]
        }
      ]
    },
    {
      "cell_type": "markdown",
      "source": [
        "* Os erros estão muito próximos e todos estão muito baixos.\n",
        "* Para verificar se a diferença entre os MAPES foi causada por alguma flutuação estatística será aplicado o teste de hipótese de Wilcoxon.\n",
        " \n",
        "Referência:\n",
        " \n",
        "https://pt.wikipedia.org/wiki/Teste_de_Wilcoxon.\n",
        "          "
      ],
      "metadata": {
        "id": "mjJeGsiYdpB1"
      }
    },
    {
      "cell_type": "markdown",
      "source": [
        "* Para aplicar o teste será escolhido o modelo de menor bias e comparado se a sua média é menor do que as de mais.\n",
        " \n",
        "* O p-value reportado por esta função (wilcoxon) é relativo a um teste de duas caudas, ou seja, testa se as médias são diferentes. No nosso caso, estamos mais interessados em saber se uma média é menor do que a outra, ou seja, um teste de uma cauda. A forma mais fácil de converter este número para o que nós desejamos é dividi-lo por 2.\n",
        " \n",
        "* O p-value utilizado é  0,01. No caso daqueles que tiverem abaixo desse valor a probabilidade da diferença de performance entre os modelos ser apenas por sorte é mínima. Podendo rejeitar a hipótese que eles oferecem o mesmo desempenho.\n",
        " \n",
        "Referência:\n",
        " \n",
        "https://www.mariofilho.com/como-criar-um-modelo-simples-para-prever-series-temporais-usando-machine-learning-em-python/#como-criar-um-modelo-simples-para-prever-series-temporais-usando-machine-learning-em-python\n"
      ],
      "metadata": {
        "id": "uF3ERrODjzVK"
      }
    },
    {
      "cell_type": "code",
      "source": [
        "erro1= np.abs(np.concatenate(Ypred1) - np.concatenate(Yv1))\n",
        "erro2= np.abs(np.concatenate(Ypred2) - np.concatenate(Yv2))\n",
        "erro3= np.abs(np.concatenate(Ypred3) - np.concatenate(Yv3))\n",
        "erro4= np.abs(np.concatenate(Ypred4) - np.concatenate(Yv4))"
      ],
      "metadata": {
        "id": "BiqBkIxDxiIt"
      },
      "execution_count": null,
      "outputs": []
    },
    {
      "cell_type": "code",
      "source": [
        ""
      ],
      "metadata": {
        "id": "Yucxb2QWxiK9"
      },
      "execution_count": null,
      "outputs": []
    },
    {
      "cell_type": "code",
      "source": [
        "print('Banco 2 e 1 -> P-value:', np.format_float_positional(np.mean(wilcoxon(erro2,erro1)[1]/2),3))\n",
        "print('Banco 2 e 3 -> P-value:', np.format_float_positional(np.mean(wilcoxon(erro2,erro3)[1]/2),3))\n",
        "print('Banco 2 e 4 -> P-value:', np.format_float_positional(np.mean(wilcoxon(erro2,erro4)[1]/2),3))\n"
      ],
      "metadata": {
        "colab": {
          "base_uri": "https://localhost:8080/"
        },
        "id": "YKCEA0fDYJQm",
        "outputId": "e2b3926e-fa81-4928-c40f-686e38daa563"
      },
      "execution_count": null,
      "outputs": [
        {
          "output_type": "stream",
          "name": "stdout",
          "text": [
            "Banco 2 e 1 -> P-value: 0.000\n",
            "Banco 2 e 3 -> P-value: 0.000\n",
            "Banco 2 e 4 -> P-value: 0.000\n"
          ]
        }
      ]
    },
    {
      "cell_type": "markdown",
      "source": [
        "* Pelos resultados mostrados todos os banco de dados passou p-value por esse motivo será escolhido o de menor MAPE geral e no último intervalo de tempo avaliado.\n",
        " \n",
        " \n",
        "* No caso, o banco de dados escolhido é o 2.\n"
      ],
      "metadata": {
        "id": "_BF9ntRUnqB6"
      }
    },
    {
      "cell_type": "code",
      "source": [
        ""
      ],
      "metadata": {
        "id": "7Rf2at8kTraZ"
      },
      "execution_count": null,
      "outputs": []
    },
    {
      "cell_type": "markdown",
      "source": [
        "#Parte 2\n",
        " \n",
        "* Será aplicado a transformação em uma variável e será visto como o modelo está performando.\n"
      ],
      "metadata": {
        "id": "dzKZFnEBTLvn"
      }
    },
    {
      "cell_type": "code",
      "source": [
        "df2_1  = df2.copy()\n",
        "df2_2  = df2.copy()\n",
        "df2_3  = df2.copy()\n",
        "df2_4  = df2.copy()\n",
        "df2_5  = df2.copy()\n",
        "df2_9  = df2.copy()\n",
        "df2_10 = df2.copy()"
      ],
      "metadata": {
        "id": "mym-1ggbaoMQ"
      },
      "execution_count": null,
      "outputs": []
    },
    {
      "cell_type": "code",
      "source": [
        "columns = ['C6H6(GT)', 'PT08.S2(NMHC)', 'NOx(GT)', 'PT08.S3(NOx)',\n",
        "            'NO2(GT)', 'PT08.S4(NO2)', 'PT08.S5(O3)','T','RH', 'AH']"
      ],
      "metadata": {
        "id": "78fUOyOQTmBM"
      },
      "execution_count": null,
      "outputs": []
    },
    {
      "cell_type": "markdown",
      "source": [
        "###C6H6(GT)"
      ],
      "metadata": {
        "id": "AA8IyDilbo3O"
      }
    },
    {
      "cell_type": "code",
      "source": [
        "i=0\n",
        "print('Normal:',np.format_float_positional(np.corrcoef(df2_1[columns[i]],df2_1['Target_log'])[0][1],3))\n",
        "print('SQRT  :',np.format_float_positional(np.corrcoef(np.sqrt(df2_1[columns[i]]),df2_1['Target_log'])[0][1],3))\n",
        "print('log   :',np.format_float_positional(np.corrcoef(10**(df2_1[columns[i]]),df2_1['Target_log'])[0][1],3))\n",
        "print('exp   :',np.format_float_positional(np.corrcoef(np.exp(df2_1[columns[i]]),df2_1['Target_log'])[0][1],3))"
      ],
      "metadata": {
        "colab": {
          "base_uri": "https://localhost:8080/"
        },
        "id": "bQM3VnnqY_b2",
        "outputId": "8be4c64b-0fa7-4afd-f6fc-cac6e60a9b2d"
      },
      "execution_count": null,
      "outputs": [
        {
          "output_type": "stream",
          "name": "stdout",
          "text": [
            "Normal: 0.866\n",
            "SQRT  : 0.893\n",
            "log   : 0.014\n",
            "exp   : 0.014\n"
          ]
        }
      ]
    },
    {
      "cell_type": "code",
      "source": [
        "i = 0\n",
        "plt.figure(figsize=(16,6))\n",
        "plt.subplot(1,2,1)\n",
        "plt.title('Normal',size=18,fontweight= 'bold')\n",
        "plt.plot(df2[columns[i]],df2['Target_log'],'o')\n",
        "plt.subplot(1,2,2)\n",
        "plt.title('Sqrt',size=18,fontweight= 'bold')\n",
        "plt.plot(np.sqrt(df2_1[columns[i]]),df2_1['Target_log'],'o')\n"
      ],
      "metadata": {
        "colab": {
          "base_uri": "https://localhost:8080/",
          "height": 411
        },
        "id": "6qUfr3NDTmI6",
        "outputId": "661a7799-7734-4fe1-a422-5285f2a2b946"
      },
      "execution_count": null,
      "outputs": [
        {
          "output_type": "execute_result",
          "data": {
            "text/plain": [
              "[<matplotlib.lines.Line2D at 0x7f7b74fed710>]"
            ]
          },
          "metadata": {},
          "execution_count": 35
        },
        {
          "output_type": "display_data",
          "data": {
            "image/png": "[encoded data removed]",
            "text/plain": [
              "<Figure size 1152x432 with 2 Axes>"
            ]
          },
          "metadata": {}
        }
      ]
    },
    {
      "cell_type": "code",
      "source": [
        "df2_1[columns[i]] = np.sqrt(df2_1[columns[i]])"
      ],
      "metadata": {
        "id": "YsTkHGR1al0Q"
      },
      "execution_count": null,
      "outputs": []
    },
    {
      "cell_type": "code",
      "source": [
        "df2_1.index = np.arange(df2_1.shape[0])\n",
        "X21 = df2_1.drop(columns = ['Target_log','Date'])\n",
        "Y21 = df2_1['Target_log']"
      ],
      "metadata": {
        "id": "33-TNy7DzC2w"
      },
      "execution_count": null,
      "outputs": []
    },
    {
      "cell_type": "code",
      "source": [
        "Ypred21,Yv21,vetor_MAPE21 = validation(X21,Y21,Date)"
      ],
      "metadata": {
        "colab": {
          "base_uri": "https://localhost:8080/"
        },
        "id": "3r4TJiz3zC8o",
        "outputId": "eabe63a0-0cb0-44dc-bc7b-81dea9272856"
      },
      "execution_count": null,
      "outputs": [
        {
          "output_type": "stream",
          "name": "stdout",
          "text": [
            "Data: 2004-04-14 - 2004-05-18 -> MAPE: 8.24636\n",
            "Data: 2004-05-18 - 2004-06-24 -> MAPE: 7.561\n",
            "Data: 2004-06-24 - 2004-07-28 -> MAPE: 3.46698\n",
            "Data: 2004-07-28 - 2004-09-02 -> MAPE: 2.7223\n",
            "Data: 2004-09-02 - 2004-10-07 -> MAPE: 3.52824\n",
            "Data: 2004-10-07 - 2004-11-10 -> MAPE: 3.75094\n",
            "Data: 2004-11-10 - 2004-12-14 -> MAPE: 4.23408\n",
            "Data: 2004-12-14 - 2005-01-22 -> MAPE: 4.18996\n",
            "Data: 2005-01-22 - 2005-03-01 -> MAPE: 3.07793\n",
            "Data: 2005-03-01 - 2005-04-04 -> MAPE: 3.09866\n",
            "\n",
            "\n",
            "Mape Geral: 4.38765 Std: 1.82111 Erro: 0.57588\n"
          ]
        }
      ]
    },
    {
      "cell_type": "code",
      "source": [
        "print('Bando de dados 2')\n",
        "print('Mape Geral:',np.format_float_positional(np.mean(vetor_MAPE2),5),'Std:',\n",
        "      np.format_float_positional(np.std(vetor_MAPE2),5),\n",
        "      'Erro:',np.format_float_positional(np.std(vetor_MAPE2)/np.sqrt(10),5))\n",
        "print('\\n')\n",
        "print('Tranformação')\n",
        "print('Mape Geral:',np.format_float_positional(np.mean(vetor_MAPE21),5),'Std:',\n",
        "      np.format_float_positional(np.std(vetor_MAPE21),5),\n",
        "      'Erro:',np.format_float_positional(np.std(vetor_MAPE21)/np.sqrt(10),5))"
      ],
      "metadata": {
        "colab": {
          "base_uri": "https://localhost:8080/"
        },
        "id": "0Bf7t2t2a8cy",
        "outputId": "8c5fb95e-5fd6-4fa5-b011-ddc2879a1212"
      },
      "execution_count": null,
      "outputs": [
        {
          "output_type": "stream",
          "name": "stdout",
          "text": [
            "Bando de dados 2\n",
            "Mape Geral: 4.38308 Std: 1.81264 Erro: 0.57321\n",
            "\n",
            "\n",
            "Tranformação\n",
            "Mape Geral: 4.38765 Std: 1.82111 Erro: 0.57588\n"
          ]
        }
      ]
    },
    {
      "cell_type": "markdown",
      "source": [
        "### PT08.S2(NMHC)"
      ],
      "metadata": {
        "id": "qYdqxiqSb332"
      }
    },
    {
      "cell_type": "code",
      "source": [
        "i =1\n",
        "print('Normal:',np.format_float_positional(np.corrcoef(df2[columns[i]],df2['Target_log'])[0][1],3))\n",
        "print('SQRT  :',np.format_float_positional(np.corrcoef(np.sqrt(df2[columns[i]]),df2['Target_log'])[0][1],3))\n",
        "print('log   :',np.format_float_positional(np.corrcoef(10**(df2[columns[i]]/100000),df2['Target_log'])[0][1],3))\n",
        "print('exp   :',np.format_float_positional(np.corrcoef(np.exp(df2[columns[i]]/10000),df2['Target_log'])[0][1],3))"
      ],
      "metadata": {
        "colab": {
          "base_uri": "https://localhost:8080/"
        },
        "id": "v0u2R-uGcK2k",
        "outputId": "2e0d54d8-91c8-4d56-a98a-cebc93367e8c"
      },
      "execution_count": null,
      "outputs": [
        {
          "output_type": "stream",
          "name": "stdout",
          "text": [
            "Normal: 0.78\n",
            "SQRT  : 0.785\n",
            "log   : 0.779\n",
            "exp   : 0.778\n"
          ]
        }
      ]
    },
    {
      "cell_type": "code",
      "source": [
        "plt.figure(figsize=(16,6))\n",
        "plt.subplot(1,2,1)\n",
        "plt.title('Normal',size=18,fontweight= 'bold')\n",
        "plt.plot(df2[columns[i]],df2['Target_log'],'o')\n",
        "plt.subplot(1,2,2)\n",
        "plt.title('Sqrt',size=18,fontweight= 'bold')\n",
        "plt.plot(np.sqrt(df2[columns[i]]),df2['Target_log'],'o')\n"
      ],
      "metadata": {
        "colab": {
          "base_uri": "https://localhost:8080/",
          "height": 411
        },
        "id": "dE8Hf_2Jb53u",
        "outputId": "9099227c-ddbf-464a-a145-e1a6b67787d9"
      },
      "execution_count": null,
      "outputs": [
        {
          "output_type": "execute_result",
          "data": {
            "text/plain": [
              "[<matplotlib.lines.Line2D at 0x7f7b74ac3b50>]"
            ]
          },
          "metadata": {},
          "execution_count": 41
        },
        {
          "output_type": "display_data",
          "data": {
            "image/png": "[encoded data removed]",
            "text/plain": [
              "<Figure size 1152x432 with 2 Axes>"
            ]
          },
          "metadata": {}
        }
      ]
    },
    {
      "cell_type": "code",
      "source": [
        "df2_2[columns[i]] = np.sqrt(df2_2[columns[i]])"
      ],
      "metadata": {
        "id": "27VCxgxIc8gz"
      },
      "execution_count": null,
      "outputs": []
    },
    {
      "cell_type": "code",
      "source": [
        "df2_2.index = np.arange(df2_2.shape[0])\n",
        "X22 = df2_2.drop(columns = ['Target_log','Date'])\n",
        "Y22 = df2_2['Target_log']\n",
        "Ypred22,Yv22,vetor_MAPE22 = validation(X22,Y22,Date)\n",
        "\n",
        "\n",
        "print('Bando de dados 2')\n",
        "print('Mape Geral:',np.format_float_positional(np.mean(vetor_MAPE2),5),'Std:',\n",
        "      np.format_float_positional(np.std(vetor_MAPE2),5),\n",
        "      'Erro:',np.format_float_positional(np.std(vetor_MAPE2)/np.sqrt(10),5))\n",
        "print('\\n')\n",
        "print('Tranformação')\n",
        "print('Mape Geral:',np.format_float_positional(np.mean(vetor_MAPE22),5),'Std:',\n",
        "      np.format_float_positional(np.std(vetor_MAPE22),5),\n",
        "      'Erro:',np.format_float_positional(np.std(vetor_MAPE22)/np.sqrt(10),5))"
      ],
      "metadata": {
        "colab": {
          "base_uri": "https://localhost:8080/"
        },
        "id": "j_uZcjTJb57S",
        "outputId": "ce7cd693-fb5a-44cc-83ab-259763a176c2"
      },
      "execution_count": null,
      "outputs": [
        {
          "output_type": "stream",
          "name": "stdout",
          "text": [
            "Data: 2004-04-14 - 2004-05-18 -> MAPE: 8.21489\n",
            "Data: 2004-05-18 - 2004-06-24 -> MAPE: 7.55123\n",
            "Data: 2004-06-24 - 2004-07-28 -> MAPE: 3.46318\n",
            "Data: 2004-07-28 - 2004-09-02 -> MAPE: 2.72552\n",
            "Data: 2004-09-02 - 2004-10-07 -> MAPE: 3.52447\n",
            "Data: 2004-10-07 - 2004-11-10 -> MAPE: 3.74503\n",
            "Data: 2004-11-10 - 2004-12-14 -> MAPE: 4.23641\n",
            "Data: 2004-12-14 - 2005-01-22 -> MAPE: 4.18617\n",
            "Data: 2005-01-22 - 2005-03-01 -> MAPE: 3.0787\n",
            "Data: 2005-03-01 - 2005-04-04 -> MAPE: 3.1009\n",
            "\n",
            "\n",
            "Mape Geral: 4.38265 Std: 1.81283 Erro: 0.57327\n",
            "Bando de dados 2\n",
            "Mape Geral: 4.38308 Std: 1.81264 Erro: 0.57321\n",
            "\n",
            "\n",
            "Tranformação\n",
            "Mape Geral: 4.38265 Std: 1.81283 Erro: 0.57327\n"
          ]
        }
      ]
    },
    {
      "cell_type": "markdown",
      "source": [
        "###PT08.S3(NOx)"
      ],
      "metadata": {
        "id": "hY6fH9t5dmLK"
      }
    },
    {
      "cell_type": "code",
      "source": [
        "i =2\n",
        "print('Normal:',np.format_float_positional(np.corrcoef(df2[columns[i]],df2['Target_log'])[0][1],3))\n",
        "print('SQRT  :',np.format_float_positional(np.corrcoef(np.sqrt(df2[columns[i]]),df2['Target_log'])[0][1],3))\n",
        "print('log   :',np.format_float_positional(np.corrcoef(10**(df2[columns[i]]/100000),df2['Target_log'])[0][1],3))\n",
        "print('exp   :',np.format_float_positional(np.corrcoef(np.exp(df2[columns[i]]/10000),df2['Target_log'])[0][1],3))"
      ],
      "metadata": {
        "colab": {
          "base_uri": "https://localhost:8080/"
        },
        "id": "blDFbhJ1b6Aa",
        "outputId": "5e0fbb31-4458-448d-85fe-71c94f00c9a2"
      },
      "execution_count": null,
      "outputs": [
        {
          "output_type": "stream",
          "name": "stdout",
          "text": [
            "Normal: 0.605\n",
            "SQRT  : 0.635\n",
            "log   : 0.605\n",
            "exp   : 0.603\n"
          ]
        }
      ]
    },
    {
      "cell_type": "code",
      "source": [
        "plt.figure(figsize=(16,6))\n",
        "plt.subplot(1,2,1)\n",
        "plt.title('Normal',size=18,fontweight= 'bold')\n",
        "plt.plot(df2[columns[i]],df2['Target_log'],'o')\n",
        "plt.subplot(1,2,2)\n",
        "plt.title('Sqrt',size=18,fontweight= 'bold')\n",
        "plt.plot(np.sqrt(df2[columns[i]]),df2['Target_log'],'o')\n"
      ],
      "metadata": {
        "colab": {
          "base_uri": "https://localhost:8080/",
          "height": 411
        },
        "id": "ICDElwKmd2QC",
        "outputId": "492283fd-10b5-4878-d162-34cc73017658"
      },
      "execution_count": null,
      "outputs": [
        {
          "output_type": "execute_result",
          "data": {
            "text/plain": [
              "[<matplotlib.lines.Line2D at 0x7f7b749af150>]"
            ]
          },
          "metadata": {},
          "execution_count": 45
        },
        {
          "output_type": "display_data",
          "data": {
            "image/png": "[encoded data removed]",
            "text/plain": [
              "<Figure size 1152x432 with 2 Axes>"
            ]
          },
          "metadata": {}
        }
      ]
    },
    {
      "cell_type": "code",
      "source": [
        "df2_3[columns[i]] = np.sqrt(df2_3[columns[i]])\n",
        "\n",
        "df2_3.index = np.arange(df2_3.shape[0])\n",
        "X23 = df2_3.drop(columns = ['Target_log','Date'])\n",
        "Y23 = df2_3['Target_log']\n",
        "Ypred23,Yv23,vetor_MAPE23 = validation(X23,Y23,Date)\n",
        "\n",
        "\n",
        "print('Bando de dados 2')\n",
        "print('Mape Geral:',np.format_float_positional(np.mean(vetor_MAPE2),5),'Std:',\n",
        "      np.format_float_positional(np.std(vetor_MAPE2),5),\n",
        "      'Erro:',np.format_float_positional(np.std(vetor_MAPE2)/np.sqrt(10),5))\n",
        "print('\\n')\n",
        "print('Tranformação')\n",
        "print('Mape Geral:',np.format_float_positional(np.mean(vetor_MAPE23),5),'Std:',\n",
        "      np.format_float_positional(np.std(vetor_MAPE23),5),\n",
        "      'Erro:',np.format_float_positional(np.std(vetor_MAPE23)/np.sqrt(10),5))"
      ],
      "metadata": {
        "colab": {
          "base_uri": "https://localhost:8080/"
        },
        "id": "LSGKLm-md2R_",
        "outputId": "5685e076-f306-43ec-e8f8-ad67925cae43"
      },
      "execution_count": null,
      "outputs": [
        {
          "output_type": "stream",
          "name": "stdout",
          "text": [
            "Data: 2004-04-14 - 2004-05-18 -> MAPE: 8.21626\n",
            "Data: 2004-05-18 - 2004-06-24 -> MAPE: 7.5518\n",
            "Data: 2004-06-24 - 2004-07-28 -> MAPE: 3.46294\n",
            "Data: 2004-07-28 - 2004-09-02 -> MAPE: 2.72635\n",
            "Data: 2004-09-02 - 2004-10-07 -> MAPE: 3.52573\n",
            "Data: 2004-10-07 - 2004-11-10 -> MAPE: 3.74583\n",
            "Data: 2004-11-10 - 2004-12-14 -> MAPE: 4.23696\n",
            "Data: 2004-12-14 - 2005-01-22 -> MAPE: 4.18833\n",
            "Data: 2005-01-22 - 2005-03-01 -> MAPE: 3.07869\n",
            "Data: 2005-03-01 - 2005-04-04 -> MAPE: 3.10085\n",
            "\n",
            "\n",
            "Mape Geral: 4.38337 Std: 1.81305 Erro: 0.57334\n",
            "Bando de dados 2\n",
            "Mape Geral: 4.38308 Std: 1.81264 Erro: 0.57321\n",
            "\n",
            "\n",
            "Tranformação\n",
            "Mape Geral: 4.38337 Std: 1.81305 Erro: 0.57334\n"
          ]
        }
      ]
    },
    {
      "cell_type": "markdown",
      "source": [
        "###PT08.S3(NOx)"
      ],
      "metadata": {
        "id": "L45zBgDufHxV"
      }
    },
    {
      "cell_type": "code",
      "source": [
        "i = 3\n",
        "print('Normal:',np.format_float_positional(np.corrcoef(df2[columns[i]],df2['Target_log'])[0][1],3))\n",
        "print('SQRT  :',np.format_float_positional(np.corrcoef(np.sqrt(df2[columns[i]]),df2['Target_log'])[0][1],3))\n",
        "print('log   :',np.format_float_positional(np.corrcoef(10**(df2[columns[i]]/100000),df2['Target_log'])[0][1],3))\n",
        "print('exp   :',np.format_float_positional(np.corrcoef(np.exp(df2[columns[i]]/10000),df2['Target_log'])[0][1],3))"
      ],
      "metadata": {
        "colab": {
          "base_uri": "https://localhost:8080/"
        },
        "id": "i_hf8q88d2bK",
        "outputId": "8ede7e8f-c4dd-4f97-f1ec-7561dcd28be4"
      },
      "execution_count": null,
      "outputs": [
        {
          "output_type": "stream",
          "name": "stdout",
          "text": [
            "Normal: -0.726\n",
            "SQRT  : -0.75\n",
            "log   : -0.725\n",
            "exp   : -0.72\n"
          ]
        }
      ]
    },
    {
      "cell_type": "code",
      "source": [
        "plt.figure(figsize=(16,6))\n",
        "plt.subplot(1,2,1)\n",
        "plt.title('Normal',size=18,fontweight= 'bold')\n",
        "plt.plot(df2[columns[i]],df2['Target_log'],'o')\n",
        "plt.subplot(1,2,2)\n",
        "plt.title('Sqrt',size=18,fontweight= 'bold')\n",
        "plt.plot(np.sqrt(df2[columns[i]]),df2['Target_log'],'o')\n"
      ],
      "metadata": {
        "colab": {
          "base_uri": "https://localhost:8080/",
          "height": 411
        },
        "id": "yMpBCCQefWlW",
        "outputId": "d7275bd4-9414-4332-83c5-34206c295a30"
      },
      "execution_count": null,
      "outputs": [
        {
          "output_type": "execute_result",
          "data": {
            "text/plain": [
              "[<matplotlib.lines.Line2D at 0x7f7b74872350>]"
            ]
          },
          "metadata": {},
          "execution_count": 51
        },
        {
          "output_type": "display_data",
          "data": {
            "image/png": "[encoded data removed]",
            "text/plain": [
              "<Figure size 1152x432 with 2 Axes>"
            ]
          },
          "metadata": {}
        }
      ]
    },
    {
      "cell_type": "code",
      "source": [
        "df2_4[columns[i]] = np.sqrt(df2_4[columns[i]])\n",
        "\n",
        "df2_4.index = np.arange(df2_4.shape[0])\n",
        "X24 = df2_4.drop(columns = ['Target_log','Date'])\n",
        "Y24 = df2_4['Target_log']\n",
        "Ypred24,Yv24,vetor_MAPE24 = validation(X23,Y23,Date)\n",
        "\n",
        "\n",
        "print('Bando de dados 2')\n",
        "print('Mape Geral:',np.format_float_positional(np.mean(vetor_MAPE2),5),'Std:',\n",
        "      np.format_float_positional(np.std(vetor_MAPE2),5),\n",
        "      'Erro:',np.format_float_positional(np.std(vetor_MAPE2)/np.sqrt(10),5))\n",
        "print('\\n')\n",
        "print('Tranformação')\n",
        "print('Mape Geral:',np.format_float_positional(np.mean(vetor_MAPE24),5),'Std:',\n",
        "      np.format_float_positional(np.std(vetor_MAPE24),5),\n",
        "      'Erro:',np.format_float_positional(np.std(vetor_MAPE24)/np.sqrt(10),5))"
      ],
      "metadata": {
        "colab": {
          "base_uri": "https://localhost:8080/"
        },
        "id": "0zjWVUDnfWut",
        "outputId": "93acec55-fd7b-436d-89b2-4fdc732038b1"
      },
      "execution_count": null,
      "outputs": [
        {
          "output_type": "stream",
          "name": "stdout",
          "text": [
            "Data: 2004-04-14 - 2004-05-18 -> MAPE: 8.21626\n",
            "Data: 2004-05-18 - 2004-06-24 -> MAPE: 7.5518\n",
            "Data: 2004-06-24 - 2004-07-28 -> MAPE: 3.46294\n",
            "Data: 2004-07-28 - 2004-09-02 -> MAPE: 2.72635\n",
            "Data: 2004-09-02 - 2004-10-07 -> MAPE: 3.52573\n",
            "Data: 2004-10-07 - 2004-11-10 -> MAPE: 3.74583\n",
            "Data: 2004-11-10 - 2004-12-14 -> MAPE: 4.23696\n",
            "Data: 2004-12-14 - 2005-01-22 -> MAPE: 4.18833\n",
            "Data: 2005-01-22 - 2005-03-01 -> MAPE: 3.07869\n",
            "Data: 2005-03-01 - 2005-04-04 -> MAPE: 3.10085\n",
            "\n",
            "\n",
            "Mape Geral: 4.38337 Std: 1.81305 Erro: 0.57334\n",
            "Bando de dados 2\n",
            "Mape Geral: 4.38308 Std: 1.81264 Erro: 0.57321\n",
            "\n",
            "\n",
            "Tranformação\n",
            "Mape Geral: 4.38337 Std: 1.81305 Erro: 0.57334\n"
          ]
        }
      ]
    },
    {
      "cell_type": "markdown",
      "source": [
        "### NO2(GT)"
      ],
      "metadata": {
        "id": "qZCyJrRGf5EM"
      }
    },
    {
      "cell_type": "code",
      "source": [
        "i = 4\n",
        "print('Normal:',np.format_float_positional(np.corrcoef(df2[columns[i]],df2['Target_log'])[0][1],3))\n",
        "print('SQRT  :',np.format_float_positional(np.corrcoef(np.sqrt(df2[columns[i]]),df2['Target_log'])[0][1],3))\n",
        "print('log   :',np.format_float_positional(np.corrcoef(10**(df2[columns[i]]/100000),df2['Target_log'])[0][1],3))\n",
        "print('exp   :',np.format_float_positional(np.corrcoef(np.exp(df2[columns[i]]/10000),df2['Target_log'])[0][1],3))"
      ],
      "metadata": {
        "colab": {
          "base_uri": "https://localhost:8080/"
        },
        "id": "QpW3XlCPfWwV",
        "outputId": "8cf865d2-7f1f-4157-fe92-f48ca90a052d"
      },
      "execution_count": null,
      "outputs": [
        {
          "output_type": "stream",
          "name": "stdout",
          "text": [
            "Normal: 0.601\n",
            "SQRT  : 0.614\n",
            "log   : 0.601\n",
            "exp   : 0.601\n"
          ]
        }
      ]
    },
    {
      "cell_type": "code",
      "source": [
        "plt.figure(figsize=(16,6))\n",
        "plt.subplot(1,2,1)\n",
        "plt.title('Normal',size=18,fontweight= 'bold')\n",
        "plt.plot(df2[columns[i]],df2['Target_log'],'o')\n",
        "plt.subplot(1,2,2)\n",
        "plt.title('Sqrt',size=18,fontweight= 'bold')\n",
        "plt.plot(np.sqrt(df2[columns[i]]),df2['Target_log'],'o')\n"
      ],
      "metadata": {
        "colab": {
          "base_uri": "https://localhost:8080/",
          "height": 411
        },
        "id": "1nj_IRGDdMXI",
        "outputId": "dfb7753d-754f-4703-bd88-3bf6ba35f169"
      },
      "execution_count": null,
      "outputs": [
        {
          "output_type": "execute_result",
          "data": {
            "text/plain": [
              "[<matplotlib.lines.Line2D at 0x7f7b74791d90>]"
            ]
          },
          "metadata": {},
          "execution_count": 53
        },
        {
          "output_type": "display_data",
          "data": {
            "image/png": "[encoded data removed]",
            "text/plain": [
              "<Figure size 1152x432 with 2 Axes>"
            ]
          },
          "metadata": {}
        }
      ]
    },
    {
      "cell_type": "code",
      "source": [
        "df2_5[columns[i]] = np.sqrt(df2_5[columns[i]])\n",
        "\n",
        "df2_5.index = np.arange(df2_5.shape[0])\n",
        "X25 = df2_5.drop(columns = ['Target_log','Date'])\n",
        "Y25 = df2_5['Target_log']\n",
        "Ypred25,Yv25,vetor_MAPE25 = validation(X25,Y25,Date)\n",
        "\n",
        "\n",
        "print('Bando de dados 2')\n",
        "print('Mape Geral:',np.format_float_positional(np.mean(vetor_MAPE2),5),'Std:',\n",
        "      np.format_float_positional(np.std(vetor_MAPE2),5),\n",
        "      'Erro:',np.format_float_positional(np.std(vetor_MAPE2)/np.sqrt(10),5))\n",
        "print('\\n')\n",
        "print('Tranformação')\n",
        "print('Mape Geral:',np.format_float_positional(np.mean(vetor_MAPE25),5),'Std:',\n",
        "      np.format_float_positional(np.std(vetor_MAPE25),5),\n",
        "      'Erro:',np.format_float_positional(np.std(vetor_MAPE25)/np.sqrt(10),5))"
      ],
      "metadata": {
        "colab": {
          "base_uri": "https://localhost:8080/"
        },
        "id": "jmE03yaxdMZD",
        "outputId": "2d0f44dd-fbc0-4244-8a0c-f5cd55e9deaf"
      },
      "execution_count": null,
      "outputs": [
        {
          "output_type": "stream",
          "name": "stdout",
          "text": [
            "Data: 2004-04-14 - 2004-05-18 -> MAPE: 8.21684\n",
            "Data: 2004-05-18 - 2004-06-24 -> MAPE: 7.55241\n",
            "Data: 2004-06-24 - 2004-07-28 -> MAPE: 3.46349\n",
            "Data: 2004-07-28 - 2004-09-02 -> MAPE: 2.72595\n",
            "Data: 2004-09-02 - 2004-10-07 -> MAPE: 3.52676\n",
            "Data: 2004-10-07 - 2004-11-10 -> MAPE: 3.7453\n",
            "Data: 2004-11-10 - 2004-12-14 -> MAPE: 4.23779\n",
            "Data: 2004-12-14 - 2005-01-22 -> MAPE: 4.18895\n",
            "Data: 2005-01-22 - 2005-03-01 -> MAPE: 3.07929\n",
            "Data: 2005-03-01 - 2005-04-04 -> MAPE: 3.09969\n",
            "\n",
            "\n",
            "Mape Geral: 4.38365 Std: 1.81328 Erro: 0.57341\n",
            "Bando de dados 2\n",
            "Mape Geral: 4.38308 Std: 1.81264 Erro: 0.57321\n",
            "\n",
            "\n",
            "Tranformação\n",
            "Mape Geral: 4.38365 Std: 1.81328 Erro: 0.57341\n"
          ]
        }
      ]
    },
    {
      "cell_type": "markdown",
      "source": [
        "### PT08.S4(NO2)"
      ],
      "metadata": {
        "id": "qUgbcfK6hH44"
      }
    },
    {
      "cell_type": "code",
      "source": [
        "i = 5\n",
        "print('Normal:',np.format_float_positional(np.corrcoef(df2[columns[i]],df2['Target_log'])[0][1],3))\n",
        "print('SQRT  :',np.format_float_positional(np.corrcoef(np.sqrt(df2[columns[i]]),df2['Target_log'])[0][1],3))\n",
        "print('log   :',np.format_float_positional(np.corrcoef(10**(df2[columns[i]]/100000),df2['Target_log'])[0][1],3))\n",
        "print('exp   :',np.format_float_positional(np.corrcoef(np.exp(df2[columns[i]]/10000),df2['Target_log'])[0][1],3))"
      ],
      "metadata": {
        "colab": {
          "base_uri": "https://localhost:8080/"
        },
        "id": "6t7jHm_SdMau",
        "outputId": "ba26cf12-bf13-42d1-9817-eead36929522"
      },
      "execution_count": null,
      "outputs": [
        {
          "output_type": "stream",
          "name": "stdout",
          "text": [
            "Normal: 0.586\n",
            "SQRT  : 0.582\n",
            "log   : 0.587\n",
            "exp   : 0.587\n"
          ]
        }
      ]
    },
    {
      "cell_type": "markdown",
      "source": [
        "* Não existe uma evolução consideravel de correlação"
      ],
      "metadata": {
        "id": "CqwOjd5AhVIl"
      }
    },
    {
      "cell_type": "markdown",
      "source": [
        "### PT08.S5(O3)"
      ],
      "metadata": {
        "id": "ku5qCPRxhn0Q"
      }
    },
    {
      "cell_type": "code",
      "source": [
        "i = 6\n",
        "print('Normal:',np.format_float_positional(np.corrcoef(df2[columns[i]],df2['Target_log'])[0][1],3))\n",
        "print('SQRT  :',np.format_float_positional(np.corrcoef(np.sqrt(df2[columns[i]]),df2['Target_log'])[0][1],3))\n",
        "print('log   :',np.format_float_positional(np.corrcoef(10**(df2[columns[i]]/100000),df2['Target_log'])[0][1],3))\n",
        "print('exp   :',np.format_float_positional(np.corrcoef(np.exp(df2[columns[i]]/10000),df2['Target_log'])[0][1],3))"
      ],
      "metadata": {
        "colab": {
          "base_uri": "https://localhost:8080/"
        },
        "id": "IQINp4SThgoL",
        "outputId": "7b19aa78-f799-4298-eeb6-b9ec175a1907"
      },
      "execution_count": null,
      "outputs": [
        {
          "output_type": "stream",
          "name": "stdout",
          "text": [
            "Normal: 0.822\n",
            "SQRT  : 0.823\n",
            "log   : 0.821\n",
            "exp   : 0.82\n"
          ]
        }
      ]
    },
    {
      "cell_type": "markdown",
      "source": [
        "* Não existe um aumento consideravel da correlação"
      ],
      "metadata": {
        "id": "-vVPJUINhtEK"
      }
    },
    {
      "cell_type": "markdown",
      "source": [
        "### Temperatura"
      ],
      "metadata": {
        "id": "IL0O91SZh78z"
      }
    },
    {
      "cell_type": "code",
      "source": [
        "i = 7\n",
        "print('Normal:',np.format_float_positional(np.corrcoef(df2[columns[i]],df2['Target_log'])[0][1],3))\n",
        "print('SQRT  :',np.format_float_positional(np.corrcoef(np.sqrt(df2[columns[i]]),df2['Target_log'])[0][1],3))\n",
        "print('log   :',np.format_float_positional(np.corrcoef(10**(df2[columns[i]]/100000),df2['Target_log'])[0][1],3))\n",
        "print('exp   :',np.format_float_positional(np.corrcoef(np.exp(df2[columns[i]]/10000),df2['Target_log'])[0][1],3))"
      ],
      "metadata": {
        "colab": {
          "base_uri": "https://localhost:8080/"
        },
        "id": "7ioaNhBYh6Ta",
        "outputId": "13253a78-fdb9-46a6-8b54-721712121407"
      },
      "execution_count": null,
      "outputs": [
        {
          "output_type": "stream",
          "name": "stdout",
          "text": [
            "Normal: 0.080\n",
            "SQRT  : nan\n",
            "log   : 0.080\n",
            "exp   : 0.08\n"
          ]
        },
        {
          "output_type": "stream",
          "name": "stderr",
          "text": [
            "/usr/local/lib/python3.7/dist-packages/pandas/core/series.py:726: RuntimeWarning: invalid value encountered in sqrt\n",
            "  result = getattr(ufunc, method)(*inputs, **kwargs)\n"
          ]
        }
      ]
    },
    {
      "cell_type": "markdown",
      "source": [
        "* Não existe um aumento consideravel da correlação."
      ],
      "metadata": {
        "id": "RGjNAEZXiMZf"
      }
    },
    {
      "cell_type": "markdown",
      "source": [
        "### RH"
      ],
      "metadata": {
        "id": "6xLlwgzviUq2"
      }
    },
    {
      "cell_type": "code",
      "source": [
        "i = 8\n",
        "print('Normal:',np.format_float_positional(np.corrcoef(df2[columns[i]],df2['Target_log'])[0][1],3))\n",
        "print('SQRT  :',np.format_float_positional(np.corrcoef(np.sqrt(df2[columns[i]]),df2['Target_log'])[0][1],3))\n",
        "print('log   :',np.format_float_positional(np.corrcoef(10**(df2[columns[i]]/100000),df2['Target_log'])[0][1],3))\n",
        "print('exp   :',np.format_float_positional(np.corrcoef(np.exp(df2[columns[i]]/10000),df2['Target_log'])[0][1],3))"
      ],
      "metadata": {
        "colab": {
          "base_uri": "https://localhost:8080/"
        },
        "id": "Z8S6Qtu5dMcd",
        "outputId": "e7e36d7d-184b-451d-af39-6714b1f41ff1"
      },
      "execution_count": null,
      "outputs": [
        {
          "output_type": "stream",
          "name": "stdout",
          "text": [
            "Normal: 0.089\n",
            "SQRT  : 0.092\n",
            "log   : 0.089\n",
            "exp   : 0.089\n"
          ]
        }
      ]
    },
    {
      "cell_type": "markdown",
      "source": [
        "* Não existe um aumento consideravel da correlação."
      ],
      "metadata": {
        "id": "m2WNQawwiZip"
      }
    },
    {
      "cell_type": "markdown",
      "source": [
        "### AH"
      ],
      "metadata": {
        "id": "dOp60m-Tikny"
      }
    },
    {
      "cell_type": "code",
      "source": [
        "i = 9\n",
        "print('Normal:',np.format_float_positional(np.corrcoef(df2[columns[i]],df2['Target_log'])[0][1],3))\n",
        "print('SQRT  :',np.format_float_positional(np.corrcoef(np.sqrt(df2[columns[i]]),df2['Target_log'])[0][1],3))\n",
        "print('log   :',np.format_float_positional(np.corrcoef(10**(df2[columns[i]]/100000),df2['Target_log'])[0][1],3))\n",
        "print('exp   :',np.format_float_positional(np.corrcoef(np.exp(df2[columns[i]]/10000),df2['Target_log'])[0][1],3))"
      ],
      "metadata": {
        "colab": {
          "base_uri": "https://localhost:8080/"
        },
        "id": "9enfwdwedMeN",
        "outputId": "ed0ab1bd-93fe-443a-8419-78f568b6c554"
      },
      "execution_count": null,
      "outputs": [
        {
          "output_type": "stream",
          "name": "stdout",
          "text": [
            "Normal: 0.151\n",
            "SQRT  : 0.170\n",
            "log   : 0.151\n",
            "exp   : 0.151\n"
          ]
        }
      ]
    },
    {
      "cell_type": "code",
      "source": [
        "plt.figure(figsize=(16,6))\n",
        "plt.subplot(1,2,1)\n",
        "plt.title('Normal',size=18,fontweight= 'bold')\n",
        "plt.plot(df2[columns[i]],df2['Target_log'],'o')\n",
        "plt.subplot(1,2,2)\n",
        "plt.title('Sqrt',size=18,fontweight= 'bold')\n",
        "plt.plot(np.sqrt(df2[columns[i]]),df2['Target_log'],'o')\n"
      ],
      "metadata": {
        "colab": {
          "base_uri": "https://localhost:8080/",
          "height": 411
        },
        "id": "Ynk_LeqvdMgV",
        "outputId": "ac9767b6-4a15-453f-cba0-4be011804e62"
      },
      "execution_count": null,
      "outputs": [
        {
          "output_type": "execute_result",
          "data": {
            "text/plain": [
              "[<matplotlib.lines.Line2D at 0x7f7b745abad0>]"
            ]
          },
          "metadata": {},
          "execution_count": 60
        },
        {
          "output_type": "display_data",
          "data": {
            "image/png": "[encoded data removed]",
            "text/plain": [
              "<Figure size 1152x432 with 2 Axes>"
            ]
          },
          "metadata": {}
        }
      ]
    },
    {
      "cell_type": "code",
      "source": [
        "df2_9[columns[i]] = np.sqrt(df2_9[columns[i]])\n",
        "\n",
        "df2_9.index = np.arange(df2_9.shape[0])\n",
        "X29 = df2_9.drop(columns = ['Target_log','Date'])\n",
        "Y29 = df2_9['Target_log']\n",
        "Ypred25,Yv29,vetor_MAPE29 = validation(X29,Y29,Date)\n",
        "\n",
        "\n",
        "print('Bando de dados 2')\n",
        "print('Mape Geral:',np.format_float_positional(np.mean(vetor_MAPE2),5),'Std:',\n",
        "      np.format_float_positional(np.std(vetor_MAPE2),5),\n",
        "      'Erro:',np.format_float_positional(np.std(vetor_MAPE2)/np.sqrt(10),5))\n",
        "print('\\n')\n",
        "print('Tranformação')\n",
        "print('Mape Geral:',np.format_float_positional(np.mean(vetor_MAPE29),5),'Std:',\n",
        "      np.format_float_positional(np.std(vetor_MAPE29),5),\n",
        "      'Erro:',np.format_float_positional(np.std(vetor_MAPE29)/np.sqrt(10),5))"
      ],
      "metadata": {
        "colab": {
          "base_uri": "https://localhost:8080/"
        },
        "id": "1qjK_fAsdMiL",
        "outputId": "35246f83-5511-41c5-e09f-a8e94a0d6962"
      },
      "execution_count": null,
      "outputs": [
        {
          "output_type": "stream",
          "name": "stdout",
          "text": [
            "Data: 2004-04-14 - 2004-05-18 -> MAPE: 8.21557\n",
            "Data: 2004-05-18 - 2004-06-24 -> MAPE: 7.551\n",
            "Data: 2004-06-24 - 2004-07-28 -> MAPE: 3.46370\n",
            "Data: 2004-07-28 - 2004-09-02 -> MAPE: 2.72625\n",
            "Data: 2004-09-02 - 2004-10-07 -> MAPE: 3.5256\n",
            "Data: 2004-10-07 - 2004-11-10 -> MAPE: 3.74491\n",
            "Data: 2004-11-10 - 2004-12-14 -> MAPE: 4.23654\n",
            "Data: 2004-12-14 - 2005-01-22 -> MAPE: 4.18712\n",
            "Data: 2005-01-22 - 2005-03-01 -> MAPE: 3.07945\n",
            "Data: 2005-03-01 - 2005-04-04 -> MAPE: 3.10045\n",
            "\n",
            "\n",
            "Mape Geral: 4.38306 Std: 1.81276 Erro: 0.57325\n",
            "Bando de dados 2\n",
            "Mape Geral: 4.38308 Std: 1.81264 Erro: 0.57321\n",
            "\n",
            "\n",
            "Tranformação\n",
            "Mape Geral: 4.38306 Std: 1.81276 Erro: 0.57325\n"
          ]
        }
      ]
    },
    {
      "cell_type": "markdown",
      "source": [
        "* Testando todas as tranformações que aumentaram a correlação."
      ],
      "metadata": {
        "id": "E4xTXEGMjfoF"
      }
    },
    {
      "cell_type": "code",
      "source": [
        "i = 0\n",
        "df2_10[columns[i]] = np.sqrt(df2_10[columns[i]])\n",
        "i = 1\n",
        "df2_10[columns[i]] = np.sqrt(df2_10[columns[i]])\n",
        "i = 2\n",
        "df2_10[columns[i]] = np.sqrt(df2_10[columns[i]])\n",
        "i = 3\n",
        "df2_10[columns[i]] = np.sqrt(df2_10[columns[i]])\n",
        "i = 4\n",
        "df2_10[columns[i]] = np.sqrt(df2_10[columns[i]])\n",
        "i = 8\n",
        "df2_10[columns[i]] = np.sqrt(df2_10[columns[i]])\n",
        "i = 9\n",
        "df2_10[columns[i]] = np.sqrt(df2_10[columns[i]])"
      ],
      "metadata": {
        "id": "9bXlWGciTmLr"
      },
      "execution_count": null,
      "outputs": []
    },
    {
      "cell_type": "code",
      "source": [
        "df2_10[columns[i]] = np.sqrt(df2_10[columns[i]])\n",
        "\n",
        "df2_10.index = np.arange(df2_10.shape[0])\n",
        "X210 = df2_10.drop(columns = ['Target_log','Date'])\n",
        "Y210 = df2_10['Target_log']\n",
        "Ypred210,Yv210,vetor_MAPE210 = validation(X210,Y210,Date)\n",
        "\n",
        "\n",
        "print('Bando de dados 2')\n",
        "print('Mape Geral:',np.format_float_positional(np.mean(vetor_MAPE2),5),'Std:',\n",
        "      np.format_float_positional(np.std(vetor_MAPE2),5),\n",
        "      'Erro:',np.format_float_positional(np.std(vetor_MAPE2)/np.sqrt(10),5))\n",
        "print('\\n')\n",
        "print('Tranformação')\n",
        "print('Mape Geral:',np.format_float_positional(np.mean(vetor_MAPE210),5),'Std:',\n",
        "      np.format_float_positional(np.std(vetor_MAPE210),5),\n",
        "      'Erro:',np.format_float_positional(np.std(vetor_MAPE210)/np.sqrt(10),5))"
      ],
      "metadata": {
        "colab": {
          "base_uri": "https://localhost:8080/"
        },
        "id": "tRYbeMUYTmNU",
        "outputId": "f17dab66-f75a-4d70-fbf7-55670e032d3c"
      },
      "execution_count": null,
      "outputs": [
        {
          "output_type": "stream",
          "name": "stdout",
          "text": [
            "Data: 2004-04-14 - 2004-05-18 -> MAPE: 8.24874\n",
            "Data: 2004-05-18 - 2004-06-24 -> MAPE: 7.56769\n",
            "Data: 2004-06-24 - 2004-07-28 -> MAPE: 3.46586\n",
            "Data: 2004-07-28 - 2004-09-02 -> MAPE: 2.72284\n",
            "Data: 2004-09-02 - 2004-10-07 -> MAPE: 3.52838\n",
            "Data: 2004-10-07 - 2004-11-10 -> MAPE: 3.75087\n",
            "Data: 2004-11-10 - 2004-12-14 -> MAPE: 4.23404\n",
            "Data: 2004-12-14 - 2005-01-22 -> MAPE: 4.19014\n",
            "Data: 2005-01-22 - 2005-03-01 -> MAPE: 3.07586\n",
            "Data: 2005-03-01 - 2005-04-04 -> MAPE: 3.09876\n",
            "\n",
            "\n",
            "Mape Geral: 4.38832 Std: 1.82292 Erro: 0.57646\n",
            "Bando de dados 2\n",
            "Mape Geral: 4.38308 Std: 1.81264 Erro: 0.57321\n",
            "\n",
            "\n",
            "Tranformação\n",
            "Mape Geral: 4.38832 Std: 1.82292 Erro: 0.57646\n"
          ]
        }
      ]
    },
    {
      "cell_type": "markdown",
      "source": [
        "# Conclusão.\n",
        " \n",
        "* A melhor configuração apontada é a get_dummies para estações e label_encoder para dias da semana ele obteve um MAPE de 4 %\n"
      ],
      "metadata": {
        "id": "u4GbH3j0OBaX"
      }
    },
    {
      "cell_type": "code",
      "source": [
        "df2.to_csv('/content/drive/My Drive/new_dados3.csv')"
      ],
      "metadata": {
        "id": "yKEOgW0C1BKG"
      },
      "execution_count": null,
      "outputs": []
    },
    {
      "cell_type": "code",
      "source": [
        ""
      ],
      "metadata": {
        "id": "dVBuS5tuhuBi"
      },
      "execution_count": null,
      "outputs": []
    }
  ]
}