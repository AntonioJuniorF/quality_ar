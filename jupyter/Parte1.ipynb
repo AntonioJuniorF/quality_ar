{
  "nbformat": 4,
  "nbformat_minor": 0,
  "metadata": {
    "colab": {
      "name": "Parte1.ipynb",
      "provenance": []
    },
    "kernelspec": {
      "name": "python3",
      "display_name": "Python 3"
    },
    "language_info": {
      "name": "python"
    }
  },
  "cells": [
    {
      "cell_type": "markdown",
      "source": [
        "# Introdução \n",
        "\n",
        "Em uma cidade ficcia foi medido dados de 5 sensosres quíímicos de um dipostivo multisensor(PTXX.SX).O dispositivo estava localizado a níível da rua, dentro deuma cidade significativamente poluído. Os dados foram registrados de março de 2024 a fevereiro de 2005.\n",
        "\n",
        "Entre estes dados medidos é desejado criar um modelo estatistico que estime a emição de CO desta cidade."
      ],
      "metadata": {
        "id": "XHSIkGqZZQ-z"
      }
    },
    {
      "cell_type": "markdown",
      "source": [
        "# Informações dos dados obtidos.\n",
        "\n",
        "O conjunto de dados contém 9358 resultados médios de 5 sensores químicos de um dispositivo multisensor (PTXX.SX). O dispositivo estava localizado a nível da rua, dentro de uma cidade significativamente poluída. Os dados foram registrados de março de 2004 a fevereiro de 2005 (um ano). Valores ausentes são marcados com o valor -200. A medida de outros sensores também está disponível e algumas podem ser redundantes. ***A variável chave a ser analisada é PT08.S1 (CO), concentração de CO na atmosfera.***\n",
        "Informação das colunas:\n",
        "\n",
        "1.  Date (DD/MM/YYYY)\n",
        "2.  Time (HH.MM.SS)\n",
        "3.  PT08.S1 (CO) – Variável de predição\n",
        "4.  Non Metanic HydroCarbons Concentration (mg/m^3)\n",
        "5.  Benzene Concentration (mg/m^3)\n",
        "6.  PT08.S2 (NMHC)\n",
        "7.  NOx Concentration (ppb)\n",
        "8.  PT08.S3 (NOx)\n",
        "9.  NO2 Concentration (mg/m^3)\n",
        "10. PT08.S4 (NO2s)\n",
        "11. PT08.S5 (O3)\n",
        "12. Temperature (C)\n",
        "13. Relative Humidity (%)\n",
        "14. AH Absolute Humidity\n",
        "  \n"
      ],
      "metadata": {
        "id": "_oe_OeOQZbVw"
      }
    },
    {
      "cell_type": "markdown",
      "source": [
        "# Objetivo.\n",
        " \n",
        "Essa parte tem como objetivo tratar os dados disponibilizados pelo dataset.\n",
        " \n",
        "* Uma informação sobre essa parte é de que os dados faltantes dos sensores estão sendo preenchidos com os valores de -200.\n",
        " \n",
        "\n",
        " \n"
      ],
      "metadata": {
        "id": "STGVVQxkZhCF"
      }
    },
    {
      "cell_type": "markdown",
      "source": [
        "# Funções."
      ],
      "metadata": {
        "id": "2Nml7K2laqrQ"
      }
    },
    {
      "cell_type": "code",
      "source": [
        "#Funções.\n",
        "\n",
        "def desc_df(df):\n",
        "# Esta função descreve a estrutura do conjunto de dados utilizado, no caso ela informa sobre o conjunto de dados \n",
        "# o seu tamanho, o tipo de cada coluna e a porcentagem de dados faltantes para cada coluna.\n",
        "\n",
        "  print('Sobre os tamanho do conjunto de dados')\n",
        "  print('Número de Linhas: ', df.shape[0])\n",
        "  print('Número de colunas:', df.shape[1],'\\n')\n",
        "\n",
        "\n",
        "  print('Tipos das colunas')\n",
        "  print(df.dtypes,'\\n')\n",
        "\n",
        "\n",
        "  print('\\n')\n",
        "  print('Sobre os Dados faltantes')\n",
        "  if np.sum(df.isnull().sum(axis = 0)/df.shape[1] == 0) == df.shape[1]:\n",
        "    print('Não existe dados faltantes','\\n')\n",
        "  else:\n",
        "    print('Existe dados faltantes')\n",
        "    print('dados faltantes nos dados de treiamento: \\n',np.sum(df.isnull(),axis = 0)/df.shape[1] == 0,'\\n')\n",
        "\n",
        "  print('\\nnúmero de dados unicos')\n",
        "  for i in range(df.shape[1]):\n",
        "    print(df.columns[i] ,':' ,len(np.unique(df[df.columns[i]])))\n"
      ],
      "metadata": {
        "id": "V1WYP5IOayeH"
      },
      "execution_count": null,
      "outputs": []
    },
    {
      "cell_type": "markdown",
      "source": [
        "# Bibliotecas"
      ],
      "metadata": {
        "id": "34BewiWFaHNk"
      }
    },
    {
      "cell_type": "code",
      "source": [
        "# import pandas as pd\n",
        "import numpy as np\n",
        "import pandas as pd \n",
        "import matplotlib.pyplot as plt\n",
        "%matplotlib inline\n",
        "from google.colab import drive\n",
        "drive.mount('/content/drive')\n",
        "import seaborn as sns\n",
        "\n",
        "\n",
        "\n",
        "from datetime import datetime"
      ],
      "metadata": {
        "colab": {
          "base_uri": "https://localhost:8080/"
        },
        "id": "TL77Qq_3aKly",
        "outputId": "54931e74-341e-4658-a5d7-9de67b2709b5"
      },
      "execution_count": null,
      "outputs": [
        {
          "output_type": "stream",
          "name": "stdout",
          "text": [
            "Mounted at /content/drive\n"
          ]
        }
      ]
    },
    {
      "cell_type": "markdown",
      "source": [
        "# Importado os dados"
      ],
      "metadata": {
        "id": "c_a99nBaZ_Iu"
      }
    },
    {
      "cell_type": "code",
      "source": [
        "df = pd.read_csv('/content/drive/My Drive/qualidade_do_ar.csv', encoding = \"UTF-8\", sep = \";\", header = 0,parse_dates=['Date'],decimal = ',',dayfirst = True)\n"
      ],
      "metadata": {
        "id": "rARbLDN6ZZSy"
      },
      "execution_count": null,
      "outputs": []
    },
    {
      "cell_type": "code",
      "source": [
        "df.head() # visualizando os dados."
      ],
      "metadata": {
        "colab": {
          "base_uri": "https://localhost:8080/",
          "height": 337
        },
        "id": "NeXFE5NVaC_t",
        "outputId": "70261f5e-8504-45cd-ba38-76249c2edb4e"
      },
      "execution_count": null,
      "outputs": [
        {
          "output_type": "execute_result",
          "data": {
            "text/html": [
              "\n",
              "  <div id=\"df-cf2c2daa-1124-4622-afac-1f51e099f2d5\">\n",
              "    <div class=\"colab-df-container\">\n",
              "      <div>\n",
              "<style scoped>\n",
              "    .dataframe tbody tr th:only-of-type {\n",
              "        vertical-align: middle;\n",
              "    }\n",
              "\n",
              "    .dataframe tbody tr th {\n",
              "        vertical-align: top;\n",
              "    }\n",
              "\n",
              "    .dataframe thead th {\n",
              "        text-align: right;\n",
              "    }\n",
              "</style>\n",
              "<table border=\"1\" class=\"dataframe\">\n",
              "  <thead>\n",
              "    <tr style=\"text-align: right;\">\n",
              "      <th></th>\n",
              "      <th>Date</th>\n",
              "      <th>Time</th>\n",
              "      <th>PT08.S1(CO)</th>\n",
              "      <th>NMHC(GT)</th>\n",
              "      <th>C6H6(GT)</th>\n",
              "      <th>PT08.S2(NMHC)</th>\n",
              "      <th>NOx(GT)</th>\n",
              "      <th>PT08.S3(NOx)</th>\n",
              "      <th>NO2(GT)</th>\n",
              "      <th>PT08.S4(NO2)</th>\n",
              "      <th>PT08.S5(O3)</th>\n",
              "      <th>T</th>\n",
              "      <th>RH</th>\n",
              "      <th>AH</th>\n",
              "    </tr>\n",
              "  </thead>\n",
              "  <tbody>\n",
              "    <tr>\n",
              "      <th>0</th>\n",
              "      <td>2004-03-10</td>\n",
              "      <td>18.00.00</td>\n",
              "      <td>1360</td>\n",
              "      <td>150</td>\n",
              "      <td>11.9</td>\n",
              "      <td>1046</td>\n",
              "      <td>166</td>\n",
              "      <td>1056</td>\n",
              "      <td>113</td>\n",
              "      <td>1692</td>\n",
              "      <td>1268</td>\n",
              "      <td>13.6</td>\n",
              "      <td>48.9</td>\n",
              "      <td>0.7578</td>\n",
              "    </tr>\n",
              "    <tr>\n",
              "      <th>1</th>\n",
              "      <td>2004-03-10</td>\n",
              "      <td>19.00.00</td>\n",
              "      <td>1292</td>\n",
              "      <td>112</td>\n",
              "      <td>9.4</td>\n",
              "      <td>955</td>\n",
              "      <td>103</td>\n",
              "      <td>1174</td>\n",
              "      <td>92</td>\n",
              "      <td>1559</td>\n",
              "      <td>972</td>\n",
              "      <td>13.3</td>\n",
              "      <td>47.7</td>\n",
              "      <td>0.7255</td>\n",
              "    </tr>\n",
              "    <tr>\n",
              "      <th>2</th>\n",
              "      <td>2004-03-10</td>\n",
              "      <td>20.00.00</td>\n",
              "      <td>1402</td>\n",
              "      <td>88</td>\n",
              "      <td>9.0</td>\n",
              "      <td>939</td>\n",
              "      <td>131</td>\n",
              "      <td>1140</td>\n",
              "      <td>114</td>\n",
              "      <td>1555</td>\n",
              "      <td>1074</td>\n",
              "      <td>11.9</td>\n",
              "      <td>54.0</td>\n",
              "      <td>0.7502</td>\n",
              "    </tr>\n",
              "    <tr>\n",
              "      <th>3</th>\n",
              "      <td>2004-03-10</td>\n",
              "      <td>21.00.00</td>\n",
              "      <td>1376</td>\n",
              "      <td>80</td>\n",
              "      <td>9.2</td>\n",
              "      <td>948</td>\n",
              "      <td>172</td>\n",
              "      <td>1092</td>\n",
              "      <td>122</td>\n",
              "      <td>1584</td>\n",
              "      <td>1203</td>\n",
              "      <td>11.0</td>\n",
              "      <td>60.0</td>\n",
              "      <td>0.7867</td>\n",
              "    </tr>\n",
              "    <tr>\n",
              "      <th>4</th>\n",
              "      <td>2004-03-10</td>\n",
              "      <td>22.00.00</td>\n",
              "      <td>1272</td>\n",
              "      <td>51</td>\n",
              "      <td>6.5</td>\n",
              "      <td>836</td>\n",
              "      <td>131</td>\n",
              "      <td>1205</td>\n",
              "      <td>116</td>\n",
              "      <td>1490</td>\n",
              "      <td>1110</td>\n",
              "      <td>11.2</td>\n",
              "      <td>59.6</td>\n",
              "      <td>0.7888</td>\n",
              "    </tr>\n",
              "  </tbody>\n",
              "</table>\n",
              "</div>\n",
              "      <button class=\"colab-df-convert\" onclick=\"convertToInteractive('df-cf2c2daa-1124-4622-afac-1f51e099f2d5')\"\n",
              "              title=\"Convert this dataframe to an interactive table.\"\n",
              "              style=\"display:none;\">\n",
              "        \n",
              "  <svg xmlns=\"http://www.w3.org/2000/svg\" height=\"24px\"viewBox=\"0 0 24 24\"\n",
              "       width=\"24px\">\n",
              "    <path d=\"M0 0h24v24H0V0z\" fill=\"none\"/>\n",
              "    <path d=\"M18.56 5.44l.94 2.06.94-2.06 2.06-.94-2.06-.94-.94-2.06-.94 2.06-2.06.94zm-11 1L8.5 8.5l.94-2.06 2.06-.94-2.06-.94L8.5 2.5l-.94 2.06-2.06.94zm10 10l.94 2.06.94-2.06 2.06-.94-2.06-.94-.94-2.06-.94 2.06-2.06.94z\"/><path d=\"M17.41 7.96l-1.37-1.37c-.4-.4-.92-.59-1.43-.59-.52 0-1.04.2-1.43.59L10.3 9.45l-7.72 7.72c-.78.78-.78 2.05 0 2.83L4 21.41c.39.39.9.59 1.41.59.51 0 1.02-.2 1.41-.59l7.78-7.78 2.81-2.81c.8-.78.8-2.07 0-2.86zM5.41 20L4 18.59l7.72-7.72 1.47 1.35L5.41 20z\"/>\n",
              "  </svg>\n",
              "      </button>\n",
              "      \n",
              "  <style>\n",
              "    .colab-df-container {\n",
              "      display:flex;\n",
              "      flex-wrap:wrap;\n",
              "      gap: 12px;\n",
              "    }\n",
              "\n",
              "    .colab-df-convert {\n",
              "      background-color: #E8F0FE;\n",
              "      border: none;\n",
              "      border-radius: 50%;\n",
              "      cursor: pointer;\n",
              "      display: none;\n",
              "      fill: #1967D2;\n",
              "      height: 32px;\n",
              "      padding: 0 0 0 0;\n",
              "      width: 32px;\n",
              "    }\n",
              "\n",
              "    .colab-df-convert:hover {\n",
              "      background-color: #E2EBFA;\n",
              "      box-shadow: 0px 1px 2px rgba(60, 64, 67, 0.3), 0px 1px 3px 1px rgba(60, 64, 67, 0.15);\n",
              "      fill: #174EA6;\n",
              "    }\n",
              "\n",
              "    [theme=dark] .colab-df-convert {\n",
              "      background-color: #3B4455;\n",
              "      fill: #D2E3FC;\n",
              "    }\n",
              "\n",
              "    [theme=dark] .colab-df-convert:hover {\n",
              "      background-color: #434B5C;\n",
              "      box-shadow: 0px 1px 3px 1px rgba(0, 0, 0, 0.15);\n",
              "      filter: drop-shadow(0px 1px 2px rgba(0, 0, 0, 0.3));\n",
              "      fill: #FFFFFF;\n",
              "    }\n",
              "  </style>\n",
              "\n",
              "      <script>\n",
              "        const buttonEl =\n",
              "          document.querySelector('#df-cf2c2daa-1124-4622-afac-1f51e099f2d5 button.colab-df-convert');\n",
              "        buttonEl.style.display =\n",
              "          google.colab.kernel.accessAllowed ? 'block' : 'none';\n",
              "\n",
              "        async function convertToInteractive(key) {\n",
              "          const element = document.querySelector('#df-cf2c2daa-1124-4622-afac-1f51e099f2d5');\n",
              "          const dataTable =\n",
              "            await google.colab.kernel.invokeFunction('convertToInteractive',\n",
              "                                                     [key], {});\n",
              "          if (!dataTable) return;\n",
              "\n",
              "          const docLinkHtml = 'Like what you see? Visit the ' +\n",
              "            '<a target=\"_blank\" href=https://colab.research.google.com/notebooks/data_table.ipynb>data table notebook</a>'\n",
              "            + ' to learn more about interactive tables.';\n",
              "          element.innerHTML = '';\n",
              "          dataTable['output_type'] = 'display_data';\n",
              "          await google.colab.output.renderOutput(dataTable, element);\n",
              "          const docLink = document.createElement('div');\n",
              "          docLink.innerHTML = docLinkHtml;\n",
              "          element.appendChild(docLink);\n",
              "        }\n",
              "      </script>\n",
              "    </div>\n",
              "  </div>\n",
              "  "
            ],
            "text/plain": [
              "        Date      Time  PT08.S1(CO)  NMHC(GT)  ...  PT08.S5(O3)     T    RH      AH\n",
              "0 2004-03-10  18.00.00         1360       150  ...         1268  13.6  48.9  0.7578\n",
              "1 2004-03-10  19.00.00         1292       112  ...          972  13.3  47.7  0.7255\n",
              "2 2004-03-10  20.00.00         1402        88  ...         1074  11.9  54.0  0.7502\n",
              "3 2004-03-10  21.00.00         1376        80  ...         1203  11.0  60.0  0.7867\n",
              "4 2004-03-10  22.00.00         1272        51  ...         1110  11.2  59.6  0.7888\n",
              "\n",
              "[5 rows x 14 columns]"
            ]
          },
          "metadata": {},
          "execution_count": 4
        }
      ]
    },
    {
      "cell_type": "markdown",
      "source": [
        "# Estrutura do dataset"
      ],
      "metadata": {
        "id": "fPt3iSvwaeeW"
      }
    },
    {
      "cell_type": "code",
      "source": [
        "desc_df(df)"
      ],
      "metadata": {
        "colab": {
          "base_uri": "https://localhost:8080/"
        },
        "id": "Tk_4PULOaWlb",
        "outputId": "0a045350-208a-45e5-e83b-fc7d6ee0dc9c"
      },
      "execution_count": null,
      "outputs": [
        {
          "output_type": "stream",
          "name": "stdout",
          "text": [
            "Sobre os tamanho do conjunto de dados\n",
            "Número de Linhas:  9357\n",
            "Número de colunas: 14 \n",
            "\n",
            "Tipos das colunas\n",
            "Date             datetime64[ns]\n",
            "Time                     object\n",
            "PT08.S1(CO)               int64\n",
            "NMHC(GT)                  int64\n",
            "C6H6(GT)                float64\n",
            "PT08.S2(NMHC)             int64\n",
            "NOx(GT)                   int64\n",
            "PT08.S3(NOx)              int64\n",
            "NO2(GT)                   int64\n",
            "PT08.S4(NO2)              int64\n",
            "PT08.S5(O3)               int64\n",
            "T                       float64\n",
            "RH                      float64\n",
            "AH                      float64\n",
            "dtype: object \n",
            "\n",
            "\n",
            "\n",
            "Sobre os Dados faltantes\n",
            "Não existe dados faltantes \n",
            "\n",
            "\n",
            "número de dados unicos\n",
            "Date : 391\n",
            "Time : 24\n",
            "PT08.S1(CO) : 1042\n",
            "NMHC(GT) : 430\n",
            "C6H6(GT) : 408\n",
            "PT08.S2(NMHC) : 1246\n",
            "NOx(GT) : 926\n",
            "PT08.S3(NOx) : 1222\n",
            "NO2(GT) : 284\n",
            "PT08.S4(NO2) : 1604\n",
            "PT08.S5(O3) : 1744\n",
            "T : 437\n",
            "RH : 754\n",
            "AH : 6684\n"
          ]
        }
      ]
    },
    {
      "cell_type": "markdown",
      "source": [
        "* Antes de prosseguir com as análises será visto o intervalo de aquisição de uma amostra. \n",
        "\n",
        "* Para ver se esse intervalo está sendo feito de forma regular ou não. \n",
        "\n",
        "*Ou se houve em algum momento que não aconteceu nenhuma aquisição de dados.\n",
        "\n",
        "\n",
        "\n"
      ],
      "metadata": {
        "id": "Ed3GPCFbg7vq"
      }
    },
    {
      "cell_type": "markdown",
      "source": [
        " # Intervalo entre as amostras.\n",
        " \n",
        "* Primeiro será visto o intervalo de tempo entre cada amostra que foi adquirido.\n",
        " \n",
        "* Para fazer esse cálculo será suposto que foram adquirindo dados em todos os dias."
      ],
      "metadata": {
        "id": "W0ktxqkkhz3z"
      }
    },
    {
      "cell_type": "code",
      "source": [
        "df['Time'] =df['Time'].str.replace('.',':')"
      ],
      "metadata": {
        "id": "_pJdariwje7f"
      },
      "execution_count": null,
      "outputs": []
    },
    {
      "cell_type": "code",
      "source": [
        "hora = []\n",
        "minulto = []\n",
        "segundo = []\n",
        "\n",
        "for i in range(df.shape[0]):\n",
        "  dados = df['Time'][i].split(':')\n",
        "  hora.append(int(dados[0]))\n",
        "  minulto.append(int(dados[1]))\n",
        "  segundo.append(int(dados[2]))"
      ],
      "metadata": {
        "id": "3j6EB1gdkIFJ"
      },
      "execution_count": null,
      "outputs": []
    },
    {
      "cell_type": "code",
      "source": [
        "intervalo = np.array(hora)*60*60 + np.array(minulto)*60 + np.array(segundo)"
      ],
      "metadata": {
        "id": "ohbQ5B9BkIGn"
      },
      "execution_count": null,
      "outputs": []
    },
    {
      "cell_type": "code",
      "source": [
        "print('Valores dos intervalos de aquisição:',np.unique(np.diff(intervalo)))\n"
      ],
      "metadata": {
        "colab": {
          "base_uri": "https://localhost:8080/"
        },
        "id": "qEQmPly-kIIr",
        "outputId": "ac8f43e2-17e4-4aea-9722-265eaa885f70"
      },
      "execution_count": null,
      "outputs": [
        {
          "output_type": "stream",
          "name": "stdout",
          "text": [
            "Valores dos intervalos de aquisição: [-82800   3600]\n"
          ]
        }
      ]
    },
    {
      "cell_type": "code",
      "source": [
        "# passando estes valores para segundos"
      ],
      "metadata": {
        "id": "MqVoK83okIJ7"
      },
      "execution_count": null,
      "outputs": []
    },
    {
      "cell_type": "code",
      "source": [
        "# Passando o intervalo para hora\n",
        "np.unique(np.diff(intervalo))/(60*60)"
      ],
      "metadata": {
        "colab": {
          "base_uri": "https://localhost:8080/"
        },
        "id": "pEVEsiSetBwI",
        "outputId": "58418671-850a-41d1-ee30-a6f28d16f7a7"
      },
      "execution_count": null,
      "outputs": [
        {
          "output_type": "execute_result",
          "data": {
            "text/plain": [
              "array([-23.,   1.])"
            ]
          },
          "metadata": {},
          "execution_count": 11
        }
      ]
    },
    {
      "cell_type": "markdown",
      "source": [
        "* Existem dois intervalos de tempo em horas: um é 1 e outro de -23 horas. Esse valor negativo está acontecendo pelo fato de que a meia noite nos dados é marcado como 0 horas. Logo o intervalo entre uma amostra e outra é de 1 hora.\n",
        " \n",
        "* Como os dados só estão sendo adquiridos a cada hora do dia. Essa coluna será convertida para um valor inteiro.\n",
        " \n",
        "\n"
      ],
      "metadata": {
        "id": "QjhifakQrBYE"
      }
    },
    {
      "cell_type": "code",
      "source": [
        "df['Time'] = df['Time'].map({'00:00:00': 0,  '01:00:00': 1,\n",
        "                             '02:00:00': 2,  '03:00:00': 3, \n",
        "                             '04:00:00': 4,  '05:00:00': 5, \n",
        "                             '06:00:00': 6,  '07:00:00': 7, \n",
        "                             '08:00:00': 8,  '09:00:00': 9,\n",
        "                             '10:00:00': 10, '11:00:00': 11, \n",
        "                             '12:00:00': 12, '13:00:00': 13,\n",
        "                             '14:00:00': 14, '15:00:00': 15, \n",
        "                             '16:00:00': 16, '17:00:00': 17, \n",
        "                             '18:00:00': 18, '19:00:00': 19,\n",
        "                             '20:00:00': 20, '21:00:00': 21, \n",
        "                             '22:00:00': 22, '23:00:00': 23})"
      ],
      "metadata": {
        "id": "5Zg05279wzc_"
      },
      "execution_count": null,
      "outputs": []
    },
    {
      "cell_type": "code",
      "source": [
        "df.head()"
      ],
      "metadata": {
        "colab": {
          "base_uri": "https://localhost:8080/",
          "height": 250
        },
        "id": "FAi3kS1SLITU",
        "outputId": "134860e0-2372-4ae9-8ceb-95848222c713"
      },
      "execution_count": null,
      "outputs": [
        {
          "output_type": "execute_result",
          "data": {
            "text/html": [
              "\n",
              "  <div id=\"df-b35f10a4-3c9a-4481-b7f1-b2c25b7118ff\">\n",
              "    <div class=\"colab-df-container\">\n",
              "      <div>\n",
              "<style scoped>\n",
              "    .dataframe tbody tr th:only-of-type {\n",
              "        vertical-align: middle;\n",
              "    }\n",
              "\n",
              "    .dataframe tbody tr th {\n",
              "        vertical-align: top;\n",
              "    }\n",
              "\n",
              "    .dataframe thead th {\n",
              "        text-align: right;\n",
              "    }\n",
              "</style>\n",
              "<table border=\"1\" class=\"dataframe\">\n",
              "  <thead>\n",
              "    <tr style=\"text-align: right;\">\n",
              "      <th></th>\n",
              "      <th>Date</th>\n",
              "      <th>Time</th>\n",
              "      <th>PT08.S1(CO)</th>\n",
              "      <th>NMHC(GT)</th>\n",
              "      <th>C6H6(GT)</th>\n",
              "      <th>PT08.S2(NMHC)</th>\n",
              "      <th>NOx(GT)</th>\n",
              "      <th>PT08.S3(NOx)</th>\n",
              "      <th>NO2(GT)</th>\n",
              "      <th>PT08.S4(NO2)</th>\n",
              "      <th>PT08.S5(O3)</th>\n",
              "      <th>T</th>\n",
              "      <th>RH</th>\n",
              "      <th>AH</th>\n",
              "    </tr>\n",
              "  </thead>\n",
              "  <tbody>\n",
              "    <tr>\n",
              "      <th>0</th>\n",
              "      <td>2004-03-10</td>\n",
              "      <td>18</td>\n",
              "      <td>1360</td>\n",
              "      <td>150</td>\n",
              "      <td>11.9</td>\n",
              "      <td>1046</td>\n",
              "      <td>166</td>\n",
              "      <td>1056</td>\n",
              "      <td>113</td>\n",
              "      <td>1692</td>\n",
              "      <td>1268</td>\n",
              "      <td>13.6</td>\n",
              "      <td>48.9</td>\n",
              "      <td>0.7578</td>\n",
              "    </tr>\n",
              "    <tr>\n",
              "      <th>1</th>\n",
              "      <td>2004-03-10</td>\n",
              "      <td>19</td>\n",
              "      <td>1292</td>\n",
              "      <td>112</td>\n",
              "      <td>9.4</td>\n",
              "      <td>955</td>\n",
              "      <td>103</td>\n",
              "      <td>1174</td>\n",
              "      <td>92</td>\n",
              "      <td>1559</td>\n",
              "      <td>972</td>\n",
              "      <td>13.3</td>\n",
              "      <td>47.7</td>\n",
              "      <td>0.7255</td>\n",
              "    </tr>\n",
              "    <tr>\n",
              "      <th>2</th>\n",
              "      <td>2004-03-10</td>\n",
              "      <td>20</td>\n",
              "      <td>1402</td>\n",
              "      <td>88</td>\n",
              "      <td>9.0</td>\n",
              "      <td>939</td>\n",
              "      <td>131</td>\n",
              "      <td>1140</td>\n",
              "      <td>114</td>\n",
              "      <td>1555</td>\n",
              "      <td>1074</td>\n",
              "      <td>11.9</td>\n",
              "      <td>54.0</td>\n",
              "      <td>0.7502</td>\n",
              "    </tr>\n",
              "    <tr>\n",
              "      <th>3</th>\n",
              "      <td>2004-03-10</td>\n",
              "      <td>21</td>\n",
              "      <td>1376</td>\n",
              "      <td>80</td>\n",
              "      <td>9.2</td>\n",
              "      <td>948</td>\n",
              "      <td>172</td>\n",
              "      <td>1092</td>\n",
              "      <td>122</td>\n",
              "      <td>1584</td>\n",
              "      <td>1203</td>\n",
              "      <td>11.0</td>\n",
              "      <td>60.0</td>\n",
              "      <td>0.7867</td>\n",
              "    </tr>\n",
              "    <tr>\n",
              "      <th>4</th>\n",
              "      <td>2004-03-10</td>\n",
              "      <td>22</td>\n",
              "      <td>1272</td>\n",
              "      <td>51</td>\n",
              "      <td>6.5</td>\n",
              "      <td>836</td>\n",
              "      <td>131</td>\n",
              "      <td>1205</td>\n",
              "      <td>116</td>\n",
              "      <td>1490</td>\n",
              "      <td>1110</td>\n",
              "      <td>11.2</td>\n",
              "      <td>59.6</td>\n",
              "      <td>0.7888</td>\n",
              "    </tr>\n",
              "  </tbody>\n",
              "</table>\n",
              "</div>\n",
              "      <button class=\"colab-df-convert\" onclick=\"convertToInteractive('df-b35f10a4-3c9a-4481-b7f1-b2c25b7118ff')\"\n",
              "              title=\"Convert this dataframe to an interactive table.\"\n",
              "              style=\"display:none;\">\n",
              "        \n",
              "  <svg xmlns=\"http://www.w3.org/2000/svg\" height=\"24px\"viewBox=\"0 0 24 24\"\n",
              "       width=\"24px\">\n",
              "    <path d=\"M0 0h24v24H0V0z\" fill=\"none\"/>\n",
              "    <path d=\"M18.56 5.44l.94 2.06.94-2.06 2.06-.94-2.06-.94-.94-2.06-.94 2.06-2.06.94zm-11 1L8.5 8.5l.94-2.06 2.06-.94-2.06-.94L8.5 2.5l-.94 2.06-2.06.94zm10 10l.94 2.06.94-2.06 2.06-.94-2.06-.94-.94-2.06-.94 2.06-2.06.94z\"/><path d=\"M17.41 7.96l-1.37-1.37c-.4-.4-.92-.59-1.43-.59-.52 0-1.04.2-1.43.59L10.3 9.45l-7.72 7.72c-.78.78-.78 2.05 0 2.83L4 21.41c.39.39.9.59 1.41.59.51 0 1.02-.2 1.41-.59l7.78-7.78 2.81-2.81c.8-.78.8-2.07 0-2.86zM5.41 20L4 18.59l7.72-7.72 1.47 1.35L5.41 20z\"/>\n",
              "  </svg>\n",
              "      </button>\n",
              "      \n",
              "  <style>\n",
              "    .colab-df-container {\n",
              "      display:flex;\n",
              "      flex-wrap:wrap;\n",
              "      gap: 12px;\n",
              "    }\n",
              "\n",
              "    .colab-df-convert {\n",
              "      background-color: #E8F0FE;\n",
              "      border: none;\n",
              "      border-radius: 50%;\n",
              "      cursor: pointer;\n",
              "      display: none;\n",
              "      fill: #1967D2;\n",
              "      height: 32px;\n",
              "      padding: 0 0 0 0;\n",
              "      width: 32px;\n",
              "    }\n",
              "\n",
              "    .colab-df-convert:hover {\n",
              "      background-color: #E2EBFA;\n",
              "      box-shadow: 0px 1px 2px rgba(60, 64, 67, 0.3), 0px 1px 3px 1px rgba(60, 64, 67, 0.15);\n",
              "      fill: #174EA6;\n",
              "    }\n",
              "\n",
              "    [theme=dark] .colab-df-convert {\n",
              "      background-color: #3B4455;\n",
              "      fill: #D2E3FC;\n",
              "    }\n",
              "\n",
              "    [theme=dark] .colab-df-convert:hover {\n",
              "      background-color: #434B5C;\n",
              "      box-shadow: 0px 1px 3px 1px rgba(0, 0, 0, 0.15);\n",
              "      filter: drop-shadow(0px 1px 2px rgba(0, 0, 0, 0.3));\n",
              "      fill: #FFFFFF;\n",
              "    }\n",
              "  </style>\n",
              "\n",
              "      <script>\n",
              "        const buttonEl =\n",
              "          document.querySelector('#df-b35f10a4-3c9a-4481-b7f1-b2c25b7118ff button.colab-df-convert');\n",
              "        buttonEl.style.display =\n",
              "          google.colab.kernel.accessAllowed ? 'block' : 'none';\n",
              "\n",
              "        async function convertToInteractive(key) {\n",
              "          const element = document.querySelector('#df-b35f10a4-3c9a-4481-b7f1-b2c25b7118ff');\n",
              "          const dataTable =\n",
              "            await google.colab.kernel.invokeFunction('convertToInteractive',\n",
              "                                                     [key], {});\n",
              "          if (!dataTable) return;\n",
              "\n",
              "          const docLinkHtml = 'Like what you see? Visit the ' +\n",
              "            '<a target=\"_blank\" href=https://colab.research.google.com/notebooks/data_table.ipynb>data table notebook</a>'\n",
              "            + ' to learn more about interactive tables.';\n",
              "          element.innerHTML = '';\n",
              "          dataTable['output_type'] = 'display_data';\n",
              "          await google.colab.output.renderOutput(dataTable, element);\n",
              "          const docLink = document.createElement('div');\n",
              "          docLink.innerHTML = docLinkHtml;\n",
              "          element.appendChild(docLink);\n",
              "        }\n",
              "      </script>\n",
              "    </div>\n",
              "  </div>\n",
              "  "
            ],
            "text/plain": [
              "        Date  Time  PT08.S1(CO)  NMHC(GT)  ...  PT08.S5(O3)     T    RH      AH\n",
              "0 2004-03-10    18         1360       150  ...         1268  13.6  48.9  0.7578\n",
              "1 2004-03-10    19         1292       112  ...          972  13.3  47.7  0.7255\n",
              "2 2004-03-10    20         1402        88  ...         1074  11.9  54.0  0.7502\n",
              "3 2004-03-10    21         1376        80  ...         1203  11.0  60.0  0.7867\n",
              "4 2004-03-10    22         1272        51  ...         1110  11.2  59.6  0.7888\n",
              "\n",
              "[5 rows x 14 columns]"
            ]
          },
          "metadata": {},
          "execution_count": 13
        }
      ]
    },
    {
      "cell_type": "markdown",
      "source": [
        "* Conforme foi visto os dados estão sendo adquiridos em um intervalo de 1 hora.\n",
        " \n",
        "* Após essa análise será tratado agora os dados faltantes.\n",
        " \n",
        "\n"
      ],
      "metadata": {
        "id": "c3xlumJQLZeM"
      }
    },
    {
      "cell_type": "markdown",
      "source": [
        "#Dados faltantes.\n",
        " \n",
        "* Tratando os dados preenchidos com os valores de -200."
      ],
      "metadata": {
        "id": "RBL69ng5bU5E"
      }
    },
    {
      "cell_type": "code",
      "source": [
        "print('Porcentagem de dados faltantes com -200')\n",
        "(np.sum(df[df.columns[1:]] == -200, axis =0)/df.shape[0])*100"
      ],
      "metadata": {
        "colab": {
          "base_uri": "https://localhost:8080/"
        },
        "id": "UPl0wTeCbA8g",
        "outputId": "d2c4e148-c675-4b87-8677-71b8b402121a"
      },
      "execution_count": null,
      "outputs": [
        {
          "output_type": "stream",
          "name": "stdout",
          "text": [
            "Porcentagem de dados faltantes com -200\n"
          ]
        },
        {
          "output_type": "execute_result",
          "data": {
            "text/plain": [
              "Time              0.000000\n",
              "PT08.S1(CO)       3.911510\n",
              "NMHC(GT)         90.231912\n",
              "C6H6(GT)          3.911510\n",
              "PT08.S2(NMHC)     3.911510\n",
              "NOx(GT)          17.516298\n",
              "PT08.S3(NOx)      3.911510\n",
              "NO2(GT)          17.548360\n",
              "PT08.S4(NO2)      3.911510\n",
              "PT08.S5(O3)       3.911510\n",
              "T                 3.911510\n",
              "RH                3.911510\n",
              "AH                3.911510\n",
              "dtype: float64"
            ]
          },
          "metadata": {},
          "execution_count": 15
        }
      ]
    },
    {
      "cell_type": "markdown",
      "source": [
        "* Existem muitos dados faltantes na variável *** NMHC(GT) ***, no caso 90% dos seus dados. Por causa desta quantidade ela será descartada.\n",
        " \n",
        "\n",
        " "
      ],
      "metadata": {
        "id": "uczw1D2RbjPH"
      }
    },
    {
      "cell_type": "code",
      "source": [
        "# elimnado  *** NMHC(GT) ***\n",
        "df = df.drop(columns='NMHC(GT)')"
      ],
      "metadata": {
        "id": "Kve46jSUbcxi"
      },
      "execution_count": null,
      "outputs": []
    },
    {
      "cell_type": "markdown",
      "source": [
        "* Outro ponto que vale destacar é que existem várias variáveis com mesma quantidade de dados faltantes, onde uma delas é os dados de Target. \n",
        "\n",
        "* Logo se estes dados estiverem na mesma linha que os dados faltantes do Target, estas posições do dataset serão removidas. Devido que não faz sentido eles serem tratados já que está tentando prever eles.\n",
        " \n",
        "\n"
      ],
      "metadata": {
        "id": "A-bXFXvxcdDe"
      }
    },
    {
      "cell_type": "code",
      "source": [
        "# olhando essa contagem que for afirmada -200\n",
        "np.sum(np.sum(df[df.columns[2:]] == -200, axis = 1) == df.shape[1] -2)"
      ],
      "metadata": {
        "colab": {
          "base_uri": "https://localhost:8080/"
        },
        "id": "955oVeX_cIb7",
        "outputId": "b8d3c604-8e39-4ad9-906c-bb46f32f52ed"
      },
      "execution_count": null,
      "outputs": [
        {
          "output_type": "execute_result",
          "data": {
            "text/plain": [
              "44"
            ]
          },
          "metadata": {},
          "execution_count": 17
        }
      ]
    },
    {
      "cell_type": "code",
      "source": [
        "df = df.drop(df.index[df['PT08.S1(CO)'] == -200]) # removendo essas linhas"
      ],
      "metadata": {
        "id": "iW8rKt_xdDh0"
      },
      "execution_count": null,
      "outputs": []
    },
    {
      "cell_type": "code",
      "source": [
        "# olhando de novo a porcentagem de dados faltantes\n",
        "print('Porcentagem de dados faltantes com -200')\n",
        "(np.sum(df[df.columns[1:]] == -200, axis =0)/df.shape[0])*100"
      ],
      "metadata": {
        "colab": {
          "base_uri": "https://localhost:8080/"
        },
        "id": "rOVvWzIBdJ5d",
        "outputId": "742ea6f0-d656-4391-e533-f5cd5300f4cb"
      },
      "execution_count": null,
      "outputs": [
        {
          "output_type": "stream",
          "name": "stdout",
          "text": [
            "Porcentagem de dados faltantes com -200\n"
          ]
        },
        {
          "output_type": "execute_result",
          "data": {
            "text/plain": [
              "Time              0.000000\n",
              "PT08.S1(CO)       0.000000\n",
              "C6H6(GT)          0.000000\n",
              "PT08.S2(NMHC)     0.000000\n",
              "NOx(GT)          17.739962\n",
              "PT08.S3(NOx)      0.000000\n",
              "NO2(GT)          17.773329\n",
              "PT08.S4(NO2)      0.000000\n",
              "PT08.S5(O3)       0.000000\n",
              "T                 0.000000\n",
              "RH                0.000000\n",
              "AH                0.000000\n",
              "dtype: float64"
            ]
          },
          "metadata": {},
          "execution_count": 19
        }
      ]
    },
    {
      "cell_type": "code",
      "source": [
        "df.index = np.arange(df.shape[0]) # reagrupando o index dos dados"
      ],
      "metadata": {
        "id": "iMEd8T3NdKAE"
      },
      "execution_count": null,
      "outputs": []
    },
    {
      "cell_type": "markdown",
      "source": [
        "* As variáveis NOx(GT) e NO2(GT) ainda estão sendo preenchidas com uma porcentagem de dados faltantes considerável. Por esse motivo será visto algumas características dessas variáveis poder ver qual é a melhor decisão para preencher esses dados.\n"
      ],
      "metadata": {
        "id": "IDuqG5QudbaD"
      }
    },
    {
      "cell_type": "markdown",
      "source": [
        "### NOx(GT) e NO2(GT)"
      ],
      "metadata": {
        "id": "JbWLs1Piev01"
      }
    },
    {
      "cell_type": "markdown",
      "source": [
        "**Ditribuição dos dados**"
      ],
      "metadata": {
        "id": "3KxeACqYese1"
      }
    },
    {
      "cell_type": "code",
      "source": [
        "# Antes de prosseguir com as análises irei gerar uma cópia do dataset já que irei começar injetar dados nele.\n",
        "df1 = df.copy()"
      ],
      "metadata": {
        "id": "cXdOwfu0dXDN"
      },
      "execution_count": null,
      "outputs": []
    },
    {
      "cell_type": "code",
      "source": [
        "plt.figure(figsize=(16,8))\n",
        "plt.subplot(1,2,1)\n",
        "plt.title('NOx(GT)')\n",
        "plt.hist(df1['NOx(GT)'], bins = 100)\n",
        "plt.subplot(1,2,2)\n",
        "plt.title('NO2(GT)')\n",
        "plt.hist(df1['NO2(GT)'], bins = 100)\n",
        "plt.ylim(0,1000)\n",
        "plt.show()"
      ],
      "metadata": {
        "colab": {
          "base_uri": "https://localhost:8080/",
          "height": 499
        },
        "id": "H7UR_YivdXJv",
        "outputId": "8f8a46cf-7077-4e75-8be7-d77723fd1c6b"
      },
      "execution_count": null,
      "outputs": [
        {
          "output_type": "display_data",
          "data": {
            "image/png": "[encoded data removed]",
            "text/plain": [
              "<Figure size 1152x576 with 2 Axes>"
            ]
          },
          "metadata": {
            "needs_background": "light"
          }
        }
      ]
    },
    {
      "cell_type": "code",
      "source": [
        "concentracao_NOx = df1.groupby('Time').mean()['NOx(GT)']\n",
        "concentracao_NO2 = df1.groupby('Time').mean()['NO2(GT)']"
      ],
      "metadata": {
        "id": "sYO7QbBsdXM2"
      },
      "execution_count": null,
      "outputs": []
    },
    {
      "cell_type": "code",
      "source": [
        "plt.figure(figsize=(8,6))\n",
        "plt.title('Medida dos sensores NOx(GT) e NO2(GT) ao longo do tempo', size=18)\n",
        "plt.plot(concentracao_NOx,label ='NOx(GT)')\n",
        "plt.plot(concentracao_NO2,label = 'NOx(GT)')\n",
        "plt.grid(linestyle='--', linewidth=1)\n",
        "plt.ylabel('Medida dos sensores', size=18)\n",
        "plt.xlabel('Tempo [Hora]', size=18)\n",
        "plt.show()"
      ],
      "metadata": {
        "colab": {
          "base_uri": "https://localhost:8080/",
          "height": 416
        },
        "id": "0xB_cqA9dXO1",
        "outputId": "51b272d3-a0cd-410c-e860-2f47612fdbf8"
      },
      "execution_count": null,
      "outputs": [
        {
          "output_type": "display_data",
          "data": {
            "image/png": "[encoded data removed]",
            "text/plain": [
              "<Figure size 576x432 with 1 Axes>"
            ]
          },
          "metadata": {
            "needs_background": "light"
          }
        }
      ]
    },
    {
      "cell_type": "markdown",
      "source": [
        " \n",
        " \n",
        "* Pelo comportamento do gráfico dá para perceber que a maioria dos dados faltantes estão acontecendo no mesmo horário. Agora será visto em qual horário está acontecendo os demais dados faltantes.\n",
        " \n",
        "\n"
      ],
      "metadata": {
        "id": "xMiiWFCBc4Yt"
      }
    },
    {
      "cell_type": "code",
      "source": [
        "plt.figure(figsize=(22,8))\n",
        "plt.subplot(1,2,1)\n",
        "plt.title('Horário que o sensor NOx(GT) obteve dado faltante',size=18 )\n",
        "plt.plot(df1['Time'][df1['NOx(GT)'] == -200],'o',label = 'NOx(GT)') \n",
        "plt.ylabel('Horário [Hora]', size=18)\n",
        "plt.grid(linestyle='--', linewidth=1)\n",
        "plt.subplot(1,2,2)\n",
        "plt.title('Horário que o sensor NO2(GT) obteve dado faltante',size=18 )\n",
        "plt.plot(df1['Time'][df1['NO2(GT)'] == -200],'s',label = 'NO2(GT)')\n",
        "plt.grid(linestyle='--', linewidth=1)\n",
        "plt.ylabel('Horário [Hora]',size=18)\n",
        "plt.legend()"
      ],
      "metadata": {
        "colab": {
          "base_uri": "https://localhost:8080/",
          "height": 478
        },
        "id": "8BiCd-aMcNEt",
        "outputId": "cb5f22d2-3d07-4da9-a1ae-b7426c41e6b8"
      },
      "execution_count": null,
      "outputs": [
        {
          "output_type": "execute_result",
          "data": {
            "text/plain": [
              "<matplotlib.legend.Legend at 0x7f41997bc490>"
            ]
          },
          "metadata": {},
          "execution_count": 25
        },
        {
          "output_type": "display_data",
          "data": {
            "image/png": "[encoded data removed]",
            "text/plain": [
              "<Figure size 1584x576 with 2 Axes>"
            ]
          },
          "metadata": {
            "needs_background": "light"
          }
        }
      ]
    },
    {
      "cell_type": "markdown",
      "source": [
        "* O resultado deixa claro que a maioria dos dados faltantes está acontecendo as 3 horas da manhã e os demais estão distribuídos aleatoriamente durantes o horários dos demais dias.\n",
        " \n",
        "* Isso deixa claro um questionamento.\n",
        " * Quantos dias em que existem dados faltantes as 3 horas ?\n",
        " \n",
        " \n",
        " \n",
        " \n",
        " \n",
        " \n",
        " \n",
        " \n",
        "\n"
      ],
      "metadata": {
        "id": "ZVh4SOoFgDpr"
      }
    },
    {
      "cell_type": "code",
      "source": [
        "print('Dias com dados faltantes no sensor NOx(GT):',100*np.sum(df1['Time'][df1['NOx(GT)'] == -200] == 3)/len(np.unique(df1['Date'])))\n",
        "print('Dias com dados faltantes no sensor NO2(GT):',100*np.sum(df1['Time'][df1['NO2(GT)'] == -200] == 3)/len(np.unique(df1['Date'])))"
      ],
      "metadata": {
        "id": "3oYXbHnPfiFt",
        "colab": {
          "base_uri": "https://localhost:8080/"
        },
        "outputId": "99c2c692-bb9d-4a4c-d8e0-7a6de46439a8"
      },
      "execution_count": null,
      "outputs": [
        {
          "output_type": "stream",
          "name": "stdout",
          "text": [
            "Dias com dados faltantes no sensor NOx(GT): 91.38381201044386\n",
            "Dias com dados faltantes no sensor NO2(GT): 91.38381201044386\n"
          ]
        }
      ]
    },
    {
      "cell_type": "markdown",
      "source": [
        "* 91 % dos dias estão com dados faltantes nos dois sensores. Isso deixa uma premissa muito forte que aconteceu algum problema nesses sensores.\n",
        " \n",
        " \n",
        "* Agora será visto qual foi o período de dias que o sensor estava funcionando.\n",
        " \n",
        "\n"
      ],
      "metadata": {
        "id": "cpZjIkhYO63A"
      }
    },
    {
      "cell_type": "code",
      "source": [
        "df1['Date'][df1['NOx(GT)'] == -200][df1['Time'][df1['NOx(GT)'] == -200] != 3].dt.date.unique()"
      ],
      "metadata": {
        "colab": {
          "base_uri": "https://localhost:8080/"
        },
        "id": "qucmpZ2MPb-D",
        "outputId": "36b2867b-f9ec-4d0b-9dd8-35dbf8181586"
      },
      "execution_count": null,
      "outputs": [
        {
          "output_type": "execute_result",
          "data": {
            "text/plain": [
              "array([datetime.date(2004, 3, 12), datetime.date(2004, 4, 3),\n",
              "       datetime.date(2004, 4, 4), datetime.date(2004, 4, 5),\n",
              "       datetime.date(2004, 4, 14), datetime.date(2004, 4, 15),\n",
              "       datetime.date(2004, 4, 17), datetime.date(2004, 4, 18),\n",
              "       datetime.date(2004, 4, 19), datetime.date(2004, 4, 20),\n",
              "       datetime.date(2004, 4, 21), datetime.date(2004, 4, 22),\n",
              "       datetime.date(2004, 4, 23), datetime.date(2004, 5, 5),\n",
              "       datetime.date(2004, 5, 8), datetime.date(2004, 5, 9),\n",
              "       datetime.date(2004, 5, 10), datetime.date(2004, 5, 14),\n",
              "       datetime.date(2004, 5, 25), datetime.date(2004, 5, 26),\n",
              "       datetime.date(2004, 5, 27), datetime.date(2004, 5, 28),\n",
              "       datetime.date(2004, 6, 3), datetime.date(2004, 6, 4),\n",
              "       datetime.date(2004, 6, 5), datetime.date(2004, 6, 8),\n",
              "       datetime.date(2004, 6, 11), datetime.date(2004, 7, 28),\n",
              "       datetime.date(2004, 8, 2), datetime.date(2004, 8, 3),\n",
              "       datetime.date(2004, 8, 4), datetime.date(2004, 8, 5),\n",
              "       datetime.date(2004, 8, 17), datetime.date(2004, 8, 18),\n",
              "       datetime.date(2004, 8, 19), datetime.date(2004, 8, 20),\n",
              "       datetime.date(2004, 8, 21), datetime.date(2004, 8, 22),\n",
              "       datetime.date(2004, 8, 23), datetime.date(2004, 8, 28),\n",
              "       datetime.date(2004, 8, 29), datetime.date(2004, 8, 30),\n",
              "       datetime.date(2004, 8, 31), datetime.date(2004, 9, 2),\n",
              "       datetime.date(2004, 9, 3), datetime.date(2004, 9, 4),\n",
              "       datetime.date(2004, 9, 5), datetime.date(2004, 9, 6),\n",
              "       datetime.date(2004, 9, 7), datetime.date(2004, 9, 8),\n",
              "       datetime.date(2004, 9, 11), datetime.date(2004, 9, 12),\n",
              "       datetime.date(2004, 9, 13), datetime.date(2004, 9, 14),\n",
              "       datetime.date(2004, 9, 15), datetime.date(2004, 9, 16),\n",
              "       datetime.date(2004, 9, 20), datetime.date(2004, 9, 30),\n",
              "       datetime.date(2004, 10, 1), datetime.date(2004, 10, 2),\n",
              "       datetime.date(2004, 10, 3), datetime.date(2004, 10, 4),\n",
              "       datetime.date(2004, 10, 5), datetime.date(2004, 10, 6),\n",
              "       datetime.date(2004, 10, 7), datetime.date(2004, 10, 12),\n",
              "       datetime.date(2004, 10, 13), datetime.date(2004, 10, 14),\n",
              "       datetime.date(2004, 10, 15), datetime.date(2004, 10, 16),\n",
              "       datetime.date(2004, 10, 17), datetime.date(2004, 10, 18),\n",
              "       datetime.date(2004, 10, 19), datetime.date(2004, 10, 20),\n",
              "       datetime.date(2004, 10, 21), datetime.date(2004, 11, 8),\n",
              "       datetime.date(2004, 11, 9), datetime.date(2004, 11, 10),\n",
              "       datetime.date(2004, 11, 17), datetime.date(2004, 11, 28),\n",
              "       datetime.date(2004, 12, 28), datetime.date(2004, 12, 29),\n",
              "       datetime.date(2004, 12, 30), datetime.date(2004, 12, 31),\n",
              "       datetime.date(2005, 1, 1), datetime.date(2005, 1, 24),\n",
              "       datetime.date(2005, 1, 31), datetime.date(2005, 2, 25),\n",
              "       datetime.date(2005, 3, 10)], dtype=object)"
            ]
          },
          "metadata": {},
          "execution_count": 27
        }
      ]
    },
    {
      "cell_type": "markdown",
      "source": [
        "* Os dias que o sensores estavam em funcionamento as 3 horas  são aleatórios, isso deixa claro que a equipe que estava medido estes dados não percebeu esse problema ocorrido.\n",
        " \n",
        "* Os dados faltantes dessas variáveis serão preenchidos com o valor médio da hora que ele foi adquirido.\n",
        " * A princípio esta maneira deve ser a mais correta de preencher os dados faltantes. Devido que estas variáveis podem se tratar da medida de gases que podem ser emitidos por alguma forma pela humanidade. Sendo assim, segue uma rotina de emissão. \n",
        " \n",
        "\n"
      ],
      "metadata": {
        "id": "sXYL81_cSLhS"
      }
    },
    {
      "cell_type": "code",
      "source": [
        "# hora que teve um dado faltante\n",
        "indx_time_200_NoX = np.unique(df1['Time'][df1['NOx(GT)'] == -200])\n",
        "indx_time_200_No2 = np.unique(df1['Time'][df1['NO2(GT)'] == -200])\n",
        "\n",
        "for i in range(len(indx_time_200_No2)): # indx_time_200_No2 e indx_time_200_NoX tem o mesmo tamanho este vetor.\n",
        "  t = df1['NOx(GT)'][df1['Time'] == indx_time_200_NoX[i]]\n",
        "  df1.loc[t[t == -200].index, 'NOx(GT)'] = np.mean(t[t > -200])\n",
        "  t = df1['NO2(GT)'][df1['Time'] == indx_time_200_No2[i]]\n",
        "  df1.loc[t[t == -200].index, 'NO2(GT)'] = np.mean(t[t > -200])"
      ],
      "metadata": {
        "id": "NvFUK7K5PcHN"
      },
      "execution_count": null,
      "outputs": []
    },
    {
      "cell_type": "code",
      "source": [
        "# olhando de novo a porcentagem de dados faltantes\n",
        "print('Porcentagem de dados faltantes com -200')\n",
        "(np.sum(df1[df1.columns[1:]] == -200, axis =0)/df1.shape[0])*100"
      ],
      "metadata": {
        "id": "pL7SmAo0PcIa",
        "colab": {
          "base_uri": "https://localhost:8080/"
        },
        "outputId": "7bf6ffbc-db3f-4649-90a1-bd54d777f2c3"
      },
      "execution_count": null,
      "outputs": [
        {
          "output_type": "stream",
          "name": "stdout",
          "text": [
            "Porcentagem de dados faltantes com -200\n"
          ]
        },
        {
          "output_type": "execute_result",
          "data": {
            "text/plain": [
              "Time             0.0\n",
              "PT08.S1(CO)      0.0\n",
              "C6H6(GT)         0.0\n",
              "PT08.S2(NMHC)    0.0\n",
              "NOx(GT)          0.0\n",
              "PT08.S3(NOx)     0.0\n",
              "NO2(GT)          0.0\n",
              "PT08.S4(NO2)     0.0\n",
              "PT08.S5(O3)      0.0\n",
              "T                0.0\n",
              "RH               0.0\n",
              "AH               0.0\n",
              "dtype: float64"
            ]
          },
          "metadata": {},
          "execution_count": 29
        }
      ]
    },
    {
      "cell_type": "markdown",
      "source": [
        "### Tratando outlier\n",
        " \n",
        "* Como que trata de sensores que não produzem medidas negativas (menos a temperatura). Logo, se tiver algum desse valor eles serão tratados.\n",
        " \n",
        "* Por esse motivo será visto a distribuição dos dados dos sensores.\n",
        " \n",
        "\n"
      ],
      "metadata": {
        "id": "q8dsxOI9D60F"
      }
    },
    {
      "cell_type": "code",
      "source": [
        "columns = df1.columns[2:] # Colunas onde estão os sensosores."
      ],
      "metadata": {
        "id": "kni5FFq0D-kg"
      },
      "execution_count": null,
      "outputs": []
    },
    {
      "cell_type": "code",
      "source": [
        "len(columns)"
      ],
      "metadata": {
        "colab": {
          "base_uri": "https://localhost:8080/"
        },
        "id": "l5azPoWSEk7-",
        "outputId": "30fcd192-b6b5-4cba-a1a0-49c591295d7d"
      },
      "execution_count": null,
      "outputs": [
        {
          "output_type": "execute_result",
          "data": {
            "text/plain": [
              "11"
            ]
          },
          "metadata": {},
          "execution_count": 31
        }
      ]
    },
    {
      "cell_type": "code",
      "source": [
        "plt.figure(figsize=(18,16))\n",
        "for i in range(len(columns)):\n",
        "  plt.subplot(4,4,i + 1)\n",
        "  sns.histplot(x = columns[i], data = df1)"
      ],
      "metadata": {
        "colab": {
          "base_uri": "https://localhost:8080/",
          "height": 705
        },
        "id": "HCcnkhUWD-l6",
        "outputId": "d698062f-fbb5-4df0-aeb4-46091a9bc739"
      },
      "execution_count": null,
      "outputs": [
        {
          "output_type": "display_data",
          "data": {
            "image/png": "[encoded data removed]",
            "text/plain": [
              "<Figure size 1296x1152 with 11 Axes>"
            ]
          },
          "metadata": {
            "needs_background": "light"
          }
        }
      ]
    },
    {
      "cell_type": "markdown",
      "source": [
        "* Como não existem dados negativos o primeiro tratamento dos dados será considerado como completado.\n",
        " \n",
        "* Por esse motivo será salvo um dataset com os dados tratados.\n",
        " \n",
        "\n"
      ],
      "metadata": {
        "id": "o6hpWH6fGBr9"
      }
    },
    {
      "cell_type": "code",
      "source": [
        "df1.to_csv('/content/drive/My Drive/new_dados1.csv')"
      ],
      "metadata": {
        "id": "X22Q_72ZD-vR"
      },
      "execution_count": null,
      "outputs": []
    },
    {
      "cell_type": "markdown",
      "source": [
        "# Conclusões:\n",
        "* As análises feitas mostram que os dados faltantes de todos os sensores foram deletados menos os NOx(GT) e NO2(GT). \n",
        "  * Eles foram preenchidos com os valores médios dos horários que eles foram adquiridos.\n",
        " \n",
        "* Sobre esse tema ainda, aproximadamente 91 porcento dos dados que foram adquiridos às 3 horas da manhã desses dois sensores foram preenchidos com os valores de  -200. (Isso mostra que existe um problema no sistema que está medindo esses dados.)\n",
        " \n",
        " \n",
        " \n",
        " \n",
        "\n"
      ],
      "metadata": {
        "id": "8zMN2RVaGekb"
      }
    },
    {
      "cell_type": "code",
      "source": [
        ""
      ],
      "metadata": {
        "id": "IM26-_njNv1U"
      },
      "execution_count": null,
      "outputs": []
    }
  ]
}