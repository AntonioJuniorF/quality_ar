{
  "nbformat": 4,
  "nbformat_minor": 0,
  "metadata": {
    "colab": {
      "name": "Parte4.ipynb",
      "provenance": [],
      "collapsed_sections": []
    },
    "kernelspec": {
      "name": "python3",
      "display_name": "Python 3"
    },
    "language_info": {
      "name": "python"
    }
  },
  "cells": [
    {
      "cell_type": "markdown",
      "source": [
        "# Informações dos dados obtidos.\n",
        "\n",
        "O conjunto de dados contém 9358 resultados médios de 5 sensores químicos de um dispositivo multisensor (PTXX.SX). O dispositivo estava localizado a nível da rua, dentro de uma cidade significativamente poluída. Os dados foram registrados de março de 2004 a fevereiro de 2005 (um ano). Valores ausentes são marcados com o valor -200. A medida de outros sensores também está disponível e algumas podem ser redundantes. ***A variável chave a ser analisada é PT08.S1 (CO), concentração de CO na atmosfera.***\n",
        "Informação das colunas:\n",
        "\n",
        "1.  Date (DD/MM/YYYY)\n",
        "2.  Time (HH.MM.SS)\n",
        "3.  PT08.S1 (CO) – Variável de predição\n",
        "4.  Non Metanic HydroCarbons Concentration (mg/m^3)\n",
        "5.  Benzene Concentration (mg/m^3)\n",
        "6.  PT08.S2 (NMHC)\n",
        "7.  NOx Concentration (ppb)\n",
        "8.  PT08.S3 (NOx)\n",
        "9.  NO2 Concentration (mg/m^3)\n",
        "10. PT08.S4 (NO2s)\n",
        "11. PT08.S5 (O3)\n",
        "12. Temperature (C)\n",
        "13. Relative Humidity (%)\n",
        "14. AH Absolute Humidity\n",
        "15. Dia da Semana\t\n",
        "16. Mês\n",
        "17. Target_log\n",
        "18. Target_log_dff_1\n",
        "19. Target_log_dff_2\n",
        "20. Target_log_dff_3  \n",
        "21. Estações_Inverno\t\n",
        "22. Estações_Outono\t\n",
        "23. Estações_Primavera\t\n",
        "24. Estações_Verão"
      ],
      "metadata": {
        "id": "KdqCN0V-iY9y"
      }
    },
    {
      "cell_type": "markdown",
      "source": [
        "# Objetivo\n",
        " \n",
        "* A parte anterior foi encarregada de encontrar a melhor maneira de codificar as variáveis categóricas. Essa parte agora está encubido de criar algumas variáveis padrões de Time séries para ver se o desempenho do classificador padrão melhora.\n",
        "\n"
      ],
      "metadata": {
        "id": "Pb7NA4GDsZYw"
      }
    },
    {
      "cell_type": "markdown",
      "source": [
        "# Bibliotecas"
      ],
      "metadata": {
        "id": "oSApGLhUjNWH"
      }
    },
    {
      "cell_type": "code",
      "source": [
        "# import pandas as pd\n",
        "import numpy as np\n",
        "import pandas as pd \n",
        "import matplotlib.pyplot as plt\n",
        "%matplotlib inline\n",
        "from google.colab import drive\n",
        "drive.mount('/content/drive')\n",
        "import seaborn as sns\n",
        "import statsmodels.tsa.stattools\n",
        "import scipy.stats as stats\n",
        "from statsmodels.graphics.tsaplots import plot_acf, plot_pacf\n",
        "sns.set_style(\"whitegrid\")\n",
        "import statistics\n",
        "from sklearn.preprocessing import LabelEncoder\n",
        "from sklearn.ensemble import RandomForestRegressor\n",
        "from scipy.stats import wilcoxon\n",
        "from sklearn.linear_model import LinearRegression\n",
        "from sklearn.model_selection import TimeSeriesSplit\n"
      ],
      "metadata": {
        "colab": {
          "base_uri": "https://localhost:8080/"
        },
        "id": "CBJEPRLkjM3S",
        "outputId": "a08ef3b4-534a-40ed-8f47-5ae28a6e08f6"
      },
      "execution_count": null,
      "outputs": [
        {
          "output_type": "stream",
          "name": "stdout",
          "text": [
            "Drive already mounted at /content/drive; to attempt to forcibly remount, call drive.mount(\"/content/drive\", force_remount=True).\n"
          ]
        }
      ]
    },
    {
      "cell_type": "markdown",
      "source": [
        "# Funções"
      ],
      "metadata": {
        "id": "JY-R4ZstmYnj"
      }
    },
    {
      "cell_type": "code",
      "source": [
        "def MAPE(y_pred,Y_teste):\n",
        "  return np.mean(100*np.abs(y_pred - Y_teste)/np.abs(Y_teste))\n",
        "\n",
        "\n",
        "def validation(X,Y,Date):\n",
        "  Ypred = []\n",
        "  Yv    = []\n",
        "  tscv = TimeSeriesSplit(n_splits=10)\n",
        "  vetor_MAPE = np.zeros(10) \n",
        "  i = 0\n",
        "  for linhas_treino, linhas_valid in tscv.split(X):    \n",
        "    X_t, X_v = X.iloc[linhas_treino], X.iloc[linhas_valid]\n",
        "    y_t, y_v = Y[linhas_treino], Y[linhas_valid]\n",
        "\n",
        "    md                    = model.fit(X_t, y_t)\n",
        "    y_pred                = md.predict(X_v)\n",
        "\n",
        "    y_pred = 10**y_pred\n",
        "    y_v    = 10**y_v\n",
        "    Ypred.append(y_pred)\n",
        "    Yv.append(y_v)\n",
        "\n",
        "    mape = MAPE(y_pred,y_v)\n",
        "    vetor_MAPE[i] = mape\n",
        "    i = i + 1\n",
        "    print('Data:',Date[linhas_valid[0]],'-',Date[linhas_valid[-1]], '->', 'MAPE:',np.format_float_positional(mape,5))\n",
        "\n",
        "  print(\"\\n\")\n",
        "  print('Mape Geral:',np.format_float_positional(np.mean(vetor_MAPE),5),'Std:',np.format_float_positional(np.std(vetor_MAPE),5),'Erro:',np.format_float_positional(np.std(vetor_MAPE)/np.sqrt(5),5))\n",
        "\n",
        "  return Ypred,Yv,vetor_MAPE\n",
        "\n",
        "def sep_dados(d,col):\n",
        "  X_teste = d[d['Date'] > '2004-12-01']\n",
        "  X_train = d[d['Date'] <= '2004-12-01']\n",
        "\n",
        "  Y_teste = d[col][d['Date'] > '2004-12-01']\n",
        "  Y_train = d[col][d['Date'] <= '2004-12-01']\n",
        "  \n",
        "  X_train = X_train.drop(columns = ['Date','Target_log'])\n",
        "  X_teste = X_teste.drop(columns = ['Date','Target_log'])\n",
        "\n",
        "  Y_train = Y_train.drop(columns = 'Date')\n",
        "  Y_teste = Y_teste.drop(columns = 'Date')\n",
        "\n",
        "  return X_train,X_teste,Y_train,Y_teste\n",
        "\n",
        "\n",
        "\n",
        "def modelo(model,X_train,Y_train,X_teste,Y_teste):\n",
        "  # treinado e avaliando o modelo\n",
        "  md       = model.fit(X_train, Y_train)\n",
        "  y_pred   = md.predict(X_teste)\n",
        "  y_pred   = 10**y_pred\n",
        "  Y_teste  = 10**Y_teste\n",
        "  resultado = MAPE(y_pred,Y_teste)\n",
        "  bias      = np.mean(y_pred-Y_teste)\n",
        "  erro      = np.abs(y_pred-Y_teste)\n",
        "  return resultado,bias,erro"
      ],
      "metadata": {
        "id": "VUC-qR3yma_g"
      },
      "execution_count": null,
      "outputs": []
    },
    {
      "cell_type": "markdown",
      "source": [
        "# Importado os dados"
      ],
      "metadata": {
        "id": "hdv9PuHMjVoh"
      }
    },
    {
      "cell_type": "code",
      "source": [
        "df = pd.read_csv('/content/drive/My Drive/new_dados3.csv',encoding = \"UTF-8\")"
      ],
      "metadata": {
        "id": "_gyOZY4MjM7q"
      },
      "execution_count": null,
      "outputs": []
    },
    {
      "cell_type": "code",
      "source": [
        "df.head()"
      ],
      "metadata": {
        "colab": {
          "base_uri": "https://localhost:8080/",
          "height": 374
        },
        "id": "GYAtBBKjjdIv",
        "outputId": "9bd9600c-799f-4fe6-dd16-4faf5d228622"
      },
      "execution_count": null,
      "outputs": [
        {
          "output_type": "execute_result",
          "data": {
            "text/html": [
              "\n",
              "  <div id=\"df-e00c5757-4fd6-4a4b-880a-e4b7d369b7eb\">\n",
              "    <div class=\"colab-df-container\">\n",
              "      <div>\n",
              "<style scoped>\n",
              "    .dataframe tbody tr th:only-of-type {\n",
              "        vertical-align: middle;\n",
              "    }\n",
              "\n",
              "    .dataframe tbody tr th {\n",
              "        vertical-align: top;\n",
              "    }\n",
              "\n",
              "    .dataframe thead th {\n",
              "        text-align: right;\n",
              "    }\n",
              "</style>\n",
              "<table border=\"1\" class=\"dataframe\">\n",
              "  <thead>\n",
              "    <tr style=\"text-align: right;\">\n",
              "      <th></th>\n",
              "      <th>Unnamed: 0</th>\n",
              "      <th>Date</th>\n",
              "      <th>Time</th>\n",
              "      <th>C6H6(GT)</th>\n",
              "      <th>PT08.S2(NMHC)</th>\n",
              "      <th>NOx(GT)</th>\n",
              "      <th>PT08.S3(NOx)</th>\n",
              "      <th>NO2(GT)</th>\n",
              "      <th>PT08.S4(NO2)</th>\n",
              "      <th>PT08.S5(O3)</th>\n",
              "      <th>T</th>\n",
              "      <th>RH</th>\n",
              "      <th>AH</th>\n",
              "      <th>Dia da Semana</th>\n",
              "      <th>Mês</th>\n",
              "      <th>Target_log</th>\n",
              "      <th>Target_log_dff_1</th>\n",
              "      <th>Target_log_dff_2</th>\n",
              "      <th>Target_log_dff_3</th>\n",
              "      <th>Estações_Inverno</th>\n",
              "      <th>Estações_Outono</th>\n",
              "      <th>Estações_Primavera</th>\n",
              "      <th>Estações_Verão</th>\n",
              "    </tr>\n",
              "  </thead>\n",
              "  <tbody>\n",
              "    <tr>\n",
              "      <th>0</th>\n",
              "      <td>3</td>\n",
              "      <td>2004-03-10</td>\n",
              "      <td>21</td>\n",
              "      <td>9.2</td>\n",
              "      <td>836.0</td>\n",
              "      <td>131.0</td>\n",
              "      <td>1205.0</td>\n",
              "      <td>116.0</td>\n",
              "      <td>1490.0</td>\n",
              "      <td>1110.0</td>\n",
              "      <td>11.2</td>\n",
              "      <td>59.6</td>\n",
              "      <td>0.7888</td>\n",
              "      <td>2</td>\n",
              "      <td>3</td>\n",
              "      <td>3.138618</td>\n",
              "      <td>3.146748</td>\n",
              "      <td>3.111263</td>\n",
              "      <td>3.133539</td>\n",
              "      <td>0</td>\n",
              "      <td>0</td>\n",
              "      <td>1</td>\n",
              "      <td>0</td>\n",
              "    </tr>\n",
              "    <tr>\n",
              "      <th>1</th>\n",
              "      <td>4</td>\n",
              "      <td>2004-03-10</td>\n",
              "      <td>22</td>\n",
              "      <td>6.5</td>\n",
              "      <td>750.0</td>\n",
              "      <td>89.0</td>\n",
              "      <td>1337.0</td>\n",
              "      <td>96.0</td>\n",
              "      <td>1393.0</td>\n",
              "      <td>949.0</td>\n",
              "      <td>11.2</td>\n",
              "      <td>59.2</td>\n",
              "      <td>0.7848</td>\n",
              "      <td>2</td>\n",
              "      <td>3</td>\n",
              "      <td>3.104487</td>\n",
              "      <td>3.138618</td>\n",
              "      <td>3.146748</td>\n",
              "      <td>3.111263</td>\n",
              "      <td>0</td>\n",
              "      <td>0</td>\n",
              "      <td>1</td>\n",
              "      <td>0</td>\n",
              "    </tr>\n",
              "    <tr>\n",
              "      <th>2</th>\n",
              "      <td>5</td>\n",
              "      <td>2004-03-10</td>\n",
              "      <td>23</td>\n",
              "      <td>4.7</td>\n",
              "      <td>690.0</td>\n",
              "      <td>62.0</td>\n",
              "      <td>1462.0</td>\n",
              "      <td>77.0</td>\n",
              "      <td>1333.0</td>\n",
              "      <td>733.0</td>\n",
              "      <td>11.3</td>\n",
              "      <td>56.8</td>\n",
              "      <td>0.7603</td>\n",
              "      <td>2</td>\n",
              "      <td>3</td>\n",
              "      <td>3.078094</td>\n",
              "      <td>3.104487</td>\n",
              "      <td>3.138618</td>\n",
              "      <td>3.146748</td>\n",
              "      <td>0</td>\n",
              "      <td>0</td>\n",
              "      <td>1</td>\n",
              "      <td>0</td>\n",
              "    </tr>\n",
              "    <tr>\n",
              "      <th>3</th>\n",
              "      <td>6</td>\n",
              "      <td>2004-03-11</td>\n",
              "      <td>0</td>\n",
              "      <td>3.6</td>\n",
              "      <td>672.0</td>\n",
              "      <td>62.0</td>\n",
              "      <td>1453.0</td>\n",
              "      <td>76.0</td>\n",
              "      <td>1333.0</td>\n",
              "      <td>730.0</td>\n",
              "      <td>10.7</td>\n",
              "      <td>60.0</td>\n",
              "      <td>0.7702</td>\n",
              "      <td>3</td>\n",
              "      <td>3</td>\n",
              "      <td>3.073718</td>\n",
              "      <td>3.078094</td>\n",
              "      <td>3.104487</td>\n",
              "      <td>3.138618</td>\n",
              "      <td>0</td>\n",
              "      <td>0</td>\n",
              "      <td>1</td>\n",
              "      <td>0</td>\n",
              "    </tr>\n",
              "    <tr>\n",
              "      <th>4</th>\n",
              "      <td>7</td>\n",
              "      <td>2004-03-11</td>\n",
              "      <td>1</td>\n",
              "      <td>3.3</td>\n",
              "      <td>609.0</td>\n",
              "      <td>45.0</td>\n",
              "      <td>1579.0</td>\n",
              "      <td>60.0</td>\n",
              "      <td>1276.0</td>\n",
              "      <td>620.0</td>\n",
              "      <td>10.7</td>\n",
              "      <td>59.7</td>\n",
              "      <td>0.7648</td>\n",
              "      <td>3</td>\n",
              "      <td>3</td>\n",
              "      <td>3.055378</td>\n",
              "      <td>3.073718</td>\n",
              "      <td>3.078094</td>\n",
              "      <td>3.104487</td>\n",
              "      <td>0</td>\n",
              "      <td>0</td>\n",
              "      <td>1</td>\n",
              "      <td>0</td>\n",
              "    </tr>\n",
              "  </tbody>\n",
              "</table>\n",
              "</div>\n",
              "      <button class=\"colab-df-convert\" onclick=\"convertToInteractive('df-e00c5757-4fd6-4a4b-880a-e4b7d369b7eb')\"\n",
              "              title=\"Convert this dataframe to an interactive table.\"\n",
              "              style=\"display:none;\">\n",
              "        \n",
              "  <svg xmlns=\"http://www.w3.org/2000/svg\" height=\"24px\"viewBox=\"0 0 24 24\"\n",
              "       width=\"24px\">\n",
              "    <path d=\"M0 0h24v24H0V0z\" fill=\"none\"/>\n",
              "    <path d=\"M18.56 5.44l.94 2.06.94-2.06 2.06-.94-2.06-.94-.94-2.06-.94 2.06-2.06.94zm-11 1L8.5 8.5l.94-2.06 2.06-.94-2.06-.94L8.5 2.5l-.94 2.06-2.06.94zm10 10l.94 2.06.94-2.06 2.06-.94-2.06-.94-.94-2.06-.94 2.06-2.06.94z\"/><path d=\"M17.41 7.96l-1.37-1.37c-.4-.4-.92-.59-1.43-.59-.52 0-1.04.2-1.43.59L10.3 9.45l-7.72 7.72c-.78.78-.78 2.05 0 2.83L4 21.41c.39.39.9.59 1.41.59.51 0 1.02-.2 1.41-.59l7.78-7.78 2.81-2.81c.8-.78.8-2.07 0-2.86zM5.41 20L4 18.59l7.72-7.72 1.47 1.35L5.41 20z\"/>\n",
              "  </svg>\n",
              "      </button>\n",
              "      \n",
              "  <style>\n",
              "    .colab-df-container {\n",
              "      display:flex;\n",
              "      flex-wrap:wrap;\n",
              "      gap: 12px;\n",
              "    }\n",
              "\n",
              "    .colab-df-convert {\n",
              "      background-color: #E8F0FE;\n",
              "      border: none;\n",
              "      border-radius: 50%;\n",
              "      cursor: pointer;\n",
              "      display: none;\n",
              "      fill: #1967D2;\n",
              "      height: 32px;\n",
              "      padding: 0 0 0 0;\n",
              "      width: 32px;\n",
              "    }\n",
              "\n",
              "    .colab-df-convert:hover {\n",
              "      background-color: #E2EBFA;\n",
              "      box-shadow: 0px 1px 2px rgba(60, 64, 67, 0.3), 0px 1px 3px 1px rgba(60, 64, 67, 0.15);\n",
              "      fill: #174EA6;\n",
              "    }\n",
              "\n",
              "    [theme=dark] .colab-df-convert {\n",
              "      background-color: #3B4455;\n",
              "      fill: #D2E3FC;\n",
              "    }\n",
              "\n",
              "    [theme=dark] .colab-df-convert:hover {\n",
              "      background-color: #434B5C;\n",
              "      box-shadow: 0px 1px 3px 1px rgba(0, 0, 0, 0.15);\n",
              "      filter: drop-shadow(0px 1px 2px rgba(0, 0, 0, 0.3));\n",
              "      fill: #FFFFFF;\n",
              "    }\n",
              "  </style>\n",
              "\n",
              "      <script>\n",
              "        const buttonEl =\n",
              "          document.querySelector('#df-e00c5757-4fd6-4a4b-880a-e4b7d369b7eb button.colab-df-convert');\n",
              "        buttonEl.style.display =\n",
              "          google.colab.kernel.accessAllowed ? 'block' : 'none';\n",
              "\n",
              "        async function convertToInteractive(key) {\n",
              "          const element = document.querySelector('#df-e00c5757-4fd6-4a4b-880a-e4b7d369b7eb');\n",
              "          const dataTable =\n",
              "            await google.colab.kernel.invokeFunction('convertToInteractive',\n",
              "                                                     [key], {});\n",
              "          if (!dataTable) return;\n",
              "\n",
              "          const docLinkHtml = 'Like what you see? Visit the ' +\n",
              "            '<a target=\"_blank\" href=https://colab.research.google.com/notebooks/data_table.ipynb>data table notebook</a>'\n",
              "            + ' to learn more about interactive tables.';\n",
              "          element.innerHTML = '';\n",
              "          dataTable['output_type'] = 'display_data';\n",
              "          await google.colab.output.renderOutput(dataTable, element);\n",
              "          const docLink = document.createElement('div');\n",
              "          docLink.innerHTML = docLinkHtml;\n",
              "          element.appendChild(docLink);\n",
              "        }\n",
              "      </script>\n",
              "    </div>\n",
              "  </div>\n",
              "  "
            ],
            "text/plain": [
              "   Unnamed: 0        Date  ...  Estações_Primavera  Estações_Verão\n",
              "0           3  2004-03-10  ...                   1               0\n",
              "1           4  2004-03-10  ...                   1               0\n",
              "2           5  2004-03-10  ...                   1               0\n",
              "3           6  2004-03-11  ...                   1               0\n",
              "4           7  2004-03-11  ...                   1               0\n",
              "\n",
              "[5 rows x 23 columns]"
            ]
          },
          "metadata": {},
          "execution_count": 83
        }
      ]
    },
    {
      "cell_type": "code",
      "source": [
        "Date = df['Date']"
      ],
      "metadata": {
        "id": "ed8go0UllI-o"
      },
      "execution_count": null,
      "outputs": []
    },
    {
      "cell_type": "code",
      "source": [
        "df =df.drop(columns = ['Unnamed: 0']) # Excluido colunas que não estão adicionado informações redundate."
      ],
      "metadata": {
        "id": "n1k7fDlJjeT7"
      },
      "execution_count": null,
      "outputs": []
    },
    {
      "cell_type": "markdown",
      "source": [
        "# Variáveis extras"
      ],
      "metadata": {
        "id": "Ay2NmBejvx72"
      }
    },
    {
      "cell_type": "markdown",
      "source": [
        "### Valor padrão."
      ],
      "metadata": {
        "id": "B9FJgPbatjEt"
      }
    },
    {
      "cell_type": "code",
      "source": [
        "df1 = df.copy()"
      ],
      "metadata": {
        "id": "uzkghdBnJHN-"
      },
      "execution_count": null,
      "outputs": []
    },
    {
      "cell_type": "code",
      "source": [
        "model    = RandomForestRegressor(n_estimators = 100,random_state = 10) # modelo padrão"
      ],
      "metadata": {
        "id": "BNmYcSWxUvgC"
      },
      "execution_count": null,
      "outputs": []
    },
    {
      "cell_type": "code",
      "source": [
        "X = df.drop(columns = ['Target_log','Date'])\n",
        "Y = df['Target_log']"
      ],
      "metadata": {
        "id": "-F091C5qUxQz"
      },
      "execution_count": null,
      "outputs": []
    },
    {
      "cell_type": "code",
      "source": [
        "Ypred,Yv,vetor_MAPE = validation(X,Y,Date)"
      ],
      "metadata": {
        "colab": {
          "base_uri": "https://localhost:8080/"
        },
        "id": "NXAuDG-3UxR9",
        "outputId": "4e606661-799f-4ae6-d3f8-32a37dc3c944"
      },
      "execution_count": null,
      "outputs": [
        {
          "output_type": "stream",
          "name": "stdout",
          "text": [
            "Data: 2004-04-15 - 2004-05-19 -> MAPE: 8.23790\n",
            "Data: 2004-05-19 - 2004-06-24 -> MAPE: 7.59346\n",
            "Data: 2004-06-24 - 2004-07-28 -> MAPE: 3.45366\n",
            "Data: 2004-07-28 - 2004-09-02 -> MAPE: 2.74221\n",
            "Data: 2004-09-02 - 2004-10-07 -> MAPE: 3.51201\n",
            "Data: 2004-10-07 - 2004-11-10 -> MAPE: 3.73439\n",
            "Data: 2004-11-10 - 2004-12-14 -> MAPE: 4.24683\n",
            "Data: 2004-12-14 - 2005-01-22 -> MAPE: 4.18521\n",
            "Data: 2005-01-22 - 2005-03-01 -> MAPE: 3.06368\n",
            "Data: 2005-03-01 - 2005-04-04 -> MAPE: 3.10244\n",
            "\n",
            "\n",
            "Mape Geral: 4.38718 Std: 1.82594 Erro: 0.81658\n"
          ]
        }
      ]
    },
    {
      "cell_type": "markdown",
      "source": [
        "### Difeça entre os lags"
      ],
      "metadata": {
        "id": "XfhbNJdYtp11"
      }
    },
    {
      "cell_type": "code",
      "source": [
        "df2 = df.copy()"
      ],
      "metadata": {
        "id": "PkavIoFyuwB7"
      },
      "execution_count": null,
      "outputs": []
    },
    {
      "cell_type": "code",
      "source": [
        "df2['Diff_1'] = df2['Target_log_dff_1'] - df2['Target_log_dff_2']\n",
        "df2['Diff_2'] = df2['Target_log_dff_2'] - df2['Target_log_dff_3']"
      ],
      "metadata": {
        "id": "s4l-_d6nkiJP"
      },
      "execution_count": null,
      "outputs": []
    },
    {
      "cell_type": "code",
      "source": [
        "X2 = df2.drop(columns = ['Target_log','Date'])\n",
        "Y2 = df2['Target_log']"
      ],
      "metadata": {
        "id": "sG4Hed1RVahE"
      },
      "execution_count": null,
      "outputs": []
    },
    {
      "cell_type": "code",
      "source": [
        "Ypred2,Yv2,vetor_MAPE2 = validation(X2,Y2,Date)"
      ],
      "metadata": {
        "colab": {
          "base_uri": "https://localhost:8080/"
        },
        "id": "yXOXsAzcVaiR",
        "outputId": "a861882d-4ecd-42a7-93fb-d1edb3594e71"
      },
      "execution_count": null,
      "outputs": [
        {
          "output_type": "stream",
          "name": "stdout",
          "text": [
            "Data: 2004-04-15 - 2004-05-19 -> MAPE: 8.14542\n",
            "Data: 2004-05-19 - 2004-06-24 -> MAPE: 7.56151\n",
            "Data: 2004-06-24 - 2004-07-28 -> MAPE: 3.46756\n",
            "Data: 2004-07-28 - 2004-09-02 -> MAPE: 2.73325\n",
            "Data: 2004-09-02 - 2004-10-07 -> MAPE: 3.49027\n",
            "Data: 2004-10-07 - 2004-11-10 -> MAPE: 3.74908\n",
            "Data: 2004-11-10 - 2004-12-14 -> MAPE: 4.20713\n",
            "Data: 2004-12-14 - 2005-01-22 -> MAPE: 4.18139\n",
            "Data: 2005-01-22 - 2005-03-01 -> MAPE: 3.0562\n",
            "Data: 2005-03-01 - 2005-04-04 -> MAPE: 3.09082\n",
            "\n",
            "\n",
            "Mape Geral: 4.36826 Std: 1.80324 Erro: 0.80643\n"
          ]
        }
      ]
    },
    {
      "cell_type": "markdown",
      "source": [
        "### Média\n",
        " \n",
        "\n"
      ],
      "metadata": {
        "id": "ts-kyDbluqfV"
      }
    },
    {
      "cell_type": "code",
      "source": [
        "df3 = df.copy()"
      ],
      "metadata": {
        "id": "eWJVMCYRuHDa"
      },
      "execution_count": null,
      "outputs": []
    },
    {
      "cell_type": "code",
      "source": [
        "df3['Media'] = (df3['Target_log_dff_1'] + df3['Target_log_dff_2'] + df3['Target_log_dff_3'])/3"
      ],
      "metadata": {
        "id": "YBeP9vl3u-ky"
      },
      "execution_count": null,
      "outputs": []
    },
    {
      "cell_type": "code",
      "source": [
        "X3 = df3.drop(columns = ['Target_log','Date'])\n",
        "Y3 = df3['Target_log']"
      ],
      "metadata": {
        "id": "2OeEkZeSV8Vj"
      },
      "execution_count": null,
      "outputs": []
    },
    {
      "cell_type": "code",
      "source": [
        "Ypred3,Yv3,vetor_MAPE3 = validation(X3,Y3,Date)"
      ],
      "metadata": {
        "colab": {
          "base_uri": "https://localhost:8080/"
        },
        "id": "vk2DDszvV8Xi",
        "outputId": "df35a8d5-0534-42e5-d7b2-18509d420d42"
      },
      "execution_count": null,
      "outputs": [
        {
          "output_type": "stream",
          "name": "stdout",
          "text": [
            "Data: 2004-04-15 - 2004-05-19 -> MAPE: 8.1728\n",
            "Data: 2004-05-19 - 2004-06-24 -> MAPE: 7.5809\n",
            "Data: 2004-06-24 - 2004-07-28 -> MAPE: 3.45953\n",
            "Data: 2004-07-28 - 2004-09-02 -> MAPE: 2.74629\n",
            "Data: 2004-09-02 - 2004-10-07 -> MAPE: 3.53481\n",
            "Data: 2004-10-07 - 2004-11-10 -> MAPE: 3.75627\n",
            "Data: 2004-11-10 - 2004-12-14 -> MAPE: 4.23788\n",
            "Data: 2004-12-14 - 2005-01-22 -> MAPE: 4.17222\n",
            "Data: 2005-01-22 - 2005-03-01 -> MAPE: 3.07818\n",
            "Data: 2005-03-01 - 2005-04-04 -> MAPE: 3.09682\n",
            "\n",
            "\n",
            "Mape Geral: 4.38357 Std: 1.80708 Erro: 0.80815\n"
          ]
        }
      ]
    },
    {
      "cell_type": "code",
      "source": [
        ""
      ],
      "metadata": {
        "id": "2XwLYVX6ZuR1"
      },
      "execution_count": null,
      "outputs": []
    },
    {
      "cell_type": "markdown",
      "source": [
        "### Número de lags"
      ],
      "metadata": {
        "id": "QRZs4ob29Yzv"
      }
    },
    {
      "cell_type": "code",
      "source": [
        "df4 = df.copy()"
      ],
      "metadata": {
        "id": "NCpLFlUH9nNJ"
      },
      "execution_count": null,
      "outputs": []
    },
    {
      "cell_type": "code",
      "source": [
        "df4 = df4.drop(columns=['Target_log_dff_1','Target_log_dff_2','Target_log_dff_3'])"
      ],
      "metadata": {
        "id": "LsT72LAs-VID"
      },
      "execution_count": null,
      "outputs": []
    },
    {
      "cell_type": "code",
      "source": [
        "mape_lag = []\n",
        "erro_lag = []"
      ],
      "metadata": {
        "id": "e3lBgBJDS-ME"
      },
      "execution_count": null,
      "outputs": []
    },
    {
      "cell_type": "code",
      "source": [
        "X4 = df4.drop(columns = ['Target_log','Date'])\n",
        "Y4 = df4['Target_log']\n",
        "Ypred4,Yv4,vetor_MAPE4 = validation(X4,Y4,Date)\n",
        "mape_lag.append(np.mean(vetor_MAPE4))\n",
        "erro_lag.append(np.std(vetor_MAPE4)/np.sqrt(10))"
      ],
      "metadata": {
        "colab": {
          "base_uri": "https://localhost:8080/"
        },
        "id": "5AjVrYmvWV9U",
        "outputId": "80cc8df6-e37d-40c2-9173-8789941f8230"
      },
      "execution_count": null,
      "outputs": [
        {
          "output_type": "stream",
          "name": "stdout",
          "text": [
            "Data: 2004-04-15 - 2004-05-19 -> MAPE: 10.51325\n",
            "Data: 2004-05-19 - 2004-06-24 -> MAPE: 9.76714\n",
            "Data: 2004-06-24 - 2004-07-28 -> MAPE: 4.21997\n",
            "Data: 2004-07-28 - 2004-09-02 -> MAPE: 3.44032\n",
            "Data: 2004-09-02 - 2004-10-07 -> MAPE: 4.77458\n",
            "Data: 2004-10-07 - 2004-11-10 -> MAPE: 3.51797\n",
            "Data: 2004-11-10 - 2004-12-14 -> MAPE: 8.12637\n",
            "Data: 2004-12-14 - 2005-01-22 -> MAPE: 5.75848\n",
            "Data: 2005-01-22 - 2005-03-01 -> MAPE: 4.03020\n",
            "Data: 2005-03-01 - 2005-04-04 -> MAPE: 3.5188\n",
            "\n",
            "\n",
            "Mape Geral: 5.76671 Std: 2.56934 Erro: 1.14905\n"
          ]
        }
      ]
    },
    {
      "cell_type": "code",
      "source": [
        "for i in np.arange(1,7):\n",
        "  df4['Target_log_dff_' + str(i)] = df4['Target_log'].shift(i)\n",
        "  df4                             = df4.dropna()\n",
        "  df4.index = np.arange(df4.shape[0])\n",
        "  X4_ = df4.drop(columns = ['Target_log','Date'])\n",
        "  Y4_ = df4['Target_log']\n",
        "  print('lag_'+str(i))\n",
        "  Ypred4,Yv4,vetor_MAPE4 = validation(X4_,Y4_,Date)\n",
        "  mape_lag.append(np.mean(vetor_MAPE4))\n",
        "  erro_lag.append(np.std(vetor_MAPE4)/np.sqrt(10))\n",
        "  print('\\n')\n"
      ],
      "metadata": {
        "colab": {
          "base_uri": "https://localhost:8080/"
        },
        "id": "vAOLH8pia6_E",
        "outputId": "817e39c2-d95e-41c4-a8b1-3a43d944730d"
      },
      "execution_count": null,
      "outputs": [
        {
          "output_type": "stream",
          "name": "stdout",
          "text": [
            "lag_1\n",
            "Data: 2004-04-15 - 2004-05-19 -> MAPE: 8.43510\n",
            "Data: 2004-05-19 - 2004-06-24 -> MAPE: 7.62922\n",
            "Data: 2004-06-24 - 2004-07-28 -> MAPE: 3.46027\n",
            "Data: 2004-07-28 - 2004-09-02 -> MAPE: 2.69040\n",
            "Data: 2004-09-02 - 2004-10-07 -> MAPE: 3.5968\n",
            "Data: 2004-10-07 - 2004-11-10 -> MAPE: 3.76728\n",
            "Data: 2004-11-10 - 2004-12-14 -> MAPE: 4.29153\n",
            "Data: 2004-12-14 - 2005-01-22 -> MAPE: 4.27332\n",
            "Data: 2005-01-22 - 2005-03-01 -> MAPE: 3.10456\n",
            "Data: 2005-03-01 - 2005-04-04 -> MAPE: 3.07596\n",
            "\n",
            "\n",
            "Mape Geral: 4.43244 Std: 1.87109 Erro: 0.83678\n",
            "\n",
            "\n",
            "lag_2\n",
            "Data: 2004-04-15 - 2004-05-19 -> MAPE: 8.14618\n",
            "Data: 2004-05-19 - 2004-06-24 -> MAPE: 7.64143\n",
            "Data: 2004-06-24 - 2004-07-28 -> MAPE: 3.52311\n",
            "Data: 2004-07-28 - 2004-09-02 -> MAPE: 2.68359\n",
            "Data: 2004-09-02 - 2004-10-07 -> MAPE: 3.52416\n",
            "Data: 2004-10-07 - 2004-11-10 -> MAPE: 3.74485\n",
            "Data: 2004-11-10 - 2004-12-14 -> MAPE: 4.31114\n",
            "Data: 2004-12-14 - 2005-01-22 -> MAPE: 4.2364\n",
            "Data: 2005-01-22 - 2005-03-01 -> MAPE: 3.04533\n",
            "Data: 2005-03-01 - 2005-04-04 -> MAPE: 3.06126\n",
            "\n",
            "\n",
            "Mape Geral: 4.39174 Std: 1.81971 Erro: 0.8138\n",
            "\n",
            "\n",
            "lag_3\n",
            "Data: 2004-04-15 - 2004-05-19 -> MAPE: 8.47287\n",
            "Data: 2004-05-19 - 2004-06-24 -> MAPE: 7.72220\n",
            "Data: 2004-06-24 - 2004-07-28 -> MAPE: 3.51302\n",
            "Data: 2004-07-28 - 2004-09-02 -> MAPE: 2.74586\n",
            "Data: 2004-09-02 - 2004-10-07 -> MAPE: 3.59510\n",
            "Data: 2004-10-07 - 2004-11-10 -> MAPE: 3.72178\n",
            "Data: 2004-11-10 - 2004-12-14 -> MAPE: 4.23047\n",
            "Data: 2004-12-14 - 2005-01-22 -> MAPE: 4.16292\n",
            "Data: 2005-01-22 - 2005-03-01 -> MAPE: 3.09550\n",
            "Data: 2005-03-01 - 2005-04-04 -> MAPE: 3.11696\n",
            "\n",
            "\n",
            "Mape Geral: 4.43767 Std: 1.88877 Erro: 0.84469\n",
            "\n",
            "\n",
            "lag_4\n",
            "Data: 2004-04-15 - 2004-05-19 -> MAPE: 8.28451\n",
            "Data: 2004-05-19 - 2004-06-24 -> MAPE: 7.7983\n",
            "Data: 2004-06-24 - 2004-07-28 -> MAPE: 3.49713\n",
            "Data: 2004-07-28 - 2004-09-02 -> MAPE: 2.68840\n",
            "Data: 2004-09-02 - 2004-10-07 -> MAPE: 3.56968\n",
            "Data: 2004-10-07 - 2004-11-10 -> MAPE: 3.75901\n",
            "Data: 2004-11-10 - 2004-12-14 -> MAPE: 4.21781\n",
            "Data: 2004-12-14 - 2005-01-22 -> MAPE: 4.17159\n",
            "Data: 2005-01-22 - 2005-03-01 -> MAPE: 2.99444\n",
            "Data: 2005-03-01 - 2005-04-04 -> MAPE: 3.02149\n",
            "\n",
            "\n",
            "Mape Geral: 4.40024 Std: 1.88266 Erro: 0.84195\n",
            "\n",
            "\n",
            "lag_5\n",
            "Data: 2004-04-15 - 2004-05-19 -> MAPE: 8.72340\n",
            "Data: 2004-05-19 - 2004-06-24 -> MAPE: 8.14271\n",
            "Data: 2004-06-24 - 2004-07-28 -> MAPE: 3.56747\n",
            "Data: 2004-07-28 - 2004-09-02 -> MAPE: 2.68190\n",
            "Data: 2004-09-02 - 2004-10-07 -> MAPE: 3.52314\n",
            "Data: 2004-10-07 - 2004-11-10 -> MAPE: 3.78626\n",
            "Data: 2004-11-10 - 2004-12-13 -> MAPE: 4.19911\n",
            "Data: 2004-12-14 - 2005-01-22 -> MAPE: 4.24282\n",
            "Data: 2005-01-22 - 2005-02-28 -> MAPE: 3.04837\n",
            "Data: 2005-02-28 - 2005-04-03 -> MAPE: 3.06385\n",
            "\n",
            "\n",
            "Mape Geral: 4.49790 Std: 2.02661 Erro: 0.90633\n",
            "\n",
            "\n",
            "lag_6\n",
            "Data: 2004-04-15 - 2004-05-18 -> MAPE: 8.57697\n",
            "Data: 2004-05-18 - 2004-06-24 -> MAPE: 7.98555\n",
            "Data: 2004-06-24 - 2004-07-28 -> MAPE: 3.57920\n",
            "Data: 2004-07-28 - 2004-09-02 -> MAPE: 2.70938\n",
            "Data: 2004-09-02 - 2004-10-06 -> MAPE: 3.5854\n",
            "Data: 2004-10-06 - 2004-11-09 -> MAPE: 3.75391\n",
            "Data: 2004-11-09 - 2004-12-13 -> MAPE: 4.14296\n",
            "Data: 2004-12-13 - 2005-01-22 -> MAPE: 4.26045\n",
            "Data: 2005-01-22 - 2005-02-28 -> MAPE: 3.03438\n",
            "Data: 2005-02-28 - 2005-04-03 -> MAPE: 3.05258\n",
            "\n",
            "\n",
            "Mape Geral: 4.46808 Std: 1.9656 Erro: 0.87904\n",
            "\n",
            "\n"
          ]
        }
      ]
    },
    {
      "cell_type": "code",
      "source": [
        "#erro_lag"
      ],
      "metadata": {
        "id": "ptrMiLDwx8vs"
      },
      "execution_count": null,
      "outputs": []
    },
    {
      "cell_type": "code",
      "source": [
        "plt.rc('ytick', labelsize=14)\n",
        "plt.rc('xtick', labelsize=14)\n",
        "plt.figure(figsize=(8,6))\n",
        "plt.errorbar(np.arange(len(mape_lag)),mape_lag,np.array(erro_lag))\n",
        "plt.title('Lags X Mape', fontsize = 18,fontweight= 'bold')\n",
        "plt.xlabel('Lags', fontsize= 16, fontweight= 'bold')\n",
        "plt.ylabel('Mape', fontsize= 16, fontweight= 'bold')\n",
        "plt.grid(linestyle='--', linewidth=0.5)\n",
        "plt.show()"
      ],
      "metadata": {
        "colab": {
          "base_uri": "https://localhost:8080/",
          "height": 417
        },
        "id": "cqA9MC0OOABW",
        "outputId": "b03ddc8f-7d0e-4208-d00e-657d613845bd"
      },
      "execution_count": null,
      "outputs": [
        {
          "output_type": "display_data",
          "data": {
            "image/png": "[encoded data removed]",
            "text/plain": [
              "<Figure size 576x432 with 1 Axes>"
            ]
          },
          "metadata": {}
        }
      ]
    },
    {
      "cell_type": "code",
      "source": [
        "#mape_lag"
      ],
      "metadata": {
        "id": "cPv1S0dDv20G"
      },
      "execution_count": null,
      "outputs": []
    },
    {
      "cell_type": "markdown",
      "source": [
        "# Conclusão:\n",
        "\n",
        "* Os resultados mostram que o número de lags suficiente para melhorar o desempenho do modelo é de apenas uma Lag. E as outras variáveis que foram adicionadas apresentou uma piora no desempenho do modelo padrão."
      ],
      "metadata": {
        "id": "tJJRlidGWGsf"
      }
    },
    {
      "cell_type": "code",
      "source": [
        "df = df.drop(columns = ['Target_log_dff_2','Target_log_dff_3'])"
      ],
      "metadata": {
        "id": "OAUY7IdBvXdj"
      },
      "execution_count": null,
      "outputs": []
    },
    {
      "cell_type": "code",
      "source": [
        "df.to_csv('/content/drive/My Drive/new_dados4.csv')"
      ],
      "metadata": {
        "id": "uLrSz5cwWgLb"
      },
      "execution_count": null,
      "outputs": []
    },
    {
      "cell_type": "code",
      "source": [
        ""
      ],
      "metadata": {
        "id": "_RsQzG1oW-qf"
      },
      "execution_count": null,
      "outputs": []
    }
  ]
}